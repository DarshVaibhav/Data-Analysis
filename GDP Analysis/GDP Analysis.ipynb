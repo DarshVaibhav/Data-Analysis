{
 "cells": [
  {
   "cell_type": "code",
   "execution_count": 57,
   "id": "a0723278",
   "metadata": {},
   "outputs": [
    {
     "name": "stdout",
     "output_type": "stream",
     "text": [
      "Defaulting to user installation because normal site-packages is not writeable\n",
      "Requirement already satisfied: plotly in c:\\programdata\\anaconda3\\lib\\site-packages (5.9.0)\n",
      "Requirement already satisfied: tenacity>=6.2.0 in c:\\programdata\\anaconda3\\lib\\site-packages (from plotly) (8.0.1)\n"
     ]
    }
   ],
   "source": [
    "!pip install plotly"
   ]
  },
  {
   "cell_type": "code",
   "execution_count": 31,
   "id": "161f27ab",
   "metadata": {},
   "outputs": [],
   "source": [
    "import pandas as pd\n",
    "\n",
    "import plotly.express as px\n",
    "import plotly.offline as pyo\n",
    "import os"
   ]
  },
  {
   "cell_type": "code",
   "execution_count": 2,
   "id": "b562bd8d",
   "metadata": {},
   "outputs": [
    {
     "data": {
      "text/html": [
       "<div>\n",
       "<style scoped>\n",
       "    .dataframe tbody tr th:only-of-type {\n",
       "        vertical-align: middle;\n",
       "    }\n",
       "\n",
       "    .dataframe tbody tr th {\n",
       "        vertical-align: top;\n",
       "    }\n",
       "\n",
       "    .dataframe thead th {\n",
       "        text-align: right;\n",
       "    }\n",
       "</style>\n",
       "<table border=\"1\" class=\"dataframe\">\n",
       "  <thead>\n",
       "    <tr style=\"text-align: right;\">\n",
       "      <th></th>\n",
       "      <th>Country Name</th>\n",
       "      <th>Country Code</th>\n",
       "      <th>Year</th>\n",
       "      <th>Value</th>\n",
       "    </tr>\n",
       "  </thead>\n",
       "  <tbody>\n",
       "    <tr>\n",
       "      <th>0</th>\n",
       "      <td>Arab World</td>\n",
       "      <td>ARB</td>\n",
       "      <td>1968</td>\n",
       "      <td>2.576068e+10</td>\n",
       "    </tr>\n",
       "    <tr>\n",
       "      <th>1</th>\n",
       "      <td>Arab World</td>\n",
       "      <td>ARB</td>\n",
       "      <td>1969</td>\n",
       "      <td>2.843420e+10</td>\n",
       "    </tr>\n",
       "    <tr>\n",
       "      <th>2</th>\n",
       "      <td>Arab World</td>\n",
       "      <td>ARB</td>\n",
       "      <td>1970</td>\n",
       "      <td>3.138550e+10</td>\n",
       "    </tr>\n",
       "    <tr>\n",
       "      <th>3</th>\n",
       "      <td>Arab World</td>\n",
       "      <td>ARB</td>\n",
       "      <td>1971</td>\n",
       "      <td>3.642691e+10</td>\n",
       "    </tr>\n",
       "    <tr>\n",
       "      <th>4</th>\n",
       "      <td>Arab World</td>\n",
       "      <td>ARB</td>\n",
       "      <td>1972</td>\n",
       "      <td>4.331606e+10</td>\n",
       "    </tr>\n",
       "  </tbody>\n",
       "</table>\n",
       "</div>"
      ],
      "text/plain": [
       "  Country Name Country Code  Year         Value\n",
       "0   Arab World          ARB  1968  2.576068e+10\n",
       "1   Arab World          ARB  1969  2.843420e+10\n",
       "2   Arab World          ARB  1970  3.138550e+10\n",
       "3   Arab World          ARB  1971  3.642691e+10\n",
       "4   Arab World          ARB  1972  4.331606e+10"
      ]
     },
     "execution_count": 2,
     "metadata": {},
     "output_type": "execute_result"
    }
   ],
   "source": [
    "df = pd.read_csv('gdp.csv')\n",
    "df.head()"
   ]
  },
  {
   "cell_type": "code",
   "execution_count": 41,
   "id": "1a58d34f",
   "metadata": {
    "scrolled": true
   },
   "outputs": [
    {
     "data": {
      "text/plain": [
       "array(['Arab World', 'Caribbean small states',\n",
       "       'Central Europe and the Baltics', 'Early-demographic dividend',\n",
       "       'East Asia & Pacific',\n",
       "       'East Asia & Pacific (excluding high income)',\n",
       "       'East Asia & Pacific (IDA & IBRD countries)', 'Euro area',\n",
       "       'Europe & Central Asia',\n",
       "       'Europe & Central Asia (excluding high income)',\n",
       "       'Europe & Central Asia (IDA & IBRD countries)', 'European Union',\n",
       "       'Fragile and conflict affected situations',\n",
       "       'Heavily indebted poor countries (HIPC)', 'High income',\n",
       "       'IBRD only', 'IDA & IBRD total', 'IDA blend', 'IDA only',\n",
       "       'IDA total', 'Late-demographic dividend',\n",
       "       'Latin America & Caribbean',\n",
       "       'Latin America & Caribbean (excluding high income)',\n",
       "       'Latin America & the Caribbean (IDA & IBRD countries)',\n",
       "       'Least developed countries: UN classification',\n",
       "       'Low & middle income', 'Low income', 'Lower middle income',\n",
       "       'Middle East & North Africa',\n",
       "       'Middle East & North Africa (excluding high income)',\n",
       "       'Middle East & North Africa (IDA & IBRD countries)',\n",
       "       'Middle income', 'North America', 'OECD members',\n",
       "       'Other small states', 'Pacific island small states',\n",
       "       'Post-demographic dividend', 'Pre-demographic dividend',\n",
       "       'Small states', 'South Asia', 'South Asia (IDA & IBRD)',\n",
       "       'Sub-Saharan Africa', 'Sub-Saharan Africa (excluding high income)',\n",
       "       'Sub-Saharan Africa (IDA & IBRD countries)', 'Upper middle income',\n",
       "       'World', 'Afghanistan', 'Albania', 'Algeria', 'American Samoa',\n",
       "       'Andorra', 'Angola', 'Antigua and Barbuda', 'Argentina', 'Armenia',\n",
       "       'Aruba', 'Australia', 'Austria', 'Azerbaijan', 'Bahamas, The',\n",
       "       'Bahrain', 'Bangladesh', 'Barbados', 'Belarus', 'Belgium',\n",
       "       'Belize', 'Benin', 'Bermuda', 'Bhutan', 'Bolivia',\n",
       "       'Bosnia and Herzegovina', 'Botswana', 'Brazil',\n",
       "       'Brunei Darussalam', 'Bulgaria', 'Burkina Faso', 'Burundi',\n",
       "       'Cabo Verde', 'Cambodia', 'Cameroon', 'Canada', 'Cayman Islands',\n",
       "       'Central African Republic', 'Chad', 'Channel Islands', 'Chile',\n",
       "       'China', 'Colombia', 'Comoros', 'Congo, Dem. Rep.', 'Congo, Rep.',\n",
       "       'Costa Rica', \"Cote d'Ivoire\", 'Croatia', 'Cuba', 'Cyprus',\n",
       "       'Czech Republic', 'Denmark', 'Djibouti', 'Dominica',\n",
       "       'Dominican Republic', 'Ecuador', 'Egypt, Arab Rep.', 'El Salvador',\n",
       "       'Equatorial Guinea', 'Eritrea', 'Estonia', 'Ethiopia',\n",
       "       'Faroe Islands', 'Fiji', 'Finland', 'France', 'French Polynesia',\n",
       "       'Gabon', 'Gambia, The', 'Georgia', 'Germany', 'Ghana', 'Greece',\n",
       "       'Greenland', 'Grenada', 'Guam', 'Guatemala', 'Guinea',\n",
       "       'Guinea-Bissau', 'Guyana', 'Haiti', 'Honduras',\n",
       "       'Hong Kong SAR, China', 'Hungary', 'Iceland', 'India', 'Indonesia',\n",
       "       'Iran, Islamic Rep.', 'Iraq', 'Ireland', 'Isle of Man', 'Israel',\n",
       "       'Italy', 'Jamaica', 'Japan', 'Jordan', 'Kazakhstan', 'Kenya',\n",
       "       'Kiribati', 'Korea, Rep.', 'Kosovo', 'Kuwait', 'Kyrgyz Republic',\n",
       "       'Lao PDR', 'Latvia', 'Lebanon', 'Lesotho', 'Liberia', 'Libya',\n",
       "       'Liechtenstein', 'Lithuania', 'Luxembourg', 'Macao SAR, China',\n",
       "       'Macedonia, FYR', 'Madagascar', 'Malawi', 'Malaysia', 'Maldives',\n",
       "       'Mali', 'Malta', 'Marshall Islands', 'Mauritania', 'Mauritius',\n",
       "       'Mexico', 'Micronesia, Fed. Sts.', 'Moldova', 'Monaco', 'Mongolia',\n",
       "       'Montenegro', 'Morocco', 'Mozambique', 'Myanmar', 'Namibia',\n",
       "       'Nauru', 'Nepal', 'Netherlands', 'New Caledonia', 'New Zealand',\n",
       "       'Nicaragua', 'Niger', 'Nigeria', 'Northern Mariana Islands',\n",
       "       'Norway', 'Oman', 'Pakistan', 'Palau', 'Panama',\n",
       "       'Papua New Guinea', 'Paraguay', 'Peru', 'Philippines', 'Poland',\n",
       "       'Portugal', 'Puerto Rico', 'Qatar', 'Romania',\n",
       "       'Russian Federation', 'Rwanda', 'Samoa', 'San Marino',\n",
       "       'Sao Tome and Principe', 'Saudi Arabia', 'Senegal', 'Serbia',\n",
       "       'Seychelles', 'Sierra Leone', 'Singapore', 'Slovak Republic',\n",
       "       'Slovenia', 'Solomon Islands', 'Somalia', 'South Africa',\n",
       "       'South Sudan', 'Spain', 'Sri Lanka', 'St. Kitts and Nevis',\n",
       "       'St. Lucia', 'St. Vincent and the Grenadines', 'Sudan', 'Suriname',\n",
       "       'Swaziland', 'Sweden', 'Switzerland', 'Syrian Arab Republic',\n",
       "       'Tajikistan', 'Tanzania', 'Thailand', 'Timor-Leste', 'Togo',\n",
       "       'Tonga', 'Trinidad and Tobago', 'Tunisia', 'Turkey',\n",
       "       'Turkmenistan', 'Tuvalu', 'Uganda', 'Ukraine',\n",
       "       'United Arab Emirates', 'United Kingdom', 'United States',\n",
       "       'Uruguay', 'Uzbekistan', 'Vanuatu', 'Venezuela, RB', 'Vietnam',\n",
       "       'Virgin Islands (U.S.)', 'West Bank and Gaza', 'Yemen, Rep.',\n",
       "       'Zambia', 'Zimbabwe'], dtype=object)"
      ]
     },
     "execution_count": 41,
     "metadata": {},
     "output_type": "execute_result"
    }
   ],
   "source": [
    "df['Country Name'].unique()"
   ]
  },
  {
   "cell_type": "code",
   "execution_count": 5,
   "id": "14ab7031",
   "metadata": {},
   "outputs": [
    {
     "data": {
      "text/plain": [
       "0        Arab World\n",
       "1        Arab World\n",
       "2        Arab World\n",
       "3        Arab World\n",
       "4        Arab World\n",
       "            ...    \n",
       "11502      Zimbabwe\n",
       "11503      Zimbabwe\n",
       "11504      Zimbabwe\n",
       "11505      Zimbabwe\n",
       "11506      Zimbabwe\n",
       "Name: Country Name, Length: 11507, dtype: object"
      ]
     },
     "execution_count": 5,
     "metadata": {},
     "output_type": "execute_result"
    }
   ],
   "source": [
    "df['Country Name']"
   ]
  },
  {
   "cell_type": "code",
   "execution_count": 7,
   "id": "fec50f56",
   "metadata": {},
   "outputs": [
    {
     "name": "stdout",
     "output_type": "stream",
     "text": [
      "11507\n"
     ]
    }
   ],
   "source": [
    "print(len(df['Country Name']))"
   ]
  },
  {
   "cell_type": "code",
   "execution_count": 102,
   "id": "39a4ef2d",
   "metadata": {},
   "outputs": [
    {
     "data": {
      "text/plain": [
       "57"
      ]
     },
     "execution_count": 102,
     "metadata": {},
     "output_type": "execute_result"
    }
   ],
   "source": [
    "df['Year'].nunique()"
   ]
  },
  {
   "cell_type": "code",
   "execution_count": 10,
   "id": "2b7d2a1f",
   "metadata": {},
   "outputs": [
    {
     "data": {
      "text/plain": [
       "11507"
      ]
     },
     "execution_count": 10,
     "metadata": {},
     "output_type": "execute_result"
    }
   ],
   "source": [
    "len(df['Year'])"
   ]
  },
  {
   "cell_type": "code",
   "execution_count": 12,
   "id": "a40c10c6",
   "metadata": {
    "collapsed": true
   },
   "outputs": [
    {
     "data": {
      "text/html": [
       "<div>\n",
       "<style scoped>\n",
       "    .dataframe tbody tr th:only-of-type {\n",
       "        vertical-align: middle;\n",
       "    }\n",
       "\n",
       "    .dataframe tbody tr th {\n",
       "        vertical-align: top;\n",
       "    }\n",
       "\n",
       "    .dataframe thead th {\n",
       "        text-align: right;\n",
       "    }\n",
       "</style>\n",
       "<table border=\"1\" class=\"dataframe\">\n",
       "  <thead>\n",
       "    <tr style=\"text-align: right;\">\n",
       "      <th></th>\n",
       "      <th>Country Name</th>\n",
       "      <th>Country Code</th>\n",
       "      <th>Year</th>\n",
       "      <th>Value</th>\n",
       "    </tr>\n",
       "  </thead>\n",
       "  <tbody>\n",
       "    <tr>\n",
       "      <th>6074</th>\n",
       "      <td>India</td>\n",
       "      <td>IND</td>\n",
       "      <td>1960</td>\n",
       "      <td>3.653593e+10</td>\n",
       "    </tr>\n",
       "    <tr>\n",
       "      <th>6075</th>\n",
       "      <td>India</td>\n",
       "      <td>IND</td>\n",
       "      <td>1961</td>\n",
       "      <td>3.870910e+10</td>\n",
       "    </tr>\n",
       "    <tr>\n",
       "      <th>6076</th>\n",
       "      <td>India</td>\n",
       "      <td>IND</td>\n",
       "      <td>1962</td>\n",
       "      <td>4.159907e+10</td>\n",
       "    </tr>\n",
       "    <tr>\n",
       "      <th>6077</th>\n",
       "      <td>India</td>\n",
       "      <td>IND</td>\n",
       "      <td>1963</td>\n",
       "      <td>4.777600e+10</td>\n",
       "    </tr>\n",
       "    <tr>\n",
       "      <th>6078</th>\n",
       "      <td>India</td>\n",
       "      <td>IND</td>\n",
       "      <td>1964</td>\n",
       "      <td>5.572687e+10</td>\n",
       "    </tr>\n",
       "    <tr>\n",
       "      <th>6079</th>\n",
       "      <td>India</td>\n",
       "      <td>IND</td>\n",
       "      <td>1965</td>\n",
       "      <td>5.876042e+10</td>\n",
       "    </tr>\n",
       "    <tr>\n",
       "      <th>6080</th>\n",
       "      <td>India</td>\n",
       "      <td>IND</td>\n",
       "      <td>1966</td>\n",
       "      <td>4.525364e+10</td>\n",
       "    </tr>\n",
       "    <tr>\n",
       "      <th>6081</th>\n",
       "      <td>India</td>\n",
       "      <td>IND</td>\n",
       "      <td>1967</td>\n",
       "      <td>4.946617e+10</td>\n",
       "    </tr>\n",
       "    <tr>\n",
       "      <th>6082</th>\n",
       "      <td>India</td>\n",
       "      <td>IND</td>\n",
       "      <td>1968</td>\n",
       "      <td>5.237732e+10</td>\n",
       "    </tr>\n",
       "    <tr>\n",
       "      <th>6083</th>\n",
       "      <td>India</td>\n",
       "      <td>IND</td>\n",
       "      <td>1969</td>\n",
       "      <td>5.766833e+10</td>\n",
       "    </tr>\n",
       "    <tr>\n",
       "      <th>6084</th>\n",
       "      <td>India</td>\n",
       "      <td>IND</td>\n",
       "      <td>1970</td>\n",
       "      <td>6.158980e+10</td>\n",
       "    </tr>\n",
       "    <tr>\n",
       "      <th>6085</th>\n",
       "      <td>India</td>\n",
       "      <td>IND</td>\n",
       "      <td>1971</td>\n",
       "      <td>6.645256e+10</td>\n",
       "    </tr>\n",
       "    <tr>\n",
       "      <th>6086</th>\n",
       "      <td>India</td>\n",
       "      <td>IND</td>\n",
       "      <td>1972</td>\n",
       "      <td>7.050991e+10</td>\n",
       "    </tr>\n",
       "    <tr>\n",
       "      <th>6087</th>\n",
       "      <td>India</td>\n",
       "      <td>IND</td>\n",
       "      <td>1973</td>\n",
       "      <td>8.437454e+10</td>\n",
       "    </tr>\n",
       "    <tr>\n",
       "      <th>6088</th>\n",
       "      <td>India</td>\n",
       "      <td>IND</td>\n",
       "      <td>1974</td>\n",
       "      <td>9.819828e+10</td>\n",
       "    </tr>\n",
       "    <tr>\n",
       "      <th>6089</th>\n",
       "      <td>India</td>\n",
       "      <td>IND</td>\n",
       "      <td>1975</td>\n",
       "      <td>9.715922e+10</td>\n",
       "    </tr>\n",
       "    <tr>\n",
       "      <th>6090</th>\n",
       "      <td>India</td>\n",
       "      <td>IND</td>\n",
       "      <td>1976</td>\n",
       "      <td>1.013470e+11</td>\n",
       "    </tr>\n",
       "    <tr>\n",
       "      <th>6091</th>\n",
       "      <td>India</td>\n",
       "      <td>IND</td>\n",
       "      <td>1977</td>\n",
       "      <td>1.198667e+11</td>\n",
       "    </tr>\n",
       "    <tr>\n",
       "      <th>6092</th>\n",
       "      <td>India</td>\n",
       "      <td>IND</td>\n",
       "      <td>1978</td>\n",
       "      <td>1.354688e+11</td>\n",
       "    </tr>\n",
       "    <tr>\n",
       "      <th>6093</th>\n",
       "      <td>India</td>\n",
       "      <td>IND</td>\n",
       "      <td>1979</td>\n",
       "      <td>1.509508e+11</td>\n",
       "    </tr>\n",
       "    <tr>\n",
       "      <th>6094</th>\n",
       "      <td>India</td>\n",
       "      <td>IND</td>\n",
       "      <td>1980</td>\n",
       "      <td>1.838399e+11</td>\n",
       "    </tr>\n",
       "    <tr>\n",
       "      <th>6095</th>\n",
       "      <td>India</td>\n",
       "      <td>IND</td>\n",
       "      <td>1981</td>\n",
       "      <td>1.909095e+11</td>\n",
       "    </tr>\n",
       "    <tr>\n",
       "      <th>6096</th>\n",
       "      <td>India</td>\n",
       "      <td>IND</td>\n",
       "      <td>1982</td>\n",
       "      <td>1.980377e+11</td>\n",
       "    </tr>\n",
       "    <tr>\n",
       "      <th>6097</th>\n",
       "      <td>India</td>\n",
       "      <td>IND</td>\n",
       "      <td>1983</td>\n",
       "      <td>2.153508e+11</td>\n",
       "    </tr>\n",
       "    <tr>\n",
       "      <th>6098</th>\n",
       "      <td>India</td>\n",
       "      <td>IND</td>\n",
       "      <td>1984</td>\n",
       "      <td>2.093282e+11</td>\n",
       "    </tr>\n",
       "    <tr>\n",
       "      <th>6099</th>\n",
       "      <td>India</td>\n",
       "      <td>IND</td>\n",
       "      <td>1985</td>\n",
       "      <td>2.294103e+11</td>\n",
       "    </tr>\n",
       "    <tr>\n",
       "      <th>6100</th>\n",
       "      <td>India</td>\n",
       "      <td>IND</td>\n",
       "      <td>1986</td>\n",
       "      <td>2.456647e+11</td>\n",
       "    </tr>\n",
       "    <tr>\n",
       "      <th>6101</th>\n",
       "      <td>India</td>\n",
       "      <td>IND</td>\n",
       "      <td>1987</td>\n",
       "      <td>2.753114e+11</td>\n",
       "    </tr>\n",
       "    <tr>\n",
       "      <th>6102</th>\n",
       "      <td>India</td>\n",
       "      <td>IND</td>\n",
       "      <td>1988</td>\n",
       "      <td>2.926327e+11</td>\n",
       "    </tr>\n",
       "    <tr>\n",
       "      <th>6103</th>\n",
       "      <td>India</td>\n",
       "      <td>IND</td>\n",
       "      <td>1989</td>\n",
       "      <td>2.920933e+11</td>\n",
       "    </tr>\n",
       "    <tr>\n",
       "      <th>6104</th>\n",
       "      <td>India</td>\n",
       "      <td>IND</td>\n",
       "      <td>1990</td>\n",
       "      <td>3.166973e+11</td>\n",
       "    </tr>\n",
       "    <tr>\n",
       "      <th>6105</th>\n",
       "      <td>India</td>\n",
       "      <td>IND</td>\n",
       "      <td>1991</td>\n",
       "      <td>2.665023e+11</td>\n",
       "    </tr>\n",
       "    <tr>\n",
       "      <th>6106</th>\n",
       "      <td>India</td>\n",
       "      <td>IND</td>\n",
       "      <td>1992</td>\n",
       "      <td>2.843639e+11</td>\n",
       "    </tr>\n",
       "    <tr>\n",
       "      <th>6107</th>\n",
       "      <td>India</td>\n",
       "      <td>IND</td>\n",
       "      <td>1993</td>\n",
       "      <td>2.755704e+11</td>\n",
       "    </tr>\n",
       "    <tr>\n",
       "      <th>6108</th>\n",
       "      <td>India</td>\n",
       "      <td>IND</td>\n",
       "      <td>1994</td>\n",
       "      <td>3.229099e+11</td>\n",
       "    </tr>\n",
       "    <tr>\n",
       "      <th>6109</th>\n",
       "      <td>India</td>\n",
       "      <td>IND</td>\n",
       "      <td>1995</td>\n",
       "      <td>3.554760e+11</td>\n",
       "    </tr>\n",
       "    <tr>\n",
       "      <th>6110</th>\n",
       "      <td>India</td>\n",
       "      <td>IND</td>\n",
       "      <td>1996</td>\n",
       "      <td>3.876560e+11</td>\n",
       "    </tr>\n",
       "    <tr>\n",
       "      <th>6111</th>\n",
       "      <td>India</td>\n",
       "      <td>IND</td>\n",
       "      <td>1997</td>\n",
       "      <td>4.103203e+11</td>\n",
       "    </tr>\n",
       "    <tr>\n",
       "      <th>6112</th>\n",
       "      <td>India</td>\n",
       "      <td>IND</td>\n",
       "      <td>1998</td>\n",
       "      <td>4.157309e+11</td>\n",
       "    </tr>\n",
       "    <tr>\n",
       "      <th>6113</th>\n",
       "      <td>India</td>\n",
       "      <td>IND</td>\n",
       "      <td>1999</td>\n",
       "      <td>4.527000e+11</td>\n",
       "    </tr>\n",
       "    <tr>\n",
       "      <th>6114</th>\n",
       "      <td>India</td>\n",
       "      <td>IND</td>\n",
       "      <td>2000</td>\n",
       "      <td>4.621468e+11</td>\n",
       "    </tr>\n",
       "    <tr>\n",
       "      <th>6115</th>\n",
       "      <td>India</td>\n",
       "      <td>IND</td>\n",
       "      <td>2001</td>\n",
       "      <td>4.789655e+11</td>\n",
       "    </tr>\n",
       "    <tr>\n",
       "      <th>6116</th>\n",
       "      <td>India</td>\n",
       "      <td>IND</td>\n",
       "      <td>2002</td>\n",
       "      <td>5.080690e+11</td>\n",
       "    </tr>\n",
       "    <tr>\n",
       "      <th>6117</th>\n",
       "      <td>India</td>\n",
       "      <td>IND</td>\n",
       "      <td>2003</td>\n",
       "      <td>5.995929e+11</td>\n",
       "    </tr>\n",
       "    <tr>\n",
       "      <th>6118</th>\n",
       "      <td>India</td>\n",
       "      <td>IND</td>\n",
       "      <td>2004</td>\n",
       "      <td>6.996889e+11</td>\n",
       "    </tr>\n",
       "    <tr>\n",
       "      <th>6119</th>\n",
       "      <td>India</td>\n",
       "      <td>IND</td>\n",
       "      <td>2005</td>\n",
       "      <td>8.089011e+11</td>\n",
       "    </tr>\n",
       "    <tr>\n",
       "      <th>6120</th>\n",
       "      <td>India</td>\n",
       "      <td>IND</td>\n",
       "      <td>2006</td>\n",
       "      <td>9.203165e+11</td>\n",
       "    </tr>\n",
       "    <tr>\n",
       "      <th>6121</th>\n",
       "      <td>India</td>\n",
       "      <td>IND</td>\n",
       "      <td>2007</td>\n",
       "      <td>1.201112e+12</td>\n",
       "    </tr>\n",
       "    <tr>\n",
       "      <th>6122</th>\n",
       "      <td>India</td>\n",
       "      <td>IND</td>\n",
       "      <td>2008</td>\n",
       "      <td>1.186953e+12</td>\n",
       "    </tr>\n",
       "    <tr>\n",
       "      <th>6123</th>\n",
       "      <td>India</td>\n",
       "      <td>IND</td>\n",
       "      <td>2009</td>\n",
       "      <td>1.323940e+12</td>\n",
       "    </tr>\n",
       "    <tr>\n",
       "      <th>6124</th>\n",
       "      <td>India</td>\n",
       "      <td>IND</td>\n",
       "      <td>2010</td>\n",
       "      <td>1.656617e+12</td>\n",
       "    </tr>\n",
       "    <tr>\n",
       "      <th>6125</th>\n",
       "      <td>India</td>\n",
       "      <td>IND</td>\n",
       "      <td>2011</td>\n",
       "      <td>1.823050e+12</td>\n",
       "    </tr>\n",
       "    <tr>\n",
       "      <th>6126</th>\n",
       "      <td>India</td>\n",
       "      <td>IND</td>\n",
       "      <td>2012</td>\n",
       "      <td>1.827638e+12</td>\n",
       "    </tr>\n",
       "    <tr>\n",
       "      <th>6127</th>\n",
       "      <td>India</td>\n",
       "      <td>IND</td>\n",
       "      <td>2013</td>\n",
       "      <td>1.856722e+12</td>\n",
       "    </tr>\n",
       "    <tr>\n",
       "      <th>6128</th>\n",
       "      <td>India</td>\n",
       "      <td>IND</td>\n",
       "      <td>2014</td>\n",
       "      <td>2.035393e+12</td>\n",
       "    </tr>\n",
       "    <tr>\n",
       "      <th>6129</th>\n",
       "      <td>India</td>\n",
       "      <td>IND</td>\n",
       "      <td>2015</td>\n",
       "      <td>2.089865e+12</td>\n",
       "    </tr>\n",
       "    <tr>\n",
       "      <th>6130</th>\n",
       "      <td>India</td>\n",
       "      <td>IND</td>\n",
       "      <td>2016</td>\n",
       "      <td>2.263792e+12</td>\n",
       "    </tr>\n",
       "  </tbody>\n",
       "</table>\n",
       "</div>"
      ],
      "text/plain": [
       "     Country Name Country Code  Year         Value\n",
       "6074        India          IND  1960  3.653593e+10\n",
       "6075        India          IND  1961  3.870910e+10\n",
       "6076        India          IND  1962  4.159907e+10\n",
       "6077        India          IND  1963  4.777600e+10\n",
       "6078        India          IND  1964  5.572687e+10\n",
       "6079        India          IND  1965  5.876042e+10\n",
       "6080        India          IND  1966  4.525364e+10\n",
       "6081        India          IND  1967  4.946617e+10\n",
       "6082        India          IND  1968  5.237732e+10\n",
       "6083        India          IND  1969  5.766833e+10\n",
       "6084        India          IND  1970  6.158980e+10\n",
       "6085        India          IND  1971  6.645256e+10\n",
       "6086        India          IND  1972  7.050991e+10\n",
       "6087        India          IND  1973  8.437454e+10\n",
       "6088        India          IND  1974  9.819828e+10\n",
       "6089        India          IND  1975  9.715922e+10\n",
       "6090        India          IND  1976  1.013470e+11\n",
       "6091        India          IND  1977  1.198667e+11\n",
       "6092        India          IND  1978  1.354688e+11\n",
       "6093        India          IND  1979  1.509508e+11\n",
       "6094        India          IND  1980  1.838399e+11\n",
       "6095        India          IND  1981  1.909095e+11\n",
       "6096        India          IND  1982  1.980377e+11\n",
       "6097        India          IND  1983  2.153508e+11\n",
       "6098        India          IND  1984  2.093282e+11\n",
       "6099        India          IND  1985  2.294103e+11\n",
       "6100        India          IND  1986  2.456647e+11\n",
       "6101        India          IND  1987  2.753114e+11\n",
       "6102        India          IND  1988  2.926327e+11\n",
       "6103        India          IND  1989  2.920933e+11\n",
       "6104        India          IND  1990  3.166973e+11\n",
       "6105        India          IND  1991  2.665023e+11\n",
       "6106        India          IND  1992  2.843639e+11\n",
       "6107        India          IND  1993  2.755704e+11\n",
       "6108        India          IND  1994  3.229099e+11\n",
       "6109        India          IND  1995  3.554760e+11\n",
       "6110        India          IND  1996  3.876560e+11\n",
       "6111        India          IND  1997  4.103203e+11\n",
       "6112        India          IND  1998  4.157309e+11\n",
       "6113        India          IND  1999  4.527000e+11\n",
       "6114        India          IND  2000  4.621468e+11\n",
       "6115        India          IND  2001  4.789655e+11\n",
       "6116        India          IND  2002  5.080690e+11\n",
       "6117        India          IND  2003  5.995929e+11\n",
       "6118        India          IND  2004  6.996889e+11\n",
       "6119        India          IND  2005  8.089011e+11\n",
       "6120        India          IND  2006  9.203165e+11\n",
       "6121        India          IND  2007  1.201112e+12\n",
       "6122        India          IND  2008  1.186953e+12\n",
       "6123        India          IND  2009  1.323940e+12\n",
       "6124        India          IND  2010  1.656617e+12\n",
       "6125        India          IND  2011  1.823050e+12\n",
       "6126        India          IND  2012  1.827638e+12\n",
       "6127        India          IND  2013  1.856722e+12\n",
       "6128        India          IND  2014  2.035393e+12\n",
       "6129        India          IND  2015  2.089865e+12\n",
       "6130        India          IND  2016  2.263792e+12"
      ]
     },
     "execution_count": 12,
     "metadata": {},
     "output_type": "execute_result"
    }
   ],
   "source": [
    "df[df['Country Name'] == 'India']"
   ]
  },
  {
   "cell_type": "code",
   "execution_count": 13,
   "id": "38659d83",
   "metadata": {},
   "outputs": [],
   "source": [
    "df_pr = df[df['Country Name'] == 'India']"
   ]
  },
  {
   "cell_type": "code",
   "execution_count": 15,
   "id": "41840cac",
   "metadata": {},
   "outputs": [
    {
     "data": {
      "text/plain": [
       "<AxesSubplot:xlabel='Year'>"
      ]
     },
     "execution_count": 15,
     "metadata": {},
     "output_type": "execute_result"
    },
    {
     "data": {
      "image/png": "[encoded data removed]",
      "text/plain": [
       "<Figure size 640x480 with 1 Axes>"
      ]
     },
     "metadata": {},
     "output_type": "display_data"
    }
   ],
   "source": [
    "df_pr.plot(kind ='bar',x = 'Year', y = 'Value')"
   ]
  },
  {
   "cell_type": "code",
   "execution_count": 23,
   "id": "bf6f95b2",
   "metadata": {},
   "outputs": [
    {
     "data": {
      "text/plain": [
       "<AxesSubplot:xlabel='GDP', ylabel='YEARS'>"
      ]
     },
     "execution_count": 23,
     "metadata": {},
     "output_type": "execute_result"
    },
    {
     "data": {
      "image/png": "[encoded data removed]",
      "text/plain": [
       "<Figure size 1500x600 with 1 Axes>"
      ]
     },
     "metadata": {},
     "output_type": "display_data"
    }
   ],
   "source": [
    "df_pr.plot(kind ='line',x = 'Year', y = 'Value', grid = True, figsize = (15,6), xlabel = 'GDP', ylabel ='YEARS')"
   ]
  },
  {
   "cell_type": "code",
   "execution_count": 24,
   "id": "3ed0f0d5",
   "metadata": {},
   "outputs": [
    {
     "data": {
      "text/plain": [
       "27.01"
      ]
     },
     "execution_count": 24,
     "metadata": {},
     "output_type": "execute_result"
    }
   ],
   "source": [
    "#to check %change in gdp\n",
    "# 1968 - 2576\n",
    "# 1969 - 2843\n",
    "# 1970 - 3138\n",
    "round(((5501 - 4331) / 4331)*100,2)"
   ]
  },
  {
   "cell_type": "code",
   "execution_count": 25,
   "id": "e827ead6",
   "metadata": {},
   "outputs": [],
   "source": [
    "data = df_pr.values\n",
    "\n",
    "gdp_change = [0]\n",
    "\n",
    "for i in range(1,len(data)):\n",
    "    \n",
    "    prev = data[i-1][3]\n",
    "    cur = data[i][3]\n",
    "    \n",
    "    gdp_change.append(round(((cur - prev) / prev)*100,2))"
   ]
  },
  {
   "cell_type": "code",
   "execution_count": 26,
   "id": "192acfdf",
   "metadata": {},
   "outputs": [
    {
     "data": {
      "text/html": [
       "<div>\n",
       "<style scoped>\n",
       "    .dataframe tbody tr th:only-of-type {\n",
       "        vertical-align: middle;\n",
       "    }\n",
       "\n",
       "    .dataframe tbody tr th {\n",
       "        vertical-align: top;\n",
       "    }\n",
       "\n",
       "    .dataframe thead th {\n",
       "        text-align: right;\n",
       "    }\n",
       "</style>\n",
       "<table border=\"1\" class=\"dataframe\">\n",
       "  <thead>\n",
       "    <tr style=\"text-align: right;\">\n",
       "      <th></th>\n",
       "      <th>Country Name</th>\n",
       "      <th>Country Code</th>\n",
       "      <th>Year</th>\n",
       "      <th>Value</th>\n",
       "      <th>GDP</th>\n",
       "    </tr>\n",
       "  </thead>\n",
       "  <tbody>\n",
       "    <tr>\n",
       "      <th>6074</th>\n",
       "      <td>India</td>\n",
       "      <td>IND</td>\n",
       "      <td>1960</td>\n",
       "      <td>3.653593e+10</td>\n",
       "      <td>0.00</td>\n",
       "    </tr>\n",
       "    <tr>\n",
       "      <th>6075</th>\n",
       "      <td>India</td>\n",
       "      <td>IND</td>\n",
       "      <td>1961</td>\n",
       "      <td>3.870910e+10</td>\n",
       "      <td>5.95</td>\n",
       "    </tr>\n",
       "    <tr>\n",
       "      <th>6076</th>\n",
       "      <td>India</td>\n",
       "      <td>IND</td>\n",
       "      <td>1962</td>\n",
       "      <td>4.159907e+10</td>\n",
       "      <td>7.47</td>\n",
       "    </tr>\n",
       "    <tr>\n",
       "      <th>6077</th>\n",
       "      <td>India</td>\n",
       "      <td>IND</td>\n",
       "      <td>1963</td>\n",
       "      <td>4.777600e+10</td>\n",
       "      <td>14.85</td>\n",
       "    </tr>\n",
       "    <tr>\n",
       "      <th>6078</th>\n",
       "      <td>India</td>\n",
       "      <td>IND</td>\n",
       "      <td>1964</td>\n",
       "      <td>5.572687e+10</td>\n",
       "      <td>16.64</td>\n",
       "    </tr>\n",
       "    <tr>\n",
       "      <th>6079</th>\n",
       "      <td>India</td>\n",
       "      <td>IND</td>\n",
       "      <td>1965</td>\n",
       "      <td>5.876042e+10</td>\n",
       "      <td>5.44</td>\n",
       "    </tr>\n",
       "    <tr>\n",
       "      <th>6080</th>\n",
       "      <td>India</td>\n",
       "      <td>IND</td>\n",
       "      <td>1966</td>\n",
       "      <td>4.525364e+10</td>\n",
       "      <td>-22.99</td>\n",
       "    </tr>\n",
       "    <tr>\n",
       "      <th>6081</th>\n",
       "      <td>India</td>\n",
       "      <td>IND</td>\n",
       "      <td>1967</td>\n",
       "      <td>4.946617e+10</td>\n",
       "      <td>9.31</td>\n",
       "    </tr>\n",
       "    <tr>\n",
       "      <th>6082</th>\n",
       "      <td>India</td>\n",
       "      <td>IND</td>\n",
       "      <td>1968</td>\n",
       "      <td>5.237732e+10</td>\n",
       "      <td>5.89</td>\n",
       "    </tr>\n",
       "    <tr>\n",
       "      <th>6083</th>\n",
       "      <td>India</td>\n",
       "      <td>IND</td>\n",
       "      <td>1969</td>\n",
       "      <td>5.766833e+10</td>\n",
       "      <td>10.10</td>\n",
       "    </tr>\n",
       "    <tr>\n",
       "      <th>6084</th>\n",
       "      <td>India</td>\n",
       "      <td>IND</td>\n",
       "      <td>1970</td>\n",
       "      <td>6.158980e+10</td>\n",
       "      <td>6.80</td>\n",
       "    </tr>\n",
       "    <tr>\n",
       "      <th>6085</th>\n",
       "      <td>India</td>\n",
       "      <td>IND</td>\n",
       "      <td>1971</td>\n",
       "      <td>6.645256e+10</td>\n",
       "      <td>7.90</td>\n",
       "    </tr>\n",
       "    <tr>\n",
       "      <th>6086</th>\n",
       "      <td>India</td>\n",
       "      <td>IND</td>\n",
       "      <td>1972</td>\n",
       "      <td>7.050991e+10</td>\n",
       "      <td>6.11</td>\n",
       "    </tr>\n",
       "    <tr>\n",
       "      <th>6087</th>\n",
       "      <td>India</td>\n",
       "      <td>IND</td>\n",
       "      <td>1973</td>\n",
       "      <td>8.437454e+10</td>\n",
       "      <td>19.66</td>\n",
       "    </tr>\n",
       "    <tr>\n",
       "      <th>6088</th>\n",
       "      <td>India</td>\n",
       "      <td>IND</td>\n",
       "      <td>1974</td>\n",
       "      <td>9.819828e+10</td>\n",
       "      <td>16.38</td>\n",
       "    </tr>\n",
       "    <tr>\n",
       "      <th>6089</th>\n",
       "      <td>India</td>\n",
       "      <td>IND</td>\n",
       "      <td>1975</td>\n",
       "      <td>9.715922e+10</td>\n",
       "      <td>-1.06</td>\n",
       "    </tr>\n",
       "    <tr>\n",
       "      <th>6090</th>\n",
       "      <td>India</td>\n",
       "      <td>IND</td>\n",
       "      <td>1976</td>\n",
       "      <td>1.013470e+11</td>\n",
       "      <td>4.31</td>\n",
       "    </tr>\n",
       "    <tr>\n",
       "      <th>6091</th>\n",
       "      <td>India</td>\n",
       "      <td>IND</td>\n",
       "      <td>1977</td>\n",
       "      <td>1.198667e+11</td>\n",
       "      <td>18.27</td>\n",
       "    </tr>\n",
       "    <tr>\n",
       "      <th>6092</th>\n",
       "      <td>India</td>\n",
       "      <td>IND</td>\n",
       "      <td>1978</td>\n",
       "      <td>1.354688e+11</td>\n",
       "      <td>13.02</td>\n",
       "    </tr>\n",
       "    <tr>\n",
       "      <th>6093</th>\n",
       "      <td>India</td>\n",
       "      <td>IND</td>\n",
       "      <td>1979</td>\n",
       "      <td>1.509508e+11</td>\n",
       "      <td>11.43</td>\n",
       "    </tr>\n",
       "    <tr>\n",
       "      <th>6094</th>\n",
       "      <td>India</td>\n",
       "      <td>IND</td>\n",
       "      <td>1980</td>\n",
       "      <td>1.838399e+11</td>\n",
       "      <td>21.79</td>\n",
       "    </tr>\n",
       "    <tr>\n",
       "      <th>6095</th>\n",
       "      <td>India</td>\n",
       "      <td>IND</td>\n",
       "      <td>1981</td>\n",
       "      <td>1.909095e+11</td>\n",
       "      <td>3.85</td>\n",
       "    </tr>\n",
       "    <tr>\n",
       "      <th>6096</th>\n",
       "      <td>India</td>\n",
       "      <td>IND</td>\n",
       "      <td>1982</td>\n",
       "      <td>1.980377e+11</td>\n",
       "      <td>3.73</td>\n",
       "    </tr>\n",
       "    <tr>\n",
       "      <th>6097</th>\n",
       "      <td>India</td>\n",
       "      <td>IND</td>\n",
       "      <td>1983</td>\n",
       "      <td>2.153508e+11</td>\n",
       "      <td>8.74</td>\n",
       "    </tr>\n",
       "    <tr>\n",
       "      <th>6098</th>\n",
       "      <td>India</td>\n",
       "      <td>IND</td>\n",
       "      <td>1984</td>\n",
       "      <td>2.093282e+11</td>\n",
       "      <td>-2.80</td>\n",
       "    </tr>\n",
       "    <tr>\n",
       "      <th>6099</th>\n",
       "      <td>India</td>\n",
       "      <td>IND</td>\n",
       "      <td>1985</td>\n",
       "      <td>2.294103e+11</td>\n",
       "      <td>9.59</td>\n",
       "    </tr>\n",
       "    <tr>\n",
       "      <th>6100</th>\n",
       "      <td>India</td>\n",
       "      <td>IND</td>\n",
       "      <td>1986</td>\n",
       "      <td>2.456647e+11</td>\n",
       "      <td>7.09</td>\n",
       "    </tr>\n",
       "    <tr>\n",
       "      <th>6101</th>\n",
       "      <td>India</td>\n",
       "      <td>IND</td>\n",
       "      <td>1987</td>\n",
       "      <td>2.753114e+11</td>\n",
       "      <td>12.07</td>\n",
       "    </tr>\n",
       "    <tr>\n",
       "      <th>6102</th>\n",
       "      <td>India</td>\n",
       "      <td>IND</td>\n",
       "      <td>1988</td>\n",
       "      <td>2.926327e+11</td>\n",
       "      <td>6.29</td>\n",
       "    </tr>\n",
       "    <tr>\n",
       "      <th>6103</th>\n",
       "      <td>India</td>\n",
       "      <td>IND</td>\n",
       "      <td>1989</td>\n",
       "      <td>2.920933e+11</td>\n",
       "      <td>-0.18</td>\n",
       "    </tr>\n",
       "    <tr>\n",
       "      <th>6104</th>\n",
       "      <td>India</td>\n",
       "      <td>IND</td>\n",
       "      <td>1990</td>\n",
       "      <td>3.166973e+11</td>\n",
       "      <td>8.42</td>\n",
       "    </tr>\n",
       "    <tr>\n",
       "      <th>6105</th>\n",
       "      <td>India</td>\n",
       "      <td>IND</td>\n",
       "      <td>1991</td>\n",
       "      <td>2.665023e+11</td>\n",
       "      <td>-15.85</td>\n",
       "    </tr>\n",
       "    <tr>\n",
       "      <th>6106</th>\n",
       "      <td>India</td>\n",
       "      <td>IND</td>\n",
       "      <td>1992</td>\n",
       "      <td>2.843639e+11</td>\n",
       "      <td>6.70</td>\n",
       "    </tr>\n",
       "    <tr>\n",
       "      <th>6107</th>\n",
       "      <td>India</td>\n",
       "      <td>IND</td>\n",
       "      <td>1993</td>\n",
       "      <td>2.755704e+11</td>\n",
       "      <td>-3.09</td>\n",
       "    </tr>\n",
       "    <tr>\n",
       "      <th>6108</th>\n",
       "      <td>India</td>\n",
       "      <td>IND</td>\n",
       "      <td>1994</td>\n",
       "      <td>3.229099e+11</td>\n",
       "      <td>17.18</td>\n",
       "    </tr>\n",
       "    <tr>\n",
       "      <th>6109</th>\n",
       "      <td>India</td>\n",
       "      <td>IND</td>\n",
       "      <td>1995</td>\n",
       "      <td>3.554760e+11</td>\n",
       "      <td>10.09</td>\n",
       "    </tr>\n",
       "    <tr>\n",
       "      <th>6110</th>\n",
       "      <td>India</td>\n",
       "      <td>IND</td>\n",
       "      <td>1996</td>\n",
       "      <td>3.876560e+11</td>\n",
       "      <td>9.05</td>\n",
       "    </tr>\n",
       "    <tr>\n",
       "      <th>6111</th>\n",
       "      <td>India</td>\n",
       "      <td>IND</td>\n",
       "      <td>1997</td>\n",
       "      <td>4.103203e+11</td>\n",
       "      <td>5.85</td>\n",
       "    </tr>\n",
       "    <tr>\n",
       "      <th>6112</th>\n",
       "      <td>India</td>\n",
       "      <td>IND</td>\n",
       "      <td>1998</td>\n",
       "      <td>4.157309e+11</td>\n",
       "      <td>1.32</td>\n",
       "    </tr>\n",
       "    <tr>\n",
       "      <th>6113</th>\n",
       "      <td>India</td>\n",
       "      <td>IND</td>\n",
       "      <td>1999</td>\n",
       "      <td>4.527000e+11</td>\n",
       "      <td>8.89</td>\n",
       "    </tr>\n",
       "    <tr>\n",
       "      <th>6114</th>\n",
       "      <td>India</td>\n",
       "      <td>IND</td>\n",
       "      <td>2000</td>\n",
       "      <td>4.621468e+11</td>\n",
       "      <td>2.09</td>\n",
       "    </tr>\n",
       "    <tr>\n",
       "      <th>6115</th>\n",
       "      <td>India</td>\n",
       "      <td>IND</td>\n",
       "      <td>2001</td>\n",
       "      <td>4.789655e+11</td>\n",
       "      <td>3.64</td>\n",
       "    </tr>\n",
       "    <tr>\n",
       "      <th>6116</th>\n",
       "      <td>India</td>\n",
       "      <td>IND</td>\n",
       "      <td>2002</td>\n",
       "      <td>5.080690e+11</td>\n",
       "      <td>6.08</td>\n",
       "    </tr>\n",
       "    <tr>\n",
       "      <th>6117</th>\n",
       "      <td>India</td>\n",
       "      <td>IND</td>\n",
       "      <td>2003</td>\n",
       "      <td>5.995929e+11</td>\n",
       "      <td>18.01</td>\n",
       "    </tr>\n",
       "    <tr>\n",
       "      <th>6118</th>\n",
       "      <td>India</td>\n",
       "      <td>IND</td>\n",
       "      <td>2004</td>\n",
       "      <td>6.996889e+11</td>\n",
       "      <td>16.69</td>\n",
       "    </tr>\n",
       "    <tr>\n",
       "      <th>6119</th>\n",
       "      <td>India</td>\n",
       "      <td>IND</td>\n",
       "      <td>2005</td>\n",
       "      <td>8.089011e+11</td>\n",
       "      <td>15.61</td>\n",
       "    </tr>\n",
       "    <tr>\n",
       "      <th>6120</th>\n",
       "      <td>India</td>\n",
       "      <td>IND</td>\n",
       "      <td>2006</td>\n",
       "      <td>9.203165e+11</td>\n",
       "      <td>13.77</td>\n",
       "    </tr>\n",
       "    <tr>\n",
       "      <th>6121</th>\n",
       "      <td>India</td>\n",
       "      <td>IND</td>\n",
       "      <td>2007</td>\n",
       "      <td>1.201112e+12</td>\n",
       "      <td>30.51</td>\n",
       "    </tr>\n",
       "    <tr>\n",
       "      <th>6122</th>\n",
       "      <td>India</td>\n",
       "      <td>IND</td>\n",
       "      <td>2008</td>\n",
       "      <td>1.186953e+12</td>\n",
       "      <td>-1.18</td>\n",
       "    </tr>\n",
       "    <tr>\n",
       "      <th>6123</th>\n",
       "      <td>India</td>\n",
       "      <td>IND</td>\n",
       "      <td>2009</td>\n",
       "      <td>1.323940e+12</td>\n",
       "      <td>11.54</td>\n",
       "    </tr>\n",
       "    <tr>\n",
       "      <th>6124</th>\n",
       "      <td>India</td>\n",
       "      <td>IND</td>\n",
       "      <td>2010</td>\n",
       "      <td>1.656617e+12</td>\n",
       "      <td>25.13</td>\n",
       "    </tr>\n",
       "    <tr>\n",
       "      <th>6125</th>\n",
       "      <td>India</td>\n",
       "      <td>IND</td>\n",
       "      <td>2011</td>\n",
       "      <td>1.823050e+12</td>\n",
       "      <td>10.05</td>\n",
       "    </tr>\n",
       "    <tr>\n",
       "      <th>6126</th>\n",
       "      <td>India</td>\n",
       "      <td>IND</td>\n",
       "      <td>2012</td>\n",
       "      <td>1.827638e+12</td>\n",
       "      <td>0.25</td>\n",
       "    </tr>\n",
       "    <tr>\n",
       "      <th>6127</th>\n",
       "      <td>India</td>\n",
       "      <td>IND</td>\n",
       "      <td>2013</td>\n",
       "      <td>1.856722e+12</td>\n",
       "      <td>1.59</td>\n",
       "    </tr>\n",
       "    <tr>\n",
       "      <th>6128</th>\n",
       "      <td>India</td>\n",
       "      <td>IND</td>\n",
       "      <td>2014</td>\n",
       "      <td>2.035393e+12</td>\n",
       "      <td>9.62</td>\n",
       "    </tr>\n",
       "    <tr>\n",
       "      <th>6129</th>\n",
       "      <td>India</td>\n",
       "      <td>IND</td>\n",
       "      <td>2015</td>\n",
       "      <td>2.089865e+12</td>\n",
       "      <td>2.68</td>\n",
       "    </tr>\n",
       "    <tr>\n",
       "      <th>6130</th>\n",
       "      <td>India</td>\n",
       "      <td>IND</td>\n",
       "      <td>2016</td>\n",
       "      <td>2.263792e+12</td>\n",
       "      <td>8.32</td>\n",
       "    </tr>\n",
       "  </tbody>\n",
       "</table>\n",
       "</div>"
      ],
      "text/plain": [
       "     Country Name Country Code  Year         Value    GDP\n",
       "6074        India          IND  1960  3.653593e+10   0.00\n",
       "6075        India          IND  1961  3.870910e+10   5.95\n",
       "6076        India          IND  1962  4.159907e+10   7.47\n",
       "6077        India          IND  1963  4.777600e+10  14.85\n",
       "6078        India          IND  1964  5.572687e+10  16.64\n",
       "6079        India          IND  1965  5.876042e+10   5.44\n",
       "6080        India          IND  1966  4.525364e+10 -22.99\n",
       "6081        India          IND  1967  4.946617e+10   9.31\n",
       "6082        India          IND  1968  5.237732e+10   5.89\n",
       "6083        India          IND  1969  5.766833e+10  10.10\n",
       "6084        India          IND  1970  6.158980e+10   6.80\n",
       "6085        India          IND  1971  6.645256e+10   7.90\n",
       "6086        India          IND  1972  7.050991e+10   6.11\n",
       "6087        India          IND  1973  8.437454e+10  19.66\n",
       "6088        India          IND  1974  9.819828e+10  16.38\n",
       "6089        India          IND  1975  9.715922e+10  -1.06\n",
       "6090        India          IND  1976  1.013470e+11   4.31\n",
       "6091        India          IND  1977  1.198667e+11  18.27\n",
       "6092        India          IND  1978  1.354688e+11  13.02\n",
       "6093        India          IND  1979  1.509508e+11  11.43\n",
       "6094        India          IND  1980  1.838399e+11  21.79\n",
       "6095        India          IND  1981  1.909095e+11   3.85\n",
       "6096        India          IND  1982  1.980377e+11   3.73\n",
       "6097        India          IND  1983  2.153508e+11   8.74\n",
       "6098        India          IND  1984  2.093282e+11  -2.80\n",
       "6099        India          IND  1985  2.294103e+11   9.59\n",
       "6100        India          IND  1986  2.456647e+11   7.09\n",
       "6101        India          IND  1987  2.753114e+11  12.07\n",
       "6102        India          IND  1988  2.926327e+11   6.29\n",
       "6103        India          IND  1989  2.920933e+11  -0.18\n",
       "6104        India          IND  1990  3.166973e+11   8.42\n",
       "6105        India          IND  1991  2.665023e+11 -15.85\n",
       "6106        India          IND  1992  2.843639e+11   6.70\n",
       "6107        India          IND  1993  2.755704e+11  -3.09\n",
       "6108        India          IND  1994  3.229099e+11  17.18\n",
       "6109        India          IND  1995  3.554760e+11  10.09\n",
       "6110        India          IND  1996  3.876560e+11   9.05\n",
       "6111        India          IND  1997  4.103203e+11   5.85\n",
       "6112        India          IND  1998  4.157309e+11   1.32\n",
       "6113        India          IND  1999  4.527000e+11   8.89\n",
       "6114        India          IND  2000  4.621468e+11   2.09\n",
       "6115        India          IND  2001  4.789655e+11   3.64\n",
       "6116        India          IND  2002  5.080690e+11   6.08\n",
       "6117        India          IND  2003  5.995929e+11  18.01\n",
       "6118        India          IND  2004  6.996889e+11  16.69\n",
       "6119        India          IND  2005  8.089011e+11  15.61\n",
       "6120        India          IND  2006  9.203165e+11  13.77\n",
       "6121        India          IND  2007  1.201112e+12  30.51\n",
       "6122        India          IND  2008  1.186953e+12  -1.18\n",
       "6123        India          IND  2009  1.323940e+12  11.54\n",
       "6124        India          IND  2010  1.656617e+12  25.13\n",
       "6125        India          IND  2011  1.823050e+12  10.05\n",
       "6126        India          IND  2012  1.827638e+12   0.25\n",
       "6127        India          IND  2013  1.856722e+12   1.59\n",
       "6128        India          IND  2014  2.035393e+12   9.62\n",
       "6129        India          IND  2015  2.089865e+12   2.68\n",
       "6130        India          IND  2016  2.263792e+12   8.32"
      ]
     },
     "execution_count": 26,
     "metadata": {},
     "output_type": "execute_result"
    }
   ],
   "source": [
    "df_pr.assign(GDP = gdp_change)"
   ]
  },
  {
   "cell_type": "markdown",
   "id": "91575c62",
   "metadata": {},
   "source": [
    "## Finding GDP Growth of a country"
   ]
  },
  {
   "cell_type": "code",
   "execution_count": 38,
   "id": "dec7f54d",
   "metadata": {},
   "outputs": [
    {
     "data": {
      "text/html": [
       "<div>\n",
       "<style scoped>\n",
       "    .dataframe tbody tr th:only-of-type {\n",
       "        vertical-align: middle;\n",
       "    }\n",
       "\n",
       "    .dataframe tbody tr th {\n",
       "        vertical-align: top;\n",
       "    }\n",
       "\n",
       "    .dataframe thead th {\n",
       "        text-align: right;\n",
       "    }\n",
       "</style>\n",
       "<table border=\"1\" class=\"dataframe\">\n",
       "  <thead>\n",
       "    <tr style=\"text-align: right;\">\n",
       "      <th></th>\n",
       "      <th>Country Name</th>\n",
       "      <th>Country Code</th>\n",
       "      <th>Year</th>\n",
       "      <th>Value</th>\n",
       "      <th>GDP</th>\n",
       "    </tr>\n",
       "  </thead>\n",
       "  <tbody>\n",
       "    <tr>\n",
       "      <th>0</th>\n",
       "      <td>Arab World</td>\n",
       "      <td>ARB</td>\n",
       "      <td>1968</td>\n",
       "      <td>2.576068e+10</td>\n",
       "      <td>0.00</td>\n",
       "    </tr>\n",
       "    <tr>\n",
       "      <th>1</th>\n",
       "      <td>Arab World</td>\n",
       "      <td>ARB</td>\n",
       "      <td>1969</td>\n",
       "      <td>2.843420e+10</td>\n",
       "      <td>10.38</td>\n",
       "    </tr>\n",
       "    <tr>\n",
       "      <th>2</th>\n",
       "      <td>Arab World</td>\n",
       "      <td>ARB</td>\n",
       "      <td>1970</td>\n",
       "      <td>3.138550e+10</td>\n",
       "      <td>10.38</td>\n",
       "    </tr>\n",
       "    <tr>\n",
       "      <th>3</th>\n",
       "      <td>Arab World</td>\n",
       "      <td>ARB</td>\n",
       "      <td>1971</td>\n",
       "      <td>3.642691e+10</td>\n",
       "      <td>16.06</td>\n",
       "    </tr>\n",
       "    <tr>\n",
       "      <th>4</th>\n",
       "      <td>Arab World</td>\n",
       "      <td>ARB</td>\n",
       "      <td>1972</td>\n",
       "      <td>4.331606e+10</td>\n",
       "      <td>18.91</td>\n",
       "    </tr>\n",
       "    <tr>\n",
       "      <th>5</th>\n",
       "      <td>Arab World</td>\n",
       "      <td>ARB</td>\n",
       "      <td>1973</td>\n",
       "      <td>5.501839e+10</td>\n",
       "      <td>27.02</td>\n",
       "    </tr>\n",
       "    <tr>\n",
       "      <th>6</th>\n",
       "      <td>Arab World</td>\n",
       "      <td>ARB</td>\n",
       "      <td>1974</td>\n",
       "      <td>1.051458e+11</td>\n",
       "      <td>91.11</td>\n",
       "    </tr>\n",
       "    <tr>\n",
       "      <th>7</th>\n",
       "      <td>Arab World</td>\n",
       "      <td>ARB</td>\n",
       "      <td>1975</td>\n",
       "      <td>1.163370e+11</td>\n",
       "      <td>10.64</td>\n",
       "    </tr>\n",
       "    <tr>\n",
       "      <th>8</th>\n",
       "      <td>Arab World</td>\n",
       "      <td>ARB</td>\n",
       "      <td>1976</td>\n",
       "      <td>1.448462e+11</td>\n",
       "      <td>24.51</td>\n",
       "    </tr>\n",
       "    <tr>\n",
       "      <th>9</th>\n",
       "      <td>Arab World</td>\n",
       "      <td>ARB</td>\n",
       "      <td>1977</td>\n",
       "      <td>1.673083e+11</td>\n",
       "      <td>15.51</td>\n",
       "    </tr>\n",
       "    <tr>\n",
       "      <th>10</th>\n",
       "      <td>Arab World</td>\n",
       "      <td>ARB</td>\n",
       "      <td>1978</td>\n",
       "      <td>1.835555e+11</td>\n",
       "      <td>9.71</td>\n",
       "    </tr>\n",
       "    <tr>\n",
       "      <th>11</th>\n",
       "      <td>Arab World</td>\n",
       "      <td>ARB</td>\n",
       "      <td>1979</td>\n",
       "      <td>2.486462e+11</td>\n",
       "      <td>35.46</td>\n",
       "    </tr>\n",
       "    <tr>\n",
       "      <th>12</th>\n",
       "      <td>Arab World</td>\n",
       "      <td>ARB</td>\n",
       "      <td>1980</td>\n",
       "      <td>3.381775e+11</td>\n",
       "      <td>36.01</td>\n",
       "    </tr>\n",
       "    <tr>\n",
       "      <th>13</th>\n",
       "      <td>Arab World</td>\n",
       "      <td>ARB</td>\n",
       "      <td>1981</td>\n",
       "      <td>3.485928e+11</td>\n",
       "      <td>3.08</td>\n",
       "    </tr>\n",
       "    <tr>\n",
       "      <th>14</th>\n",
       "      <td>Arab World</td>\n",
       "      <td>ARB</td>\n",
       "      <td>1982</td>\n",
       "      <td>3.243288e+11</td>\n",
       "      <td>-6.96</td>\n",
       "    </tr>\n",
       "    <tr>\n",
       "      <th>15</th>\n",
       "      <td>Arab World</td>\n",
       "      <td>ARB</td>\n",
       "      <td>1983</td>\n",
       "      <td>3.039625e+11</td>\n",
       "      <td>-6.28</td>\n",
       "    </tr>\n",
       "    <tr>\n",
       "      <th>16</th>\n",
       "      <td>Arab World</td>\n",
       "      <td>ARB</td>\n",
       "      <td>1984</td>\n",
       "      <td>3.079408e+11</td>\n",
       "      <td>1.31</td>\n",
       "    </tr>\n",
       "    <tr>\n",
       "      <th>17</th>\n",
       "      <td>Arab World</td>\n",
       "      <td>ARB</td>\n",
       "      <td>1985</td>\n",
       "      <td>3.038936e+11</td>\n",
       "      <td>-1.31</td>\n",
       "    </tr>\n",
       "    <tr>\n",
       "      <th>18</th>\n",
       "      <td>Arab World</td>\n",
       "      <td>ARB</td>\n",
       "      <td>1986</td>\n",
       "      <td>2.890292e+11</td>\n",
       "      <td>-4.89</td>\n",
       "    </tr>\n",
       "    <tr>\n",
       "      <th>19</th>\n",
       "      <td>Arab World</td>\n",
       "      <td>ARB</td>\n",
       "      <td>1987</td>\n",
       "      <td>3.126817e+11</td>\n",
       "      <td>8.18</td>\n",
       "    </tr>\n",
       "    <tr>\n",
       "      <th>20</th>\n",
       "      <td>Arab World</td>\n",
       "      <td>ARB</td>\n",
       "      <td>1988</td>\n",
       "      <td>3.075030e+11</td>\n",
       "      <td>-1.66</td>\n",
       "    </tr>\n",
       "    <tr>\n",
       "      <th>21</th>\n",
       "      <td>Arab World</td>\n",
       "      <td>ARB</td>\n",
       "      <td>1989</td>\n",
       "      <td>3.223251e+11</td>\n",
       "      <td>4.82</td>\n",
       "    </tr>\n",
       "    <tr>\n",
       "      <th>22</th>\n",
       "      <td>Arab World</td>\n",
       "      <td>ARB</td>\n",
       "      <td>1990</td>\n",
       "      <td>4.468772e+11</td>\n",
       "      <td>38.64</td>\n",
       "    </tr>\n",
       "    <tr>\n",
       "      <th>23</th>\n",
       "      <td>Arab World</td>\n",
       "      <td>ARB</td>\n",
       "      <td>1991</td>\n",
       "      <td>4.397792e+11</td>\n",
       "      <td>-1.59</td>\n",
       "    </tr>\n",
       "    <tr>\n",
       "      <th>24</th>\n",
       "      <td>Arab World</td>\n",
       "      <td>ARB</td>\n",
       "      <td>1992</td>\n",
       "      <td>4.711635e+11</td>\n",
       "      <td>7.14</td>\n",
       "    </tr>\n",
       "    <tr>\n",
       "      <th>25</th>\n",
       "      <td>Arab World</td>\n",
       "      <td>ARB</td>\n",
       "      <td>1993</td>\n",
       "      <td>4.765136e+11</td>\n",
       "      <td>1.14</td>\n",
       "    </tr>\n",
       "    <tr>\n",
       "      <th>26</th>\n",
       "      <td>Arab World</td>\n",
       "      <td>ARB</td>\n",
       "      <td>1994</td>\n",
       "      <td>4.875269e+11</td>\n",
       "      <td>2.31</td>\n",
       "    </tr>\n",
       "    <tr>\n",
       "      <th>27</th>\n",
       "      <td>Arab World</td>\n",
       "      <td>ARB</td>\n",
       "      <td>1995</td>\n",
       "      <td>5.237599e+11</td>\n",
       "      <td>7.43</td>\n",
       "    </tr>\n",
       "    <tr>\n",
       "      <th>28</th>\n",
       "      <td>Arab World</td>\n",
       "      <td>ARB</td>\n",
       "      <td>1996</td>\n",
       "      <td>5.782313e+11</td>\n",
       "      <td>10.40</td>\n",
       "    </tr>\n",
       "    <tr>\n",
       "      <th>29</th>\n",
       "      <td>Arab World</td>\n",
       "      <td>ARB</td>\n",
       "      <td>1997</td>\n",
       "      <td>6.132795e+11</td>\n",
       "      <td>6.06</td>\n",
       "    </tr>\n",
       "    <tr>\n",
       "      <th>30</th>\n",
       "      <td>Arab World</td>\n",
       "      <td>ARB</td>\n",
       "      <td>1998</td>\n",
       "      <td>5.915256e+11</td>\n",
       "      <td>-3.55</td>\n",
       "    </tr>\n",
       "    <tr>\n",
       "      <th>31</th>\n",
       "      <td>Arab World</td>\n",
       "      <td>ARB</td>\n",
       "      <td>1999</td>\n",
       "      <td>6.438897e+11</td>\n",
       "      <td>8.85</td>\n",
       "    </tr>\n",
       "    <tr>\n",
       "      <th>32</th>\n",
       "      <td>Arab World</td>\n",
       "      <td>ARB</td>\n",
       "      <td>2000</td>\n",
       "      <td>7.350251e+11</td>\n",
       "      <td>14.15</td>\n",
       "    </tr>\n",
       "    <tr>\n",
       "      <th>33</th>\n",
       "      <td>Arab World</td>\n",
       "      <td>ARB</td>\n",
       "      <td>2001</td>\n",
       "      <td>7.232828e+11</td>\n",
       "      <td>-1.60</td>\n",
       "    </tr>\n",
       "    <tr>\n",
       "      <th>34</th>\n",
       "      <td>Arab World</td>\n",
       "      <td>ARB</td>\n",
       "      <td>2002</td>\n",
       "      <td>7.290517e+11</td>\n",
       "      <td>0.80</td>\n",
       "    </tr>\n",
       "    <tr>\n",
       "      <th>35</th>\n",
       "      <td>Arab World</td>\n",
       "      <td>ARB</td>\n",
       "      <td>2003</td>\n",
       "      <td>8.231105e+11</td>\n",
       "      <td>12.90</td>\n",
       "    </tr>\n",
       "    <tr>\n",
       "      <th>36</th>\n",
       "      <td>Arab World</td>\n",
       "      <td>ARB</td>\n",
       "      <td>2004</td>\n",
       "      <td>9.638623e+11</td>\n",
       "      <td>17.10</td>\n",
       "    </tr>\n",
       "    <tr>\n",
       "      <th>37</th>\n",
       "      <td>Arab World</td>\n",
       "      <td>ARB</td>\n",
       "      <td>2005</td>\n",
       "      <td>1.184662e+12</td>\n",
       "      <td>22.91</td>\n",
       "    </tr>\n",
       "    <tr>\n",
       "      <th>38</th>\n",
       "      <td>Arab World</td>\n",
       "      <td>ARB</td>\n",
       "      <td>2006</td>\n",
       "      <td>1.404114e+12</td>\n",
       "      <td>18.52</td>\n",
       "    </tr>\n",
       "    <tr>\n",
       "      <th>39</th>\n",
       "      <td>Arab World</td>\n",
       "      <td>ARB</td>\n",
       "      <td>2007</td>\n",
       "      <td>1.637573e+12</td>\n",
       "      <td>16.63</td>\n",
       "    </tr>\n",
       "    <tr>\n",
       "      <th>40</th>\n",
       "      <td>Arab World</td>\n",
       "      <td>ARB</td>\n",
       "      <td>2008</td>\n",
       "      <td>2.078116e+12</td>\n",
       "      <td>26.90</td>\n",
       "    </tr>\n",
       "    <tr>\n",
       "      <th>41</th>\n",
       "      <td>Arab World</td>\n",
       "      <td>ARB</td>\n",
       "      <td>2009</td>\n",
       "      <td>1.795820e+12</td>\n",
       "      <td>-13.58</td>\n",
       "    </tr>\n",
       "    <tr>\n",
       "      <th>42</th>\n",
       "      <td>Arab World</td>\n",
       "      <td>ARB</td>\n",
       "      <td>2010</td>\n",
       "      <td>2.109646e+12</td>\n",
       "      <td>17.48</td>\n",
       "    </tr>\n",
       "    <tr>\n",
       "      <th>43</th>\n",
       "      <td>Arab World</td>\n",
       "      <td>ARB</td>\n",
       "      <td>2011</td>\n",
       "      <td>2.501554e+12</td>\n",
       "      <td>18.58</td>\n",
       "    </tr>\n",
       "    <tr>\n",
       "      <th>44</th>\n",
       "      <td>Arab World</td>\n",
       "      <td>ARB</td>\n",
       "      <td>2012</td>\n",
       "      <td>2.741239e+12</td>\n",
       "      <td>9.58</td>\n",
       "    </tr>\n",
       "    <tr>\n",
       "      <th>45</th>\n",
       "      <td>Arab World</td>\n",
       "      <td>ARB</td>\n",
       "      <td>2013</td>\n",
       "      <td>2.839627e+12</td>\n",
       "      <td>3.59</td>\n",
       "    </tr>\n",
       "    <tr>\n",
       "      <th>46</th>\n",
       "      <td>Arab World</td>\n",
       "      <td>ARB</td>\n",
       "      <td>2014</td>\n",
       "      <td>2.906616e+12</td>\n",
       "      <td>2.36</td>\n",
       "    </tr>\n",
       "    <tr>\n",
       "      <th>47</th>\n",
       "      <td>Arab World</td>\n",
       "      <td>ARB</td>\n",
       "      <td>2015</td>\n",
       "      <td>2.563302e+12</td>\n",
       "      <td>-11.81</td>\n",
       "    </tr>\n",
       "    <tr>\n",
       "      <th>48</th>\n",
       "      <td>Arab World</td>\n",
       "      <td>ARB</td>\n",
       "      <td>2016</td>\n",
       "      <td>2.504703e+12</td>\n",
       "      <td>-2.29</td>\n",
       "    </tr>\n",
       "  </tbody>\n",
       "</table>\n",
       "</div>"
      ],
      "text/plain": [
       "   Country Name Country Code  Year         Value    GDP\n",
       "0    Arab World          ARB  1968  2.576068e+10   0.00\n",
       "1    Arab World          ARB  1969  2.843420e+10  10.38\n",
       "2    Arab World          ARB  1970  3.138550e+10  10.38\n",
       "3    Arab World          ARB  1971  3.642691e+10  16.06\n",
       "4    Arab World          ARB  1972  4.331606e+10  18.91\n",
       "5    Arab World          ARB  1973  5.501839e+10  27.02\n",
       "6    Arab World          ARB  1974  1.051458e+11  91.11\n",
       "7    Arab World          ARB  1975  1.163370e+11  10.64\n",
       "8    Arab World          ARB  1976  1.448462e+11  24.51\n",
       "9    Arab World          ARB  1977  1.673083e+11  15.51\n",
       "10   Arab World          ARB  1978  1.835555e+11   9.71\n",
       "11   Arab World          ARB  1979  2.486462e+11  35.46\n",
       "12   Arab World          ARB  1980  3.381775e+11  36.01\n",
       "13   Arab World          ARB  1981  3.485928e+11   3.08\n",
       "14   Arab World          ARB  1982  3.243288e+11  -6.96\n",
       "15   Arab World          ARB  1983  3.039625e+11  -6.28\n",
       "16   Arab World          ARB  1984  3.079408e+11   1.31\n",
       "17   Arab World          ARB  1985  3.038936e+11  -1.31\n",
       "18   Arab World          ARB  1986  2.890292e+11  -4.89\n",
       "19   Arab World          ARB  1987  3.126817e+11   8.18\n",
       "20   Arab World          ARB  1988  3.075030e+11  -1.66\n",
       "21   Arab World          ARB  1989  3.223251e+11   4.82\n",
       "22   Arab World          ARB  1990  4.468772e+11  38.64\n",
       "23   Arab World          ARB  1991  4.397792e+11  -1.59\n",
       "24   Arab World          ARB  1992  4.711635e+11   7.14\n",
       "25   Arab World          ARB  1993  4.765136e+11   1.14\n",
       "26   Arab World          ARB  1994  4.875269e+11   2.31\n",
       "27   Arab World          ARB  1995  5.237599e+11   7.43\n",
       "28   Arab World          ARB  1996  5.782313e+11  10.40\n",
       "29   Arab World          ARB  1997  6.132795e+11   6.06\n",
       "30   Arab World          ARB  1998  5.915256e+11  -3.55\n",
       "31   Arab World          ARB  1999  6.438897e+11   8.85\n",
       "32   Arab World          ARB  2000  7.350251e+11  14.15\n",
       "33   Arab World          ARB  2001  7.232828e+11  -1.60\n",
       "34   Arab World          ARB  2002  7.290517e+11   0.80\n",
       "35   Arab World          ARB  2003  8.231105e+11  12.90\n",
       "36   Arab World          ARB  2004  9.638623e+11  17.10\n",
       "37   Arab World          ARB  2005  1.184662e+12  22.91\n",
       "38   Arab World          ARB  2006  1.404114e+12  18.52\n",
       "39   Arab World          ARB  2007  1.637573e+12  16.63\n",
       "40   Arab World          ARB  2008  2.078116e+12  26.90\n",
       "41   Arab World          ARB  2009  1.795820e+12 -13.58\n",
       "42   Arab World          ARB  2010  2.109646e+12  17.48\n",
       "43   Arab World          ARB  2011  2.501554e+12  18.58\n",
       "44   Arab World          ARB  2012  2.741239e+12   9.58\n",
       "45   Arab World          ARB  2013  2.839627e+12   3.59\n",
       "46   Arab World          ARB  2014  2.906616e+12   2.36\n",
       "47   Arab World          ARB  2015  2.563302e+12 -11.81\n",
       "48   Arab World          ARB  2016  2.504703e+12  -2.29"
      ]
     },
     "execution_count": 38,
     "metadata": {},
     "output_type": "execute_result"
    }
   ],
   "source": [
    "df_pr = df[df['Country Name'] == 'Arab World']\n",
    "\n",
    "data = df_pr.values\n",
    "\n",
    "gdp_change = [0]\n",
    "\n",
    "for i in range(1,len(data)):\n",
    "    \n",
    "    prev = data[i-1][3]\n",
    "    cur = data[i][3]\n",
    "    \n",
    "    gdp_change.append(round(((cur - prev) / prev)*100,2))\n",
    "    \n",
    "df_pr.assign(GDP = gdp_change)\n"
   ]
  },
  {
   "cell_type": "code",
   "execution_count": 47,
   "id": "9000a8ce",
   "metadata": {},
   "outputs": [],
   "source": [
    "final_data = []\n",
    "\n",
    "for country_name in df['Country Name'].unique():\n",
    "    \n",
    "    df_pr = df[df['Country Name'] == country_name]\n",
    "\n",
    "    data = df_pr.values\n",
    "    gdp_change = [0]\n",
    "\n",
    "    for i in range(1,len(data)):\n",
    "\n",
    "        prev = data[i-1][3]\n",
    "        cur = data[i][3]\n",
    "\n",
    "        gdp_change.append(round(((cur - prev) / prev)*100,2))\n",
    "\n",
    "    df_pr = df_pr.assign(GDP = gdp_change)\n",
    "    final_data.append(df_pr)"
   ]
  },
  {
   "cell_type": "code",
   "execution_count": 48,
   "id": "1a661f40",
   "metadata": {
    "collapsed": true
   },
   "outputs": [
    {
     "data": {
      "text/html": [
       "<div>\n",
       "<style scoped>\n",
       "    .dataframe tbody tr th:only-of-type {\n",
       "        vertical-align: middle;\n",
       "    }\n",
       "\n",
       "    .dataframe tbody tr th {\n",
       "        vertical-align: top;\n",
       "    }\n",
       "\n",
       "    .dataframe thead th {\n",
       "        text-align: right;\n",
       "    }\n",
       "</style>\n",
       "<table border=\"1\" class=\"dataframe\">\n",
       "  <thead>\n",
       "    <tr style=\"text-align: right;\">\n",
       "      <th></th>\n",
       "      <th>Country Name</th>\n",
       "      <th>Country Code</th>\n",
       "      <th>Year</th>\n",
       "      <th>Value</th>\n",
       "      <th>GDP</th>\n",
       "    </tr>\n",
       "  </thead>\n",
       "  <tbody>\n",
       "    <tr>\n",
       "      <th>133</th>\n",
       "      <td>Early-demographic dividend</td>\n",
       "      <td>EAR</td>\n",
       "      <td>1960</td>\n",
       "      <td>1.523785e+11</td>\n",
       "      <td>0.00</td>\n",
       "    </tr>\n",
       "    <tr>\n",
       "      <th>134</th>\n",
       "      <td>Early-demographic dividend</td>\n",
       "      <td>EAR</td>\n",
       "      <td>1961</td>\n",
       "      <td>1.533115e+11</td>\n",
       "      <td>0.61</td>\n",
       "    </tr>\n",
       "    <tr>\n",
       "      <th>135</th>\n",
       "      <td>Early-demographic dividend</td>\n",
       "      <td>EAR</td>\n",
       "      <td>1962</td>\n",
       "      <td>1.589168e+11</td>\n",
       "      <td>3.66</td>\n",
       "    </tr>\n",
       "    <tr>\n",
       "      <th>136</th>\n",
       "      <td>Early-demographic dividend</td>\n",
       "      <td>EAR</td>\n",
       "      <td>1963</td>\n",
       "      <td>1.680909e+11</td>\n",
       "      <td>5.77</td>\n",
       "    </tr>\n",
       "    <tr>\n",
       "      <th>137</th>\n",
       "      <td>Early-demographic dividend</td>\n",
       "      <td>EAR</td>\n",
       "      <td>1964</td>\n",
       "      <td>1.925508e+11</td>\n",
       "      <td>14.55</td>\n",
       "    </tr>\n",
       "    <tr>\n",
       "      <th>138</th>\n",
       "      <td>Early-demographic dividend</td>\n",
       "      <td>EAR</td>\n",
       "      <td>1965</td>\n",
       "      <td>2.099184e+11</td>\n",
       "      <td>9.02</td>\n",
       "    </tr>\n",
       "    <tr>\n",
       "      <th>139</th>\n",
       "      <td>Early-demographic dividend</td>\n",
       "      <td>EAR</td>\n",
       "      <td>1966</td>\n",
       "      <td>2.071921e+11</td>\n",
       "      <td>-1.30</td>\n",
       "    </tr>\n",
       "    <tr>\n",
       "      <th>140</th>\n",
       "      <td>Early-demographic dividend</td>\n",
       "      <td>EAR</td>\n",
       "      <td>1967</td>\n",
       "      <td>2.174348e+11</td>\n",
       "      <td>4.94</td>\n",
       "    </tr>\n",
       "    <tr>\n",
       "      <th>141</th>\n",
       "      <td>Early-demographic dividend</td>\n",
       "      <td>EAR</td>\n",
       "      <td>1968</td>\n",
       "      <td>2.356193e+11</td>\n",
       "      <td>8.36</td>\n",
       "    </tr>\n",
       "    <tr>\n",
       "      <th>142</th>\n",
       "      <td>Early-demographic dividend</td>\n",
       "      <td>EAR</td>\n",
       "      <td>1969</td>\n",
       "      <td>2.633785e+11</td>\n",
       "      <td>11.78</td>\n",
       "    </tr>\n",
       "    <tr>\n",
       "      <th>143</th>\n",
       "      <td>Early-demographic dividend</td>\n",
       "      <td>EAR</td>\n",
       "      <td>1970</td>\n",
       "      <td>2.791935e+11</td>\n",
       "      <td>6.00</td>\n",
       "    </tr>\n",
       "    <tr>\n",
       "      <th>144</th>\n",
       "      <td>Early-demographic dividend</td>\n",
       "      <td>EAR</td>\n",
       "      <td>1971</td>\n",
       "      <td>3.015858e+11</td>\n",
       "      <td>8.02</td>\n",
       "    </tr>\n",
       "    <tr>\n",
       "      <th>145</th>\n",
       "      <td>Early-demographic dividend</td>\n",
       "      <td>EAR</td>\n",
       "      <td>1972</td>\n",
       "      <td>3.315937e+11</td>\n",
       "      <td>9.95</td>\n",
       "    </tr>\n",
       "    <tr>\n",
       "      <th>146</th>\n",
       "      <td>Early-demographic dividend</td>\n",
       "      <td>EAR</td>\n",
       "      <td>1973</td>\n",
       "      <td>4.244139e+11</td>\n",
       "      <td>27.99</td>\n",
       "    </tr>\n",
       "    <tr>\n",
       "      <th>147</th>\n",
       "      <td>Early-demographic dividend</td>\n",
       "      <td>EAR</td>\n",
       "      <td>1974</td>\n",
       "      <td>5.954048e+11</td>\n",
       "      <td>40.29</td>\n",
       "    </tr>\n",
       "    <tr>\n",
       "      <th>148</th>\n",
       "      <td>Early-demographic dividend</td>\n",
       "      <td>EAR</td>\n",
       "      <td>1975</td>\n",
       "      <td>6.394332e+11</td>\n",
       "      <td>7.39</td>\n",
       "    </tr>\n",
       "    <tr>\n",
       "      <th>149</th>\n",
       "      <td>Early-demographic dividend</td>\n",
       "      <td>EAR</td>\n",
       "      <td>1976</td>\n",
       "      <td>6.982596e+11</td>\n",
       "      <td>9.20</td>\n",
       "    </tr>\n",
       "    <tr>\n",
       "      <th>150</th>\n",
       "      <td>Early-demographic dividend</td>\n",
       "      <td>EAR</td>\n",
       "      <td>1977</td>\n",
       "      <td>7.813030e+11</td>\n",
       "      <td>11.89</td>\n",
       "    </tr>\n",
       "    <tr>\n",
       "      <th>151</th>\n",
       "      <td>Early-demographic dividend</td>\n",
       "      <td>EAR</td>\n",
       "      <td>1978</td>\n",
       "      <td>8.649220e+11</td>\n",
       "      <td>10.70</td>\n",
       "    </tr>\n",
       "    <tr>\n",
       "      <th>152</th>\n",
       "      <td>Early-demographic dividend</td>\n",
       "      <td>EAR</td>\n",
       "      <td>1979</td>\n",
       "      <td>1.051437e+12</td>\n",
       "      <td>21.56</td>\n",
       "    </tr>\n",
       "    <tr>\n",
       "      <th>153</th>\n",
       "      <td>Early-demographic dividend</td>\n",
       "      <td>EAR</td>\n",
       "      <td>1980</td>\n",
       "      <td>1.295402e+12</td>\n",
       "      <td>23.20</td>\n",
       "    </tr>\n",
       "    <tr>\n",
       "      <th>154</th>\n",
       "      <td>Early-demographic dividend</td>\n",
       "      <td>EAR</td>\n",
       "      <td>1981</td>\n",
       "      <td>1.447517e+12</td>\n",
       "      <td>11.74</td>\n",
       "    </tr>\n",
       "    <tr>\n",
       "      <th>155</th>\n",
       "      <td>Early-demographic dividend</td>\n",
       "      <td>EAR</td>\n",
       "      <td>1982</td>\n",
       "      <td>1.379491e+12</td>\n",
       "      <td>-4.70</td>\n",
       "    </tr>\n",
       "    <tr>\n",
       "      <th>156</th>\n",
       "      <td>Early-demographic dividend</td>\n",
       "      <td>EAR</td>\n",
       "      <td>1983</td>\n",
       "      <td>1.392376e+12</td>\n",
       "      <td>0.93</td>\n",
       "    </tr>\n",
       "    <tr>\n",
       "      <th>157</th>\n",
       "      <td>Early-demographic dividend</td>\n",
       "      <td>EAR</td>\n",
       "      <td>1984</td>\n",
       "      <td>1.372231e+12</td>\n",
       "      <td>-1.45</td>\n",
       "    </tr>\n",
       "    <tr>\n",
       "      <th>158</th>\n",
       "      <td>Early-demographic dividend</td>\n",
       "      <td>EAR</td>\n",
       "      <td>1985</td>\n",
       "      <td>1.405011e+12</td>\n",
       "      <td>2.39</td>\n",
       "    </tr>\n",
       "    <tr>\n",
       "      <th>159</th>\n",
       "      <td>Early-demographic dividend</td>\n",
       "      <td>EAR</td>\n",
       "      <td>1986</td>\n",
       "      <td>1.425839e+12</td>\n",
       "      <td>1.48</td>\n",
       "    </tr>\n",
       "    <tr>\n",
       "      <th>160</th>\n",
       "      <td>Early-demographic dividend</td>\n",
       "      <td>EAR</td>\n",
       "      <td>1987</td>\n",
       "      <td>1.436813e+12</td>\n",
       "      <td>0.77</td>\n",
       "    </tr>\n",
       "    <tr>\n",
       "      <th>161</th>\n",
       "      <td>Early-demographic dividend</td>\n",
       "      <td>EAR</td>\n",
       "      <td>1988</td>\n",
       "      <td>1.545909e+12</td>\n",
       "      <td>7.59</td>\n",
       "    </tr>\n",
       "    <tr>\n",
       "      <th>162</th>\n",
       "      <td>Early-demographic dividend</td>\n",
       "      <td>EAR</td>\n",
       "      <td>1989</td>\n",
       "      <td>1.579987e+12</td>\n",
       "      <td>2.20</td>\n",
       "    </tr>\n",
       "    <tr>\n",
       "      <th>163</th>\n",
       "      <td>Early-demographic dividend</td>\n",
       "      <td>EAR</td>\n",
       "      <td>1990</td>\n",
       "      <td>1.819896e+12</td>\n",
       "      <td>15.18</td>\n",
       "    </tr>\n",
       "    <tr>\n",
       "      <th>164</th>\n",
       "      <td>Early-demographic dividend</td>\n",
       "      <td>EAR</td>\n",
       "      <td>1991</td>\n",
       "      <td>1.928919e+12</td>\n",
       "      <td>5.99</td>\n",
       "    </tr>\n",
       "    <tr>\n",
       "      <th>165</th>\n",
       "      <td>Early-demographic dividend</td>\n",
       "      <td>EAR</td>\n",
       "      <td>1992</td>\n",
       "      <td>2.116361e+12</td>\n",
       "      <td>9.72</td>\n",
       "    </tr>\n",
       "    <tr>\n",
       "      <th>166</th>\n",
       "      <td>Early-demographic dividend</td>\n",
       "      <td>EAR</td>\n",
       "      <td>1993</td>\n",
       "      <td>2.322855e+12</td>\n",
       "      <td>9.76</td>\n",
       "    </tr>\n",
       "    <tr>\n",
       "      <th>167</th>\n",
       "      <td>Early-demographic dividend</td>\n",
       "      <td>EAR</td>\n",
       "      <td>1994</td>\n",
       "      <td>2.432161e+12</td>\n",
       "      <td>4.71</td>\n",
       "    </tr>\n",
       "    <tr>\n",
       "      <th>168</th>\n",
       "      <td>Early-demographic dividend</td>\n",
       "      <td>EAR</td>\n",
       "      <td>1995</td>\n",
       "      <td>2.482548e+12</td>\n",
       "      <td>2.07</td>\n",
       "    </tr>\n",
       "    <tr>\n",
       "      <th>169</th>\n",
       "      <td>Early-demographic dividend</td>\n",
       "      <td>EAR</td>\n",
       "      <td>1996</td>\n",
       "      <td>2.709495e+12</td>\n",
       "      <td>9.14</td>\n",
       "    </tr>\n",
       "    <tr>\n",
       "      <th>170</th>\n",
       "      <td>Early-demographic dividend</td>\n",
       "      <td>EAR</td>\n",
       "      <td>1997</td>\n",
       "      <td>2.893194e+12</td>\n",
       "      <td>6.78</td>\n",
       "    </tr>\n",
       "    <tr>\n",
       "      <th>171</th>\n",
       "      <td>Early-demographic dividend</td>\n",
       "      <td>EAR</td>\n",
       "      <td>1998</td>\n",
       "      <td>2.846298e+12</td>\n",
       "      <td>-1.62</td>\n",
       "    </tr>\n",
       "    <tr>\n",
       "      <th>172</th>\n",
       "      <td>Early-demographic dividend</td>\n",
       "      <td>EAR</td>\n",
       "      <td>1999</td>\n",
       "      <td>3.019867e+12</td>\n",
       "      <td>6.10</td>\n",
       "    </tr>\n",
       "    <tr>\n",
       "      <th>173</th>\n",
       "      <td>Early-demographic dividend</td>\n",
       "      <td>EAR</td>\n",
       "      <td>2000</td>\n",
       "      <td>3.275877e+12</td>\n",
       "      <td>8.48</td>\n",
       "    </tr>\n",
       "    <tr>\n",
       "      <th>174</th>\n",
       "      <td>Early-demographic dividend</td>\n",
       "      <td>EAR</td>\n",
       "      <td>2001</td>\n",
       "      <td>3.235007e+12</td>\n",
       "      <td>-1.25</td>\n",
       "    </tr>\n",
       "    <tr>\n",
       "      <th>175</th>\n",
       "      <td>Early-demographic dividend</td>\n",
       "      <td>EAR</td>\n",
       "      <td>2002</td>\n",
       "      <td>3.144219e+12</td>\n",
       "      <td>-2.81</td>\n",
       "    </tr>\n",
       "    <tr>\n",
       "      <th>176</th>\n",
       "      <td>Early-demographic dividend</td>\n",
       "      <td>EAR</td>\n",
       "      <td>2003</td>\n",
       "      <td>3.516151e+12</td>\n",
       "      <td>11.83</td>\n",
       "    </tr>\n",
       "    <tr>\n",
       "      <th>177</th>\n",
       "      <td>Early-demographic dividend</td>\n",
       "      <td>EAR</td>\n",
       "      <td>2004</td>\n",
       "      <td>4.090112e+12</td>\n",
       "      <td>16.32</td>\n",
       "    </tr>\n",
       "    <tr>\n",
       "      <th>178</th>\n",
       "      <td>Early-demographic dividend</td>\n",
       "      <td>EAR</td>\n",
       "      <td>2005</td>\n",
       "      <td>4.767620e+12</td>\n",
       "      <td>16.56</td>\n",
       "    </tr>\n",
       "    <tr>\n",
       "      <th>179</th>\n",
       "      <td>Early-demographic dividend</td>\n",
       "      <td>EAR</td>\n",
       "      <td>2006</td>\n",
       "      <td>5.462304e+12</td>\n",
       "      <td>14.57</td>\n",
       "    </tr>\n",
       "    <tr>\n",
       "      <th>180</th>\n",
       "      <td>Early-demographic dividend</td>\n",
       "      <td>EAR</td>\n",
       "      <td>2007</td>\n",
       "      <td>6.488824e+12</td>\n",
       "      <td>18.79</td>\n",
       "    </tr>\n",
       "    <tr>\n",
       "      <th>181</th>\n",
       "      <td>Early-demographic dividend</td>\n",
       "      <td>EAR</td>\n",
       "      <td>2008</td>\n",
       "      <td>7.317501e+12</td>\n",
       "      <td>12.77</td>\n",
       "    </tr>\n",
       "    <tr>\n",
       "      <th>182</th>\n",
       "      <td>Early-demographic dividend</td>\n",
       "      <td>EAR</td>\n",
       "      <td>2009</td>\n",
       "      <td>7.045912e+12</td>\n",
       "      <td>-3.71</td>\n",
       "    </tr>\n",
       "    <tr>\n",
       "      <th>183</th>\n",
       "      <td>Early-demographic dividend</td>\n",
       "      <td>EAR</td>\n",
       "      <td>2010</td>\n",
       "      <td>8.514323e+12</td>\n",
       "      <td>20.84</td>\n",
       "    </tr>\n",
       "    <tr>\n",
       "      <th>184</th>\n",
       "      <td>Early-demographic dividend</td>\n",
       "      <td>EAR</td>\n",
       "      <td>2011</td>\n",
       "      <td>9.564929e+12</td>\n",
       "      <td>12.34</td>\n",
       "    </tr>\n",
       "    <tr>\n",
       "      <th>185</th>\n",
       "      <td>Early-demographic dividend</td>\n",
       "      <td>EAR</td>\n",
       "      <td>2012</td>\n",
       "      <td>9.974410e+12</td>\n",
       "      <td>4.28</td>\n",
       "    </tr>\n",
       "    <tr>\n",
       "      <th>186</th>\n",
       "      <td>Early-demographic dividend</td>\n",
       "      <td>EAR</td>\n",
       "      <td>2013</td>\n",
       "      <td>1.016072e+13</td>\n",
       "      <td>1.87</td>\n",
       "    </tr>\n",
       "    <tr>\n",
       "      <th>187</th>\n",
       "      <td>Early-demographic dividend</td>\n",
       "      <td>EAR</td>\n",
       "      <td>2014</td>\n",
       "      <td>1.052987e+13</td>\n",
       "      <td>3.63</td>\n",
       "    </tr>\n",
       "    <tr>\n",
       "      <th>188</th>\n",
       "      <td>Early-demographic dividend</td>\n",
       "      <td>EAR</td>\n",
       "      <td>2015</td>\n",
       "      <td>1.019497e+13</td>\n",
       "      <td>-3.18</td>\n",
       "    </tr>\n",
       "    <tr>\n",
       "      <th>189</th>\n",
       "      <td>Early-demographic dividend</td>\n",
       "      <td>EAR</td>\n",
       "      <td>2016</td>\n",
       "      <td>1.040199e+13</td>\n",
       "      <td>2.03</td>\n",
       "    </tr>\n",
       "  </tbody>\n",
       "</table>\n",
       "</div>"
      ],
      "text/plain": [
       "                   Country Name Country Code  Year         Value    GDP\n",
       "133  Early-demographic dividend          EAR  1960  1.523785e+11   0.00\n",
       "134  Early-demographic dividend          EAR  1961  1.533115e+11   0.61\n",
       "135  Early-demographic dividend          EAR  1962  1.589168e+11   3.66\n",
       "136  Early-demographic dividend          EAR  1963  1.680909e+11   5.77\n",
       "137  Early-demographic dividend          EAR  1964  1.925508e+11  14.55\n",
       "138  Early-demographic dividend          EAR  1965  2.099184e+11   9.02\n",
       "139  Early-demographic dividend          EAR  1966  2.071921e+11  -1.30\n",
       "140  Early-demographic dividend          EAR  1967  2.174348e+11   4.94\n",
       "141  Early-demographic dividend          EAR  1968  2.356193e+11   8.36\n",
       "142  Early-demographic dividend          EAR  1969  2.633785e+11  11.78\n",
       "143  Early-demographic dividend          EAR  1970  2.791935e+11   6.00\n",
       "144  Early-demographic dividend          EAR  1971  3.015858e+11   8.02\n",
       "145  Early-demographic dividend          EAR  1972  3.315937e+11   9.95\n",
       "146  Early-demographic dividend          EAR  1973  4.244139e+11  27.99\n",
       "147  Early-demographic dividend          EAR  1974  5.954048e+11  40.29\n",
       "148  Early-demographic dividend          EAR  1975  6.394332e+11   7.39\n",
       "149  Early-demographic dividend          EAR  1976  6.982596e+11   9.20\n",
       "150  Early-demographic dividend          EAR  1977  7.813030e+11  11.89\n",
       "151  Early-demographic dividend          EAR  1978  8.649220e+11  10.70\n",
       "152  Early-demographic dividend          EAR  1979  1.051437e+12  21.56\n",
       "153  Early-demographic dividend          EAR  1980  1.295402e+12  23.20\n",
       "154  Early-demographic dividend          EAR  1981  1.447517e+12  11.74\n",
       "155  Early-demographic dividend          EAR  1982  1.379491e+12  -4.70\n",
       "156  Early-demographic dividend          EAR  1983  1.392376e+12   0.93\n",
       "157  Early-demographic dividend          EAR  1984  1.372231e+12  -1.45\n",
       "158  Early-demographic dividend          EAR  1985  1.405011e+12   2.39\n",
       "159  Early-demographic dividend          EAR  1986  1.425839e+12   1.48\n",
       "160  Early-demographic dividend          EAR  1987  1.436813e+12   0.77\n",
       "161  Early-demographic dividend          EAR  1988  1.545909e+12   7.59\n",
       "162  Early-demographic dividend          EAR  1989  1.579987e+12   2.20\n",
       "163  Early-demographic dividend          EAR  1990  1.819896e+12  15.18\n",
       "164  Early-demographic dividend          EAR  1991  1.928919e+12   5.99\n",
       "165  Early-demographic dividend          EAR  1992  2.116361e+12   9.72\n",
       "166  Early-demographic dividend          EAR  1993  2.322855e+12   9.76\n",
       "167  Early-demographic dividend          EAR  1994  2.432161e+12   4.71\n",
       "168  Early-demographic dividend          EAR  1995  2.482548e+12   2.07\n",
       "169  Early-demographic dividend          EAR  1996  2.709495e+12   9.14\n",
       "170  Early-demographic dividend          EAR  1997  2.893194e+12   6.78\n",
       "171  Early-demographic dividend          EAR  1998  2.846298e+12  -1.62\n",
       "172  Early-demographic dividend          EAR  1999  3.019867e+12   6.10\n",
       "173  Early-demographic dividend          EAR  2000  3.275877e+12   8.48\n",
       "174  Early-demographic dividend          EAR  2001  3.235007e+12  -1.25\n",
       "175  Early-demographic dividend          EAR  2002  3.144219e+12  -2.81\n",
       "176  Early-demographic dividend          EAR  2003  3.516151e+12  11.83\n",
       "177  Early-demographic dividend          EAR  2004  4.090112e+12  16.32\n",
       "178  Early-demographic dividend          EAR  2005  4.767620e+12  16.56\n",
       "179  Early-demographic dividend          EAR  2006  5.462304e+12  14.57\n",
       "180  Early-demographic dividend          EAR  2007  6.488824e+12  18.79\n",
       "181  Early-demographic dividend          EAR  2008  7.317501e+12  12.77\n",
       "182  Early-demographic dividend          EAR  2009  7.045912e+12  -3.71\n",
       "183  Early-demographic dividend          EAR  2010  8.514323e+12  20.84\n",
       "184  Early-demographic dividend          EAR  2011  9.564929e+12  12.34\n",
       "185  Early-demographic dividend          EAR  2012  9.974410e+12   4.28\n",
       "186  Early-demographic dividend          EAR  2013  1.016072e+13   1.87\n",
       "187  Early-demographic dividend          EAR  2014  1.052987e+13   3.63\n",
       "188  Early-demographic dividend          EAR  2015  1.019497e+13  -3.18\n",
       "189  Early-demographic dividend          EAR  2016  1.040199e+13   2.03"
      ]
     },
     "execution_count": 48,
     "metadata": {},
     "output_type": "execute_result"
    }
   ],
   "source": [
    "final_data[3]"
   ]
  },
  {
   "cell_type": "code",
   "execution_count": 49,
   "id": "0f132a8a",
   "metadata": {},
   "outputs": [],
   "source": [
    "df = pd.concat(final_data, axis = 0)"
   ]
  },
  {
   "cell_type": "code",
   "execution_count": 51,
   "id": "1a8e9734",
   "metadata": {},
   "outputs": [
    {
     "data": {
      "text/html": [
       "<div>\n",
       "<style scoped>\n",
       "    .dataframe tbody tr th:only-of-type {\n",
       "        vertical-align: middle;\n",
       "    }\n",
       "\n",
       "    .dataframe tbody tr th {\n",
       "        vertical-align: top;\n",
       "    }\n",
       "\n",
       "    .dataframe thead th {\n",
       "        text-align: right;\n",
       "    }\n",
       "</style>\n",
       "<table border=\"1\" class=\"dataframe\">\n",
       "  <thead>\n",
       "    <tr style=\"text-align: right;\">\n",
       "      <th></th>\n",
       "      <th>Country Name</th>\n",
       "      <th>Country Code</th>\n",
       "      <th>Year</th>\n",
       "      <th>Value</th>\n",
       "      <th>GDP</th>\n",
       "    </tr>\n",
       "  </thead>\n",
       "  <tbody>\n",
       "    <tr>\n",
       "      <th>0</th>\n",
       "      <td>Arab World</td>\n",
       "      <td>ARB</td>\n",
       "      <td>1968</td>\n",
       "      <td>2.576068e+10</td>\n",
       "      <td>0.00</td>\n",
       "    </tr>\n",
       "    <tr>\n",
       "      <th>1</th>\n",
       "      <td>Arab World</td>\n",
       "      <td>ARB</td>\n",
       "      <td>1969</td>\n",
       "      <td>2.843420e+10</td>\n",
       "      <td>10.38</td>\n",
       "    </tr>\n",
       "    <tr>\n",
       "      <th>2</th>\n",
       "      <td>Arab World</td>\n",
       "      <td>ARB</td>\n",
       "      <td>1970</td>\n",
       "      <td>3.138550e+10</td>\n",
       "      <td>10.38</td>\n",
       "    </tr>\n",
       "    <tr>\n",
       "      <th>3</th>\n",
       "      <td>Arab World</td>\n",
       "      <td>ARB</td>\n",
       "      <td>1971</td>\n",
       "      <td>3.642691e+10</td>\n",
       "      <td>16.06</td>\n",
       "    </tr>\n",
       "    <tr>\n",
       "      <th>4</th>\n",
       "      <td>Arab World</td>\n",
       "      <td>ARB</td>\n",
       "      <td>1972</td>\n",
       "      <td>4.331606e+10</td>\n",
       "      <td>18.91</td>\n",
       "    </tr>\n",
       "  </tbody>\n",
       "</table>\n",
       "</div>"
      ],
      "text/plain": [
       "  Country Name Country Code  Year         Value    GDP\n",
       "0   Arab World          ARB  1968  2.576068e+10   0.00\n",
       "1   Arab World          ARB  1969  2.843420e+10  10.38\n",
       "2   Arab World          ARB  1970  3.138550e+10  10.38\n",
       "3   Arab World          ARB  1971  3.642691e+10  16.06\n",
       "4   Arab World          ARB  1972  4.331606e+10  18.91"
      ]
     },
     "execution_count": 51,
     "metadata": {},
     "output_type": "execute_result"
    }
   ],
   "source": [
    "df.head()"
   ]
  },
  {
   "cell_type": "code",
   "execution_count": 52,
   "id": "7796cc1c",
   "metadata": {},
   "outputs": [
    {
     "data": {
      "text/plain": [
       "Country Name\n",
       "Afghanistan           11.204737\n",
       "Albania                8.232121\n",
       "Algeria                8.415614\n",
       "American Samoa         1.937333\n",
       "Andorra                8.817660\n",
       "                        ...    \n",
       "West Bank and Gaza     7.273913\n",
       "World                  7.454386\n",
       "Yemen, Rep.            7.137037\n",
       "Zambia                 7.603684\n",
       "Zimbabwe               6.032982\n",
       "Name: GDP, Length: 256, dtype: float64"
      ]
     },
     "execution_count": 52,
     "metadata": {},
     "output_type": "execute_result"
    }
   ],
   "source": [
    "#show average growth in gdp of every country\n",
    "df.groupby('Country Name').mean()['GDP']"
   ]
  },
  {
   "cell_type": "code",
   "execution_count": 56,
   "id": "e4c93b64",
   "metadata": {},
   "outputs": [
    {
     "data": {
      "text/plain": [
       "Country Name\n",
       "World                        7.904923e+13\n",
       "High income                  5.036240e+13\n",
       "OECD members                 4.937008e+13\n",
       "Post-demographic dividend    4.673504e+13\n",
       "IDA & IBRD total             2.948247e+13\n",
       "Low & middle income          2.870476e+13\n",
       "Middle income                2.829277e+13\n",
       "IBRD only                    2.739661e+13\n",
       "Europe & Central Asia        2.365470e+13\n",
       "East Asia & Pacific          2.248043e+13\n",
       "Name: Value, dtype: float64"
      ]
     },
     "execution_count": 56,
     "metadata": {},
     "output_type": "execute_result"
    }
   ],
   "source": [
    "df.groupby('Country Name').max()['Value'].sort_values(ascending = False).head(10)"
   ]
  },
  {
   "cell_type": "markdown",
   "id": "8480cdde",
   "metadata": {},
   "source": [
    "## Plotting Graphs Using Plotly"
   ]
  },
  {
   "cell_type": "code",
   "execution_count": 60,
   "id": "937de51c",
   "metadata": {
    "collapsed": true
   },
   "outputs": [
    {
     "data": {
      "text/html": [
       "<div>\n",
       "<style scoped>\n",
       "    .dataframe tbody tr th:only-of-type {\n",
       "        vertical-align: middle;\n",
       "    }\n",
       "\n",
       "    .dataframe tbody tr th {\n",
       "        vertical-align: top;\n",
       "    }\n",
       "\n",
       "    .dataframe thead th {\n",
       "        text-align: right;\n",
       "    }\n",
       "</style>\n",
       "<table border=\"1\" class=\"dataframe\">\n",
       "  <thead>\n",
       "    <tr style=\"text-align: right;\">\n",
       "      <th></th>\n",
       "      <th>Country Name</th>\n",
       "      <th>Country Code</th>\n",
       "      <th>Year</th>\n",
       "      <th>Value</th>\n",
       "      <th>GDP</th>\n",
       "    </tr>\n",
       "  </thead>\n",
       "  <tbody>\n",
       "    <tr>\n",
       "      <th>2249</th>\n",
       "      <td>World</td>\n",
       "      <td>WLD</td>\n",
       "      <td>1960</td>\n",
       "      <td>1.366678e+12</td>\n",
       "      <td>0.00</td>\n",
       "    </tr>\n",
       "    <tr>\n",
       "      <th>2250</th>\n",
       "      <td>World</td>\n",
       "      <td>WLD</td>\n",
       "      <td>1961</td>\n",
       "      <td>1.421788e+12</td>\n",
       "      <td>4.03</td>\n",
       "    </tr>\n",
       "    <tr>\n",
       "      <th>2251</th>\n",
       "      <td>World</td>\n",
       "      <td>WLD</td>\n",
       "      <td>1962</td>\n",
       "      <td>1.526955e+12</td>\n",
       "      <td>7.40</td>\n",
       "    </tr>\n",
       "    <tr>\n",
       "      <th>2252</th>\n",
       "      <td>World</td>\n",
       "      <td>WLD</td>\n",
       "      <td>1963</td>\n",
       "      <td>1.643752e+12</td>\n",
       "      <td>7.65</td>\n",
       "    </tr>\n",
       "    <tr>\n",
       "      <th>2253</th>\n",
       "      <td>World</td>\n",
       "      <td>WLD</td>\n",
       "      <td>1964</td>\n",
       "      <td>1.800796e+12</td>\n",
       "      <td>9.55</td>\n",
       "    </tr>\n",
       "    <tr>\n",
       "      <th>2254</th>\n",
       "      <td>World</td>\n",
       "      <td>WLD</td>\n",
       "      <td>1965</td>\n",
       "      <td>1.961780e+12</td>\n",
       "      <td>8.94</td>\n",
       "    </tr>\n",
       "    <tr>\n",
       "      <th>2255</th>\n",
       "      <td>World</td>\n",
       "      <td>WLD</td>\n",
       "      <td>1966</td>\n",
       "      <td>2.128450e+12</td>\n",
       "      <td>8.50</td>\n",
       "    </tr>\n",
       "    <tr>\n",
       "      <th>2256</th>\n",
       "      <td>World</td>\n",
       "      <td>WLD</td>\n",
       "      <td>1967</td>\n",
       "      <td>2.264600e+12</td>\n",
       "      <td>6.40</td>\n",
       "    </tr>\n",
       "    <tr>\n",
       "      <th>2257</th>\n",
       "      <td>World</td>\n",
       "      <td>WLD</td>\n",
       "      <td>1968</td>\n",
       "      <td>2.443224e+12</td>\n",
       "      <td>7.89</td>\n",
       "    </tr>\n",
       "    <tr>\n",
       "      <th>2258</th>\n",
       "      <td>World</td>\n",
       "      <td>WLD</td>\n",
       "      <td>1969</td>\n",
       "      <td>2.690798e+12</td>\n",
       "      <td>10.13</td>\n",
       "    </tr>\n",
       "    <tr>\n",
       "      <th>2259</th>\n",
       "      <td>World</td>\n",
       "      <td>WLD</td>\n",
       "      <td>1970</td>\n",
       "      <td>2.957800e+12</td>\n",
       "      <td>9.92</td>\n",
       "    </tr>\n",
       "    <tr>\n",
       "      <th>2260</th>\n",
       "      <td>World</td>\n",
       "      <td>WLD</td>\n",
       "      <td>1971</td>\n",
       "      <td>3.266907e+12</td>\n",
       "      <td>10.45</td>\n",
       "    </tr>\n",
       "    <tr>\n",
       "      <th>2261</th>\n",
       "      <td>World</td>\n",
       "      <td>WLD</td>\n",
       "      <td>1972</td>\n",
       "      <td>3.767674e+12</td>\n",
       "      <td>15.33</td>\n",
       "    </tr>\n",
       "    <tr>\n",
       "      <th>2262</th>\n",
       "      <td>World</td>\n",
       "      <td>WLD</td>\n",
       "      <td>1973</td>\n",
       "      <td>4.591346e+12</td>\n",
       "      <td>21.86</td>\n",
       "    </tr>\n",
       "    <tr>\n",
       "      <th>2263</th>\n",
       "      <td>World</td>\n",
       "      <td>WLD</td>\n",
       "      <td>1974</td>\n",
       "      <td>5.296032e+12</td>\n",
       "      <td>15.35</td>\n",
       "    </tr>\n",
       "    <tr>\n",
       "      <th>2264</th>\n",
       "      <td>World</td>\n",
       "      <td>WLD</td>\n",
       "      <td>1975</td>\n",
       "      <td>5.897205e+12</td>\n",
       "      <td>11.35</td>\n",
       "    </tr>\n",
       "    <tr>\n",
       "      <th>2265</th>\n",
       "      <td>World</td>\n",
       "      <td>WLD</td>\n",
       "      <td>1976</td>\n",
       "      <td>6.416473e+12</td>\n",
       "      <td>8.81</td>\n",
       "    </tr>\n",
       "    <tr>\n",
       "      <th>2266</th>\n",
       "      <td>World</td>\n",
       "      <td>WLD</td>\n",
       "      <td>1977</td>\n",
       "      <td>7.257627e+12</td>\n",
       "      <td>13.11</td>\n",
       "    </tr>\n",
       "    <tr>\n",
       "      <th>2267</th>\n",
       "      <td>World</td>\n",
       "      <td>WLD</td>\n",
       "      <td>1978</td>\n",
       "      <td>8.542925e+12</td>\n",
       "      <td>17.71</td>\n",
       "    </tr>\n",
       "    <tr>\n",
       "      <th>2268</th>\n",
       "      <td>World</td>\n",
       "      <td>WLD</td>\n",
       "      <td>1979</td>\n",
       "      <td>9.925897e+12</td>\n",
       "      <td>16.19</td>\n",
       "    </tr>\n",
       "    <tr>\n",
       "      <th>2269</th>\n",
       "      <td>World</td>\n",
       "      <td>WLD</td>\n",
       "      <td>1980</td>\n",
       "      <td>1.117220e+13</td>\n",
       "      <td>12.56</td>\n",
       "    </tr>\n",
       "    <tr>\n",
       "      <th>2270</th>\n",
       "      <td>World</td>\n",
       "      <td>WLD</td>\n",
       "      <td>1981</td>\n",
       "      <td>1.146435e+13</td>\n",
       "      <td>2.61</td>\n",
       "    </tr>\n",
       "    <tr>\n",
       "      <th>2271</th>\n",
       "      <td>World</td>\n",
       "      <td>WLD</td>\n",
       "      <td>1982</td>\n",
       "      <td>1.136365e+13</td>\n",
       "      <td>-0.88</td>\n",
       "    </tr>\n",
       "    <tr>\n",
       "      <th>2272</th>\n",
       "      <td>World</td>\n",
       "      <td>WLD</td>\n",
       "      <td>1983</td>\n",
       "      <td>1.162371e+13</td>\n",
       "      <td>2.29</td>\n",
       "    </tr>\n",
       "    <tr>\n",
       "      <th>2273</th>\n",
       "      <td>World</td>\n",
       "      <td>WLD</td>\n",
       "      <td>1984</td>\n",
       "      <td>1.206507e+13</td>\n",
       "      <td>3.80</td>\n",
       "    </tr>\n",
       "    <tr>\n",
       "      <th>2274</th>\n",
       "      <td>World</td>\n",
       "      <td>WLD</td>\n",
       "      <td>1985</td>\n",
       "      <td>1.268915e+13</td>\n",
       "      <td>5.17</td>\n",
       "    </tr>\n",
       "    <tr>\n",
       "      <th>2275</th>\n",
       "      <td>World</td>\n",
       "      <td>WLD</td>\n",
       "      <td>1986</td>\n",
       "      <td>1.502258e+13</td>\n",
       "      <td>18.39</td>\n",
       "    </tr>\n",
       "    <tr>\n",
       "      <th>2276</th>\n",
       "      <td>World</td>\n",
       "      <td>WLD</td>\n",
       "      <td>1987</td>\n",
       "      <td>1.709169e+13</td>\n",
       "      <td>13.77</td>\n",
       "    </tr>\n",
       "    <tr>\n",
       "      <th>2277</th>\n",
       "      <td>World</td>\n",
       "      <td>WLD</td>\n",
       "      <td>1988</td>\n",
       "      <td>1.914081e+13</td>\n",
       "      <td>11.99</td>\n",
       "    </tr>\n",
       "    <tr>\n",
       "      <th>2278</th>\n",
       "      <td>World</td>\n",
       "      <td>WLD</td>\n",
       "      <td>1989</td>\n",
       "      <td>2.009283e+13</td>\n",
       "      <td>4.97</td>\n",
       "    </tr>\n",
       "    <tr>\n",
       "      <th>2279</th>\n",
       "      <td>World</td>\n",
       "      <td>WLD</td>\n",
       "      <td>1990</td>\n",
       "      <td>2.259501e+13</td>\n",
       "      <td>12.45</td>\n",
       "    </tr>\n",
       "    <tr>\n",
       "      <th>2280</th>\n",
       "      <td>World</td>\n",
       "      <td>WLD</td>\n",
       "      <td>1991</td>\n",
       "      <td>2.392763e+13</td>\n",
       "      <td>5.90</td>\n",
       "    </tr>\n",
       "    <tr>\n",
       "      <th>2281</th>\n",
       "      <td>World</td>\n",
       "      <td>WLD</td>\n",
       "      <td>1992</td>\n",
       "      <td>2.540995e+13</td>\n",
       "      <td>6.20</td>\n",
       "    </tr>\n",
       "    <tr>\n",
       "      <th>2282</th>\n",
       "      <td>World</td>\n",
       "      <td>WLD</td>\n",
       "      <td>1993</td>\n",
       "      <td>2.585904e+13</td>\n",
       "      <td>1.77</td>\n",
       "    </tr>\n",
       "    <tr>\n",
       "      <th>2283</th>\n",
       "      <td>World</td>\n",
       "      <td>WLD</td>\n",
       "      <td>1994</td>\n",
       "      <td>2.776751e+13</td>\n",
       "      <td>7.38</td>\n",
       "    </tr>\n",
       "    <tr>\n",
       "      <th>2284</th>\n",
       "      <td>World</td>\n",
       "      <td>WLD</td>\n",
       "      <td>1995</td>\n",
       "      <td>3.087259e+13</td>\n",
       "      <td>11.18</td>\n",
       "    </tr>\n",
       "    <tr>\n",
       "      <th>2285</th>\n",
       "      <td>World</td>\n",
       "      <td>WLD</td>\n",
       "      <td>1996</td>\n",
       "      <td>3.155268e+13</td>\n",
       "      <td>2.20</td>\n",
       "    </tr>\n",
       "    <tr>\n",
       "      <th>2286</th>\n",
       "      <td>World</td>\n",
       "      <td>WLD</td>\n",
       "      <td>1997</td>\n",
       "      <td>3.143539e+13</td>\n",
       "      <td>-0.37</td>\n",
       "    </tr>\n",
       "    <tr>\n",
       "      <th>2287</th>\n",
       "      <td>World</td>\n",
       "      <td>WLD</td>\n",
       "      <td>1998</td>\n",
       "      <td>3.133878e+13</td>\n",
       "      <td>-0.31</td>\n",
       "    </tr>\n",
       "    <tr>\n",
       "      <th>2288</th>\n",
       "      <td>World</td>\n",
       "      <td>WLD</td>\n",
       "      <td>1999</td>\n",
       "      <td>3.251083e+13</td>\n",
       "      <td>3.74</td>\n",
       "    </tr>\n",
       "    <tr>\n",
       "      <th>2289</th>\n",
       "      <td>World</td>\n",
       "      <td>WLD</td>\n",
       "      <td>2000</td>\n",
       "      <td>3.356657e+13</td>\n",
       "      <td>3.25</td>\n",
       "    </tr>\n",
       "    <tr>\n",
       "      <th>2290</th>\n",
       "      <td>World</td>\n",
       "      <td>WLD</td>\n",
       "      <td>2001</td>\n",
       "      <td>3.335455e+13</td>\n",
       "      <td>-0.63</td>\n",
       "    </tr>\n",
       "    <tr>\n",
       "      <th>2291</th>\n",
       "      <td>World</td>\n",
       "      <td>WLD</td>\n",
       "      <td>2002</td>\n",
       "      <td>3.463596e+13</td>\n",
       "      <td>3.84</td>\n",
       "    </tr>\n",
       "    <tr>\n",
       "      <th>2292</th>\n",
       "      <td>World</td>\n",
       "      <td>WLD</td>\n",
       "      <td>2003</td>\n",
       "      <td>3.889406e+13</td>\n",
       "      <td>12.29</td>\n",
       "    </tr>\n",
       "    <tr>\n",
       "      <th>2293</th>\n",
       "      <td>World</td>\n",
       "      <td>WLD</td>\n",
       "      <td>2004</td>\n",
       "      <td>4.380482e+13</td>\n",
       "      <td>12.63</td>\n",
       "    </tr>\n",
       "    <tr>\n",
       "      <th>2294</th>\n",
       "      <td>World</td>\n",
       "      <td>WLD</td>\n",
       "      <td>2005</td>\n",
       "      <td>4.742889e+13</td>\n",
       "      <td>8.27</td>\n",
       "    </tr>\n",
       "    <tr>\n",
       "      <th>2295</th>\n",
       "      <td>World</td>\n",
       "      <td>WLD</td>\n",
       "      <td>2006</td>\n",
       "      <td>5.136324e+13</td>\n",
       "      <td>8.30</td>\n",
       "    </tr>\n",
       "    <tr>\n",
       "      <th>2296</th>\n",
       "      <td>World</td>\n",
       "      <td>WLD</td>\n",
       "      <td>2007</td>\n",
       "      <td>5.785897e+13</td>\n",
       "      <td>12.65</td>\n",
       "    </tr>\n",
       "    <tr>\n",
       "      <th>2297</th>\n",
       "      <td>World</td>\n",
       "      <td>WLD</td>\n",
       "      <td>2008</td>\n",
       "      <td>6.346181e+13</td>\n",
       "      <td>9.68</td>\n",
       "    </tr>\n",
       "    <tr>\n",
       "      <th>2298</th>\n",
       "      <td>World</td>\n",
       "      <td>WLD</td>\n",
       "      <td>2009</td>\n",
       "      <td>6.016835e+13</td>\n",
       "      <td>-5.19</td>\n",
       "    </tr>\n",
       "    <tr>\n",
       "      <th>2299</th>\n",
       "      <td>World</td>\n",
       "      <td>WLD</td>\n",
       "      <td>2010</td>\n",
       "      <td>6.595453e+13</td>\n",
       "      <td>9.62</td>\n",
       "    </tr>\n",
       "    <tr>\n",
       "      <th>2300</th>\n",
       "      <td>World</td>\n",
       "      <td>WLD</td>\n",
       "      <td>2011</td>\n",
       "      <td>7.327986e+13</td>\n",
       "      <td>11.11</td>\n",
       "    </tr>\n",
       "    <tr>\n",
       "      <th>2301</th>\n",
       "      <td>World</td>\n",
       "      <td>WLD</td>\n",
       "      <td>2012</td>\n",
       "      <td>7.488995e+13</td>\n",
       "      <td>2.20</td>\n",
       "    </tr>\n",
       "    <tr>\n",
       "      <th>2302</th>\n",
       "      <td>World</td>\n",
       "      <td>WLD</td>\n",
       "      <td>2013</td>\n",
       "      <td>7.699086e+13</td>\n",
       "      <td>2.81</td>\n",
       "    </tr>\n",
       "    <tr>\n",
       "      <th>2303</th>\n",
       "      <td>World</td>\n",
       "      <td>WLD</td>\n",
       "      <td>2014</td>\n",
       "      <td>7.904923e+13</td>\n",
       "      <td>2.67</td>\n",
       "    </tr>\n",
       "    <tr>\n",
       "      <th>2304</th>\n",
       "      <td>World</td>\n",
       "      <td>WLD</td>\n",
       "      <td>2015</td>\n",
       "      <td>7.475775e+13</td>\n",
       "      <td>-5.43</td>\n",
       "    </tr>\n",
       "    <tr>\n",
       "      <th>2305</th>\n",
       "      <td>World</td>\n",
       "      <td>WLD</td>\n",
       "      <td>2016</td>\n",
       "      <td>7.584511e+13</td>\n",
       "      <td>1.45</td>\n",
       "    </tr>\n",
       "  </tbody>\n",
       "</table>\n",
       "</div>"
      ],
      "text/plain": [
       "     Country Name Country Code  Year         Value    GDP\n",
       "2249        World          WLD  1960  1.366678e+12   0.00\n",
       "2250        World          WLD  1961  1.421788e+12   4.03\n",
       "2251        World          WLD  1962  1.526955e+12   7.40\n",
       "2252        World          WLD  1963  1.643752e+12   7.65\n",
       "2253        World          WLD  1964  1.800796e+12   9.55\n",
       "2254        World          WLD  1965  1.961780e+12   8.94\n",
       "2255        World          WLD  1966  2.128450e+12   8.50\n",
       "2256        World          WLD  1967  2.264600e+12   6.40\n",
       "2257        World          WLD  1968  2.443224e+12   7.89\n",
       "2258        World          WLD  1969  2.690798e+12  10.13\n",
       "2259        World          WLD  1970  2.957800e+12   9.92\n",
       "2260        World          WLD  1971  3.266907e+12  10.45\n",
       "2261        World          WLD  1972  3.767674e+12  15.33\n",
       "2262        World          WLD  1973  4.591346e+12  21.86\n",
       "2263        World          WLD  1974  5.296032e+12  15.35\n",
       "2264        World          WLD  1975  5.897205e+12  11.35\n",
       "2265        World          WLD  1976  6.416473e+12   8.81\n",
       "2266        World          WLD  1977  7.257627e+12  13.11\n",
       "2267        World          WLD  1978  8.542925e+12  17.71\n",
       "2268        World          WLD  1979  9.925897e+12  16.19\n",
       "2269        World          WLD  1980  1.117220e+13  12.56\n",
       "2270        World          WLD  1981  1.146435e+13   2.61\n",
       "2271        World          WLD  1982  1.136365e+13  -0.88\n",
       "2272        World          WLD  1983  1.162371e+13   2.29\n",
       "2273        World          WLD  1984  1.206507e+13   3.80\n",
       "2274        World          WLD  1985  1.268915e+13   5.17\n",
       "2275        World          WLD  1986  1.502258e+13  18.39\n",
       "2276        World          WLD  1987  1.709169e+13  13.77\n",
       "2277        World          WLD  1988  1.914081e+13  11.99\n",
       "2278        World          WLD  1989  2.009283e+13   4.97\n",
       "2279        World          WLD  1990  2.259501e+13  12.45\n",
       "2280        World          WLD  1991  2.392763e+13   5.90\n",
       "2281        World          WLD  1992  2.540995e+13   6.20\n",
       "2282        World          WLD  1993  2.585904e+13   1.77\n",
       "2283        World          WLD  1994  2.776751e+13   7.38\n",
       "2284        World          WLD  1995  3.087259e+13  11.18\n",
       "2285        World          WLD  1996  3.155268e+13   2.20\n",
       "2286        World          WLD  1997  3.143539e+13  -0.37\n",
       "2287        World          WLD  1998  3.133878e+13  -0.31\n",
       "2288        World          WLD  1999  3.251083e+13   3.74\n",
       "2289        World          WLD  2000  3.356657e+13   3.25\n",
       "2290        World          WLD  2001  3.335455e+13  -0.63\n",
       "2291        World          WLD  2002  3.463596e+13   3.84\n",
       "2292        World          WLD  2003  3.889406e+13  12.29\n",
       "2293        World          WLD  2004  4.380482e+13  12.63\n",
       "2294        World          WLD  2005  4.742889e+13   8.27\n",
       "2295        World          WLD  2006  5.136324e+13   8.30\n",
       "2296        World          WLD  2007  5.785897e+13  12.65\n",
       "2297        World          WLD  2008  6.346181e+13   9.68\n",
       "2298        World          WLD  2009  6.016835e+13  -5.19\n",
       "2299        World          WLD  2010  6.595453e+13   9.62\n",
       "2300        World          WLD  2011  7.327986e+13  11.11\n",
       "2301        World          WLD  2012  7.488995e+13   2.20\n",
       "2302        World          WLD  2013  7.699086e+13   2.81\n",
       "2303        World          WLD  2014  7.904923e+13   2.67\n",
       "2304        World          WLD  2015  7.475775e+13  -5.43\n",
       "2305        World          WLD  2016  7.584511e+13   1.45"
      ]
     },
     "execution_count": 60,
     "metadata": {},
     "output_type": "execute_result"
    }
   ],
   "source": [
    "df[df['Country Name'] == 'World']"
   ]
  },
  {
   "cell_type": "code",
   "execution_count": 32,
   "id": "acf2aff3",
   "metadata": {},
   "outputs": [
    {
     "data": {
      "application/vnd.plotly.v1+json": {
       "config": {
        "plotlyServerURL": "https://plot.ly"
       },
       "data": [
        {
         "hovertemplate": "Year=%{x}<br>Value=%{y}<extra></extra>",
         "legendgroup": "",
         "line": {
          "color": "#636efa",
          "dash": "solid"
         },
         "marker": {
          "symbol": "circle"
         },
         "mode": "lines",
         "name": "",
         "orientation": "v",
         "showlegend": false,
         "type": "scatter",
         "x": [
          1960,
          1961,
          1962,
          1963,
          1964,
          1965,
          1966,
          1967,
          1968,
          1969,
          1970,
          1971,
          1972,
          1973,
          1974,
          1975,
          1976,
          1977,
          1978,
          1979,
          1980,
          1981,
          1982,
          1983,
          1984,
          1985,
          1986,
          1987,
          1988,
          1989,
          1990,
          1991,
          1992,
          1993,
          1994,
          1995,
          1996,
          1997,
          1998,
          1999,
          2000,
          2001,
          2002,
          2003,
          2004,
          2005,
          2006,
          2007,
          2008,
          2009,
          2010,
          2011,
          2012,
          2013,
          2014,
          2015,
          2016
         ],
         "xaxis": "x",
         "y": [
          1366678314500.11,
          1421787954650.66,
          1526955368819.35,
          1643751761478.77,
          1800795995209.43,
          1961780296080.77,
          2128450484917.02,
          2264600480895.74,
          2443223914097.19,
          2690797713906.75,
          2957799684034.88,
          3266907090008.42,
          3767673874129.39,
          4591345929540.29,
          5296031606150.48,
          5897205371168.41,
          6416473081055.61,
          7257626963722.61,
          8542924735220.41,
          9925897437975.24,
          11172203734232.9,
          11464351513520.9,
          11363646516060.8,
          11623710624558.5,
          12065068062766.6,
          12689154578406.4,
          15022583231149.5,
          17091694967928.9,
          19140813953244.6,
          20092825106288.4,
          22595007714784.7,
          23927631710502.6,
          25409951568921.6,
          25859044482204.5,
          27767511728269.1,
          30872586998056.7,
          31552679853240.2,
          31435387611565.4,
          31338780339102.7,
          32510834041730.3,
          33566568243507,
          33354548715888.5,
          34635964364193.1,
          38894058718266,
          43804823746956.6,
          47428894542015.9,
          51363239608528.7,
          57858970551966.6,
          63461809858683.9,
          60168346976208.9,
          65954532001568.7,
          73279862292629,
          74889946508917.8,
          76990857251851,
          79049230590610.9,
          74757745150689.1,
          75845109381590.5
         ],
         "yaxis": "y"
        }
       ],
       "layout": {
        "legend": {
         "tracegroupgap": 0
        },
        "template": {
         "data": {
          "bar": [
           {
            "error_x": {
             "color": "#2a3f5f"
            },
            "error_y": {
             "color": "#2a3f5f"
            },
            "marker": {
             "line": {
              "color": "#E5ECF6",
              "width": 0.5
             },
             "pattern": {
              "fillmode": "overlay",
              "size": 10,
              "solidity": 0.2
             }
            },
            "type": "bar"
           }
          ],
          "barpolar": [
           {
            "marker": {
             "line": {
              "color": "#E5ECF6",
              "width": 0.5
             },
             "pattern": {
              "fillmode": "overlay",
              "size": 10,
              "solidity": 0.2
             }
            },
            "type": "barpolar"
           }
          ],
          "carpet": [
           {
            "aaxis": {
             "endlinecolor": "#2a3f5f",
             "gridcolor": "white",
             "linecolor": "white",
             "minorgridcolor": "white",
             "startlinecolor": "#2a3f5f"
            },
            "baxis": {
             "endlinecolor": "#2a3f5f",
             "gridcolor": "white",
             "linecolor": "white",
             "minorgridcolor": "white",
             "startlinecolor": "#2a3f5f"
            },
            "type": "carpet"
           }
          ],
          "choropleth": [
           {
            "colorbar": {
             "outlinewidth": 0,
             "ticks": ""
            },
            "type": "choropleth"
           }
          ],
          "contour": [
           {
            "colorbar": {
             "outlinewidth": 0,
             "ticks": ""
            },
            "colorscale": [
             [
              0,
              "#0d0887"
             ],
             [
              0.1111111111111111,
              "#46039f"
             ],
             [
              0.2222222222222222,
              "#7201a8"
             ],
             [
              0.3333333333333333,
              "#9c179e"
             ],
             [
              0.4444444444444444,
              "#bd3786"
             ],
             [
              0.5555555555555556,
              "#d8576b"
             ],
             [
              0.6666666666666666,
              "#ed7953"
             ],
             [
              0.7777777777777778,
              "#fb9f3a"
             ],
             [
              0.8888888888888888,
              "#fdca26"
             ],
             [
              1,
              "#f0f921"
             ]
            ],
            "type": "contour"
           }
          ],
          "contourcarpet": [
           {
            "colorbar": {
             "outlinewidth": 0,
             "ticks": ""
            },
            "type": "contourcarpet"
           }
          ],
          "heatmap": [
           {
            "colorbar": {
             "outlinewidth": 0,
             "ticks": ""
            },
            "colorscale": [
             [
              0,
              "#0d0887"
             ],
             [
              0.1111111111111111,
              "#46039f"
             ],
             [
              0.2222222222222222,
              "#7201a8"
             ],
             [
              0.3333333333333333,
              "#9c179e"
             ],
             [
              0.4444444444444444,
              "#bd3786"
             ],
             [
              0.5555555555555556,
              "#d8576b"
             ],
             [
              0.6666666666666666,
              "#ed7953"
             ],
             [
              0.7777777777777778,
              "#fb9f3a"
             ],
             [
              0.8888888888888888,
              "#fdca26"
             ],
             [
              1,
              "#f0f921"
             ]
            ],
            "type": "heatmap"
           }
          ],
          "heatmapgl": [
           {
            "colorbar": {
             "outlinewidth": 0,
             "ticks": ""
            },
            "colorscale": [
             [
              0,
              "#0d0887"
             ],
             [
              0.1111111111111111,
              "#46039f"
             ],
             [
              0.2222222222222222,
              "#7201a8"
             ],
             [
              0.3333333333333333,
              "#9c179e"
             ],
             [
              0.4444444444444444,
              "#bd3786"
             ],
             [
              0.5555555555555556,
              "#d8576b"
             ],
             [
              0.6666666666666666,
              "#ed7953"
             ],
             [
              0.7777777777777778,
              "#fb9f3a"
             ],
             [
              0.8888888888888888,
              "#fdca26"
             ],
             [
              1,
              "#f0f921"
             ]
            ],
            "type": "heatmapgl"
           }
          ],
          "histogram": [
           {
            "marker": {
             "pattern": {
              "fillmode": "overlay",
              "size": 10,
              "solidity": 0.2
             }
            },
            "type": "histogram"
           }
          ],
          "histogram2d": [
           {
            "colorbar": {
             "outlinewidth": 0,
             "ticks": ""
            },
            "colorscale": [
             [
              0,
              "#0d0887"
             ],
             [
              0.1111111111111111,
              "#46039f"
             ],
             [
              0.2222222222222222,
              "#7201a8"
             ],
             [
              0.3333333333333333,
              "#9c179e"
             ],
             [
              0.4444444444444444,
              "#bd3786"
             ],
             [
              0.5555555555555556,
              "#d8576b"
             ],
             [
              0.6666666666666666,
              "#ed7953"
             ],
             [
              0.7777777777777778,
              "#fb9f3a"
             ],
             [
              0.8888888888888888,
              "#fdca26"
             ],
             [
              1,
              "#f0f921"
             ]
            ],
            "type": "histogram2d"
           }
          ],
          "histogram2dcontour": [
           {
            "colorbar": {
             "outlinewidth": 0,
             "ticks": ""
            },
            "colorscale": [
             [
              0,
              "#0d0887"
             ],
             [
              0.1111111111111111,
              "#46039f"
             ],
             [
              0.2222222222222222,
              "#7201a8"
             ],
             [
              0.3333333333333333,
              "#9c179e"
             ],
             [
              0.4444444444444444,
              "#bd3786"
             ],
             [
              0.5555555555555556,
              "#d8576b"
             ],
             [
              0.6666666666666666,
              "#ed7953"
             ],
             [
              0.7777777777777778,
              "#fb9f3a"
             ],
             [
              0.8888888888888888,
              "#fdca26"
             ],
             [
              1,
              "#f0f921"
             ]
            ],
            "type": "histogram2dcontour"
           }
          ],
          "mesh3d": [
           {
            "colorbar": {
             "outlinewidth": 0,
             "ticks": ""
            },
            "type": "mesh3d"
           }
          ],
          "parcoords": [
           {
            "line": {
             "colorbar": {
              "outlinewidth": 0,
              "ticks": ""
             }
            },
            "type": "parcoords"
           }
          ],
          "pie": [
           {
            "automargin": true,
            "type": "pie"
           }
          ],
          "scatter": [
           {
            "fillpattern": {
             "fillmode": "overlay",
             "size": 10,
             "solidity": 0.2
            },
            "type": "scatter"
           }
          ],
          "scatter3d": [
           {
            "line": {
             "colorbar": {
              "outlinewidth": 0,
              "ticks": ""
             }
            },
            "marker": {
             "colorbar": {
              "outlinewidth": 0,
              "ticks": ""
             }
            },
            "type": "scatter3d"
           }
          ],
          "scattercarpet": [
           {
            "marker": {
             "colorbar": {
              "outlinewidth": 0,
              "ticks": ""
             }
            },
            "type": "scattercarpet"
           }
          ],
          "scattergeo": [
           {
            "marker": {
             "colorbar": {
              "outlinewidth": 0,
              "ticks": ""
             }
            },
            "type": "scattergeo"
           }
          ],
          "scattergl": [
           {
            "marker": {
             "colorbar": {
              "outlinewidth": 0,
              "ticks": ""
             }
            },
            "type": "scattergl"
           }
          ],
          "scattermapbox": [
           {
            "marker": {
             "colorbar": {
              "outlinewidth": 0,
              "ticks": ""
             }
            },
            "type": "scattermapbox"
           }
          ],
          "scatterpolar": [
           {
            "marker": {
             "colorbar": {
              "outlinewidth": 0,
              "ticks": ""
             }
            },
            "type": "scatterpolar"
           }
          ],
          "scatterpolargl": [
           {
            "marker": {
             "colorbar": {
              "outlinewidth": 0,
              "ticks": ""
             }
            },
            "type": "scatterpolargl"
           }
          ],
          "scatterternary": [
           {
            "marker": {
             "colorbar": {
              "outlinewidth": 0,
              "ticks": ""
             }
            },
            "type": "scatterternary"
           }
          ],
          "surface": [
           {
            "colorbar": {
             "outlinewidth": 0,
             "ticks": ""
            },
            "colorscale": [
             [
              0,
              "#0d0887"
             ],
             [
              0.1111111111111111,
              "#46039f"
             ],
             [
              0.2222222222222222,
              "#7201a8"
             ],
             [
              0.3333333333333333,
              "#9c179e"
             ],
             [
              0.4444444444444444,
              "#bd3786"
             ],
             [
              0.5555555555555556,
              "#d8576b"
             ],
             [
              0.6666666666666666,
              "#ed7953"
             ],
             [
              0.7777777777777778,
              "#fb9f3a"
             ],
             [
              0.8888888888888888,
              "#fdca26"
             ],
             [
              1,
              "#f0f921"
             ]
            ],
            "type": "surface"
           }
          ],
          "table": [
           {
            "cells": {
             "fill": {
              "color": "#EBF0F8"
             },
             "line": {
              "color": "white"
             }
            },
            "header": {
             "fill": {
              "color": "#C8D4E3"
             },
             "line": {
              "color": "white"
             }
            },
            "type": "table"
           }
          ]
         },
         "layout": {
          "annotationdefaults": {
           "arrowcolor": "#2a3f5f",
           "arrowhead": 0,
           "arrowwidth": 1
          },
          "autotypenumbers": "strict",
          "coloraxis": {
           "colorbar": {
            "outlinewidth": 0,
            "ticks": ""
           }
          },
          "colorscale": {
           "diverging": [
            [
             0,
             "#8e0152"
            ],
            [
             0.1,
             "#c51b7d"
            ],
            [
             0.2,
             "#de77ae"
            ],
            [
             0.3,
             "#f1b6da"
            ],
            [
             0.4,
             "#fde0ef"
            ],
            [
             0.5,
             "#f7f7f7"
            ],
            [
             0.6,
             "#e6f5d0"
            ],
            [
             0.7,
             "#b8e186"
            ],
            [
             0.8,
             "#7fbc41"
            ],
            [
             0.9,
             "#4d9221"
            ],
            [
             1,
             "#276419"
            ]
           ],
           "sequential": [
            [
             0,
             "#0d0887"
            ],
            [
             0.1111111111111111,
             "#46039f"
            ],
            [
             0.2222222222222222,
             "#7201a8"
            ],
            [
             0.3333333333333333,
             "#9c179e"
            ],
            [
             0.4444444444444444,
             "#bd3786"
            ],
            [
             0.5555555555555556,
             "#d8576b"
            ],
            [
             0.6666666666666666,
             "#ed7953"
            ],
            [
             0.7777777777777778,
             "#fb9f3a"
            ],
            [
             0.8888888888888888,
             "#fdca26"
            ],
            [
             1,
             "#f0f921"
            ]
           ],
           "sequentialminus": [
            [
             0,
             "#0d0887"
            ],
            [
             0.1111111111111111,
             "#46039f"
            ],
            [
             0.2222222222222222,
             "#7201a8"
            ],
            [
             0.3333333333333333,
             "#9c179e"
            ],
            [
             0.4444444444444444,
             "#bd3786"
            ],
            [
             0.5555555555555556,
             "#d8576b"
            ],
            [
             0.6666666666666666,
             "#ed7953"
            ],
            [
             0.7777777777777778,
             "#fb9f3a"
            ],
            [
             0.8888888888888888,
             "#fdca26"
            ],
            [
             1,
             "#f0f921"
            ]
           ]
          },
          "colorway": [
           "#636efa",
           "#EF553B",
           "#00cc96",
           "#ab63fa",
           "#FFA15A",
           "#19d3f3",
           "#FF6692",
           "#B6E880",
           "#FF97FF",
           "#FECB52"
          ],
          "font": {
           "color": "#2a3f5f"
          },
          "geo": {
           "bgcolor": "white",
           "lakecolor": "white",
           "landcolor": "#E5ECF6",
           "showlakes": true,
           "showland": true,
           "subunitcolor": "white"
          },
          "hoverlabel": {
           "align": "left"
          },
          "hovermode": "closest",
          "mapbox": {
           "style": "light"
          },
          "paper_bgcolor": "white",
          "plot_bgcolor": "#E5ECF6",
          "polar": {
           "angularaxis": {
            "gridcolor": "white",
            "linecolor": "white",
            "ticks": ""
           },
           "bgcolor": "#E5ECF6",
           "radialaxis": {
            "gridcolor": "white",
            "linecolor": "white",
            "ticks": ""
           }
          },
          "scene": {
           "xaxis": {
            "backgroundcolor": "#E5ECF6",
            "gridcolor": "white",
            "gridwidth": 2,
            "linecolor": "white",
            "showbackground": true,
            "ticks": "",
            "zerolinecolor": "white"
           },
           "yaxis": {
            "backgroundcolor": "#E5ECF6",
            "gridcolor": "white",
            "gridwidth": 2,
            "linecolor": "white",
            "showbackground": true,
            "ticks": "",
            "zerolinecolor": "white"
           },
           "zaxis": {
            "backgroundcolor": "#E5ECF6",
            "gridcolor": "white",
            "gridwidth": 2,
            "linecolor": "white",
            "showbackground": true,
            "ticks": "",
            "zerolinecolor": "white"
           }
          },
          "shapedefaults": {
           "line": {
            "color": "#2a3f5f"
           }
          },
          "ternary": {
           "aaxis": {
            "gridcolor": "white",
            "linecolor": "white",
            "ticks": ""
           },
           "baxis": {
            "gridcolor": "white",
            "linecolor": "white",
            "ticks": ""
           },
           "bgcolor": "#E5ECF6",
           "caxis": {
            "gridcolor": "white",
            "linecolor": "white",
            "ticks": ""
           }
          },
          "title": {
           "x": 0.05
          },
          "xaxis": {
           "automargin": true,
           "gridcolor": "white",
           "linecolor": "white",
           "ticks": "",
           "title": {
            "standoff": 15
           },
           "zerolinecolor": "white",
           "zerolinewidth": 2
          },
          "yaxis": {
           "automargin": true,
           "gridcolor": "white",
           "linecolor": "white",
           "ticks": "",
           "title": {
            "standoff": 15
           },
           "zerolinecolor": "white",
           "zerolinewidth": 2
          }
         }
        },
        "title": {
         "text": "World GDP Analysis"
        },
        "xaxis": {
         "anchor": "y",
         "domain": [
          0,
          1
         ],
         "title": {
          "text": "Year"
         }
        },
        "yaxis": {
         "anchor": "x",
         "domain": [
          0,
          1
         ],
         "title": {
          "text": "Value"
         }
        }
       }
      },
      "text/html": [
       "<div>                            <div id=\"26bd4cdd-e705-45b7-baaa-0ed563f08867\" class=\"plotly-graph-div\" style=\"height:525px; width:100%;\"></div>            <script type=\"text/javascript\">                require([\"plotly\"], function(Plotly) {                    window.PLOTLYENV=window.PLOTLYENV || {};                                    if (document.getElementById(\"26bd4cdd-e705-45b7-baaa-0ed563f08867\")) {                    Plotly.newPlot(                        \"26bd4cdd-e705-45b7-baaa-0ed563f08867\",                        [{\"hovertemplate\":\"Year=%{x}<br>Value=%{y}<extra></extra>\",\"legendgroup\":\"\",\"line\":{\"color\":\"#636efa\",\"dash\":\"solid\"},\"marker\":{\"symbol\":\"circle\"},\"mode\":\"lines\",\"name\":\"\",\"orientation\":\"v\",\"showlegend\":false,\"x\":[1960,1961,1962,1963,1964,1965,1966,1967,1968,1969,1970,1971,1972,1973,1974,1975,1976,1977,1978,1979,1980,1981,1982,1983,1984,1985,1986,1987,1988,1989,1990,1991,1992,1993,1994,1995,1996,1997,1998,1999,2000,2001,2002,2003,2004,2005,2006,2007,2008,2009,2010,2011,2012,2013,2014,2015,2016],\"xaxis\":\"x\",\"y\":[1366678314500.11,1421787954650.66,1526955368819.35,1643751761478.77,1800795995209.43,1961780296080.77,2128450484917.02,2264600480895.74,2443223914097.19,2690797713906.75,2957799684034.88,3266907090008.42,3767673874129.39,4591345929540.29,5296031606150.48,5897205371168.41,6416473081055.61,7257626963722.61,8542924735220.41,9925897437975.24,11172203734232.9,11464351513520.9,11363646516060.8,11623710624558.5,12065068062766.6,12689154578406.4,15022583231149.5,17091694967928.9,19140813953244.6,20092825106288.4,22595007714784.7,23927631710502.6,25409951568921.6,25859044482204.5,27767511728269.1,30872586998056.7,31552679853240.2,31435387611565.4,31338780339102.7,32510834041730.3,33566568243507.0,33354548715888.5,34635964364193.1,38894058718266.0,43804823746956.6,47428894542015.9,51363239608528.7,57858970551966.6,63461809858683.9,60168346976208.9,65954532001568.7,73279862292629.0,74889946508917.8,76990857251851.0,79049230590610.9,74757745150689.1,75845109381590.5],\"yaxis\":\"y\",\"type\":\"scatter\"}],                        {\"template\":{\"data\":{\"histogram2dcontour\":[{\"type\":\"histogram2dcontour\",\"colorbar\":{\"outlinewidth\":0,\"ticks\":\"\"},\"colorscale\":[[0.0,\"#0d0887\"],[0.1111111111111111,\"#46039f\"],[0.2222222222222222,\"#7201a8\"],[0.3333333333333333,\"#9c179e\"],[0.4444444444444444,\"#bd3786\"],[0.5555555555555556,\"#d8576b\"],[0.6666666666666666,\"#ed7953\"],[0.7777777777777778,\"#fb9f3a\"],[0.8888888888888888,\"#fdca26\"],[1.0,\"#f0f921\"]]}],\"choropleth\":[{\"type\":\"choropleth\",\"colorbar\":{\"outlinewidth\":0,\"ticks\":\"\"}}],\"histogram2d\":[{\"type\":\"histogram2d\",\"colorbar\":{\"outlinewidth\":0,\"ticks\":\"\"},\"colorscale\":[[0.0,\"#0d0887\"],[0.1111111111111111,\"#46039f\"],[0.2222222222222222,\"#7201a8\"],[0.3333333333333333,\"#9c179e\"],[0.4444444444444444,\"#bd3786\"],[0.5555555555555556,\"#d8576b\"],[0.6666666666666666,\"#ed7953\"],[0.7777777777777778,\"#fb9f3a\"],[0.8888888888888888,\"#fdca26\"],[1.0,\"#f0f921\"]]}],\"heatmap\":[{\"type\":\"heatmap\",\"colorbar\":{\"outlinewidth\":0,\"ticks\":\"\"},\"colorscale\":[[0.0,\"#0d0887\"],[0.1111111111111111,\"#46039f\"],[0.2222222222222222,\"#7201a8\"],[0.3333333333333333,\"#9c179e\"],[0.4444444444444444,\"#bd3786\"],[0.5555555555555556,\"#d8576b\"],[0.6666666666666666,\"#ed7953\"],[0.7777777777777778,\"#fb9f3a\"],[0.8888888888888888,\"#fdca26\"],[1.0,\"#f0f921\"]]}],\"heatmapgl\":[{\"type\":\"heatmapgl\",\"colorbar\":{\"outlinewidth\":0,\"ticks\":\"\"},\"colorscale\":[[0.0,\"#0d0887\"],[0.1111111111111111,\"#46039f\"],[0.2222222222222222,\"#7201a8\"],[0.3333333333333333,\"#9c179e\"],[0.4444444444444444,\"#bd3786\"],[0.5555555555555556,\"#d8576b\"],[0.6666666666666666,\"#ed7953\"],[0.7777777777777778,\"#fb9f3a\"],[0.8888888888888888,\"#fdca26\"],[1.0,\"#f0f921\"]]}],\"contourcarpet\":[{\"type\":\"contourcarpet\",\"colorbar\":{\"outlinewidth\":0,\"ticks\":\"\"}}],\"contour\":[{\"type\":\"contour\",\"colorbar\":{\"outlinewidth\":0,\"ticks\":\"\"},\"colorscale\":[[0.0,\"#0d0887\"],[0.1111111111111111,\"#46039f\"],[0.2222222222222222,\"#7201a8\"],[0.3333333333333333,\"#9c179e\"],[0.4444444444444444,\"#bd3786\"],[0.5555555555555556,\"#d8576b\"],[0.6666666666666666,\"#ed7953\"],[0.7777777777777778,\"#fb9f3a\"],[0.8888888888888888,\"#fdca26\"],[1.0,\"#f0f921\"]]}],\"surface\":[{\"type\":\"surface\",\"colorbar\":{\"outlinewidth\":0,\"ticks\":\"\"},\"colorscale\":[[0.0,\"#0d0887\"],[0.1111111111111111,\"#46039f\"],[0.2222222222222222,\"#7201a8\"],[0.3333333333333333,\"#9c179e\"],[0.4444444444444444,\"#bd3786\"],[0.5555555555555556,\"#d8576b\"],[0.6666666666666666,\"#ed7953\"],[0.7777777777777778,\"#fb9f3a\"],[0.8888888888888888,\"#fdca26\"],[1.0,\"#f0f921\"]]}],\"mesh3d\":[{\"type\":\"mesh3d\",\"colorbar\":{\"outlinewidth\":0,\"ticks\":\"\"}}],\"scatter\":[{\"fillpattern\":{\"fillmode\":\"overlay\",\"size\":10,\"solidity\":0.2},\"type\":\"scatter\"}],\"parcoords\":[{\"type\":\"parcoords\",\"line\":{\"colorbar\":{\"outlinewidth\":0,\"ticks\":\"\"}}}],\"scatterpolargl\":[{\"type\":\"scatterpolargl\",\"marker\":{\"colorbar\":{\"outlinewidth\":0,\"ticks\":\"\"}}}],\"bar\":[{\"error_x\":{\"color\":\"#2a3f5f\"},\"error_y\":{\"color\":\"#2a3f5f\"},\"marker\":{\"line\":{\"color\":\"#E5ECF6\",\"width\":0.5},\"pattern\":{\"fillmode\":\"overlay\",\"size\":10,\"solidity\":0.2}},\"type\":\"bar\"}],\"scattergeo\":[{\"type\":\"scattergeo\",\"marker\":{\"colorbar\":{\"outlinewidth\":0,\"ticks\":\"\"}}}],\"scatterpolar\":[{\"type\":\"scatterpolar\",\"marker\":{\"colorbar\":{\"outlinewidth\":0,\"ticks\":\"\"}}}],\"histogram\":[{\"marker\":{\"pattern\":{\"fillmode\":\"overlay\",\"size\":10,\"solidity\":0.2}},\"type\":\"histogram\"}],\"scattergl\":[{\"type\":\"scattergl\",\"marker\":{\"colorbar\":{\"outlinewidth\":0,\"ticks\":\"\"}}}],\"scatter3d\":[{\"type\":\"scatter3d\",\"line\":{\"colorbar\":{\"outlinewidth\":0,\"ticks\":\"\"}},\"marker\":{\"colorbar\":{\"outlinewidth\":0,\"ticks\":\"\"}}}],\"scattermapbox\":[{\"type\":\"scattermapbox\",\"marker\":{\"colorbar\":{\"outlinewidth\":0,\"ticks\":\"\"}}}],\"scatterternary\":[{\"type\":\"scatterternary\",\"marker\":{\"colorbar\":{\"outlinewidth\":0,\"ticks\":\"\"}}}],\"scattercarpet\":[{\"type\":\"scattercarpet\",\"marker\":{\"colorbar\":{\"outlinewidth\":0,\"ticks\":\"\"}}}],\"carpet\":[{\"aaxis\":{\"endlinecolor\":\"#2a3f5f\",\"gridcolor\":\"white\",\"linecolor\":\"white\",\"minorgridcolor\":\"white\",\"startlinecolor\":\"#2a3f5f\"},\"baxis\":{\"endlinecolor\":\"#2a3f5f\",\"gridcolor\":\"white\",\"linecolor\":\"white\",\"minorgridcolor\":\"white\",\"startlinecolor\":\"#2a3f5f\"},\"type\":\"carpet\"}],\"table\":[{\"cells\":{\"fill\":{\"color\":\"#EBF0F8\"},\"line\":{\"color\":\"white\"}},\"header\":{\"fill\":{\"color\":\"#C8D4E3\"},\"line\":{\"color\":\"white\"}},\"type\":\"table\"}],\"barpolar\":[{\"marker\":{\"line\":{\"color\":\"#E5ECF6\",\"width\":0.5},\"pattern\":{\"fillmode\":\"overlay\",\"size\":10,\"solidity\":0.2}},\"type\":\"barpolar\"}],\"pie\":[{\"automargin\":true,\"type\":\"pie\"}]},\"layout\":{\"autotypenumbers\":\"strict\",\"colorway\":[\"#636efa\",\"#EF553B\",\"#00cc96\",\"#ab63fa\",\"#FFA15A\",\"#19d3f3\",\"#FF6692\",\"#B6E880\",\"#FF97FF\",\"#FECB52\"],\"font\":{\"color\":\"#2a3f5f\"},\"hovermode\":\"closest\",\"hoverlabel\":{\"align\":\"left\"},\"paper_bgcolor\":\"white\",\"plot_bgcolor\":\"#E5ECF6\",\"polar\":{\"bgcolor\":\"#E5ECF6\",\"angularaxis\":{\"gridcolor\":\"white\",\"linecolor\":\"white\",\"ticks\":\"\"},\"radialaxis\":{\"gridcolor\":\"white\",\"linecolor\":\"white\",\"ticks\":\"\"}},\"ternary\":{\"bgcolor\":\"#E5ECF6\",\"aaxis\":{\"gridcolor\":\"white\",\"linecolor\":\"white\",\"ticks\":\"\"},\"baxis\":{\"gridcolor\":\"white\",\"linecolor\":\"white\",\"ticks\":\"\"},\"caxis\":{\"gridcolor\":\"white\",\"linecolor\":\"white\",\"ticks\":\"\"}},\"coloraxis\":{\"colorbar\":{\"outlinewidth\":0,\"ticks\":\"\"}},\"colorscale\":{\"sequential\":[[0.0,\"#0d0887\"],[0.1111111111111111,\"#46039f\"],[0.2222222222222222,\"#7201a8\"],[0.3333333333333333,\"#9c179e\"],[0.4444444444444444,\"#bd3786\"],[0.5555555555555556,\"#d8576b\"],[0.6666666666666666,\"#ed7953\"],[0.7777777777777778,\"#fb9f3a\"],[0.8888888888888888,\"#fdca26\"],[1.0,\"#f0f921\"]],\"sequentialminus\":[[0.0,\"#0d0887\"],[0.1111111111111111,\"#46039f\"],[0.2222222222222222,\"#7201a8\"],[0.3333333333333333,\"#9c179e\"],[0.4444444444444444,\"#bd3786\"],[0.5555555555555556,\"#d8576b\"],[0.6666666666666666,\"#ed7953\"],[0.7777777777777778,\"#fb9f3a\"],[0.8888888888888888,\"#fdca26\"],[1.0,\"#f0f921\"]],\"diverging\":[[0,\"#8e0152\"],[0.1,\"#c51b7d\"],[0.2,\"#de77ae\"],[0.3,\"#f1b6da\"],[0.4,\"#fde0ef\"],[0.5,\"#f7f7f7\"],[0.6,\"#e6f5d0\"],[0.7,\"#b8e186\"],[0.8,\"#7fbc41\"],[0.9,\"#4d9221\"],[1,\"#276419\"]]},\"xaxis\":{\"gridcolor\":\"white\",\"linecolor\":\"white\",\"ticks\":\"\",\"title\":{\"standoff\":15},\"zerolinecolor\":\"white\",\"automargin\":true,\"zerolinewidth\":2},\"yaxis\":{\"gridcolor\":\"white\",\"linecolor\":\"white\",\"ticks\":\"\",\"title\":{\"standoff\":15},\"zerolinecolor\":\"white\",\"automargin\":true,\"zerolinewidth\":2},\"scene\":{\"xaxis\":{\"backgroundcolor\":\"#E5ECF6\",\"gridcolor\":\"white\",\"linecolor\":\"white\",\"showbackground\":true,\"ticks\":\"\",\"zerolinecolor\":\"white\",\"gridwidth\":2},\"yaxis\":{\"backgroundcolor\":\"#E5ECF6\",\"gridcolor\":\"white\",\"linecolor\":\"white\",\"showbackground\":true,\"ticks\":\"\",\"zerolinecolor\":\"white\",\"gridwidth\":2},\"zaxis\":{\"backgroundcolor\":\"#E5ECF6\",\"gridcolor\":\"white\",\"linecolor\":\"white\",\"showbackground\":true,\"ticks\":\"\",\"zerolinecolor\":\"white\",\"gridwidth\":2}},\"shapedefaults\":{\"line\":{\"color\":\"#2a3f5f\"}},\"annotationdefaults\":{\"arrowcolor\":\"#2a3f5f\",\"arrowhead\":0,\"arrowwidth\":1},\"geo\":{\"bgcolor\":\"white\",\"landcolor\":\"#E5ECF6\",\"subunitcolor\":\"white\",\"showland\":true,\"showlakes\":true,\"lakecolor\":\"white\"},\"title\":{\"x\":0.05},\"mapbox\":{\"style\":\"light\"}}},\"xaxis\":{\"anchor\":\"y\",\"domain\":[0.0,1.0],\"title\":{\"text\":\"Year\"}},\"yaxis\":{\"anchor\":\"x\",\"domain\":[0.0,1.0],\"title\":{\"text\":\"Value\"}},\"legend\":{\"tracegroupgap\":0},\"title\":{\"text\":\"World GDP Analysis\"}},                        {\"responsive\": true}                    ).then(function(){\n",
       "                            \n",
       "var gd = document.getElementById('26bd4cdd-e705-45b7-baaa-0ed563f08867');\n",
       "var x = new MutationObserver(function (mutations, observer) {{\n",
       "        var display = window.getComputedStyle(gd).display;\n",
       "        if (!display || display === 'none') {{\n",
       "            console.log([gd, 'removed!']);\n",
       "            Plotly.purge(gd);\n",
       "            observer.disconnect();\n",
       "        }}\n",
       "}});\n",
       "\n",
       "// Listen for the removal of the full notebook cells\n",
       "var notebookContainer = gd.closest('#notebook-container');\n",
       "if (notebookContainer) {{\n",
       "    x.observe(notebookContainer, {childList: true});\n",
       "}}\n",
       "\n",
       "// Listen for the clearing of the current output cell\n",
       "var outputEl = gd.closest('.output');\n",
       "if (outputEl) {{\n",
       "    x.observe(outputEl, {childList: true});\n",
       "}}\n",
       "\n",
       "                        })                };                });            </script>        </div>"
      ]
     },
     "metadata": {},
     "output_type": "display_data"
    }
   ],
   "source": [
    "df_pr = df[df['Country Name'] == 'World']\n",
    "\n",
    "fig = px.line(df_pr, x = 'Year', y = 'Value', title = 'World GDP Analysis')\n",
    "\n",
    "fig"
   ]
  },
  {
   "cell_type": "code",
   "execution_count": 64,
   "id": "8484da7e",
   "metadata": {},
   "outputs": [
    {
     "data": {
      "text/plain": [
       "'World GDP.html'"
      ]
     },
     "execution_count": 64,
     "metadata": {},
     "output_type": "execute_result"
    }
   ],
   "source": [
    "#this save the above gdp graph in browser\n",
    "pyo.plot(fig, filename = 'World GDP.html')"
   ]
  },
  {
   "cell_type": "code",
   "execution_count": 33,
   "id": "b54e1e53",
   "metadata": {},
   "outputs": [
    {
     "data": {
      "application/vnd.plotly.v1+json": {
       "config": {
        "plotlyServerURL": "https://plot.ly"
       },
       "data": [
        {
         "hovertemplate": "Year=%{x}<br>Value=%{y}<extra></extra>",
         "legendgroup": "",
         "line": {
          "color": "#636efa",
          "dash": "solid"
         },
         "marker": {
          "symbol": "circle"
         },
         "mode": "lines",
         "name": "",
         "orientation": "v",
         "showlegend": false,
         "type": "scatter",
         "x": [
          1960,
          1961,
          1962,
          1963,
          1964,
          1965,
          1966,
          1967,
          1968,
          1969,
          1970,
          1971,
          1972,
          1973,
          1974,
          1975,
          1976,
          1977,
          1978,
          1979,
          1980,
          1981,
          1982,
          1983,
          1984,
          1985,
          1986,
          1987,
          1988,
          1989,
          1990,
          1991,
          1992,
          1993,
          1994,
          1995,
          1996,
          1997,
          1998,
          1999,
          2000,
          2001,
          2002,
          2003,
          2004,
          2005,
          2006,
          2007,
          2008,
          2009,
          2010,
          2011,
          2012,
          2013,
          2014,
          2015,
          2016
         ],
         "xaxis": "x",
         "y": [
          36535925029.925,
          38709096075.0961,
          41599070245.0702,
          47776000903.0009,
          55726873075.8731,
          58760424674.5065,
          45253641300,
          49466168893.3333,
          52377324280,
          57668330026.6667,
          61589800520,
          66452561868.4154,
          70509913046.8528,
          84374541625.3338,
          98198276856.9136,
          97159222028.3357,
          101346972433.237,
          119866746569.343,
          135468782810.558,
          150950826964.984,
          183839864648.794,
          190909548793.872,
          198037712680.328,
          215350771423.861,
          209328156804.186,
          229410293755.209,
          245664654064.834,
          275311425330.609,
          292632656261.441,
          292093308316.929,
          316697337894.532,
          266502281092.721,
          284363884079.92,
          275570363432.31,
          322909902308.131,
          355475984176.175,
          387656017799.599,
          410320300471.227,
          415730874172.06,
          452699998386.955,
          462146799336.77,
          478965491061.694,
          508068952065.959,
          599592902016.212,
          699688852930.441,
          808901077222.092,
          920316529729.61,
          1201111768409.39,
          1186952757635.85,
          1323940295874.9,
          1656617073124.21,
          1823049927771.46,
          1827637859135.7,
          1856722121394.53,
          2035393459979.46,
          2089865410867.82,
          2263792499341.01
         ],
         "yaxis": "y"
        }
       ],
       "layout": {
        "legend": {
         "tracegroupgap": 0
        },
        "template": {
         "data": {
          "bar": [
           {
            "error_x": {
             "color": "#2a3f5f"
            },
            "error_y": {
             "color": "#2a3f5f"
            },
            "marker": {
             "line": {
              "color": "#E5ECF6",
              "width": 0.5
             },
             "pattern": {
              "fillmode": "overlay",
              "size": 10,
              "solidity": 0.2
             }
            },
            "type": "bar"
           }
          ],
          "barpolar": [
           {
            "marker": {
             "line": {
              "color": "#E5ECF6",
              "width": 0.5
             },
             "pattern": {
              "fillmode": "overlay",
              "size": 10,
              "solidity": 0.2
             }
            },
            "type": "barpolar"
           }
          ],
          "carpet": [
           {
            "aaxis": {
             "endlinecolor": "#2a3f5f",
             "gridcolor": "white",
             "linecolor": "white",
             "minorgridcolor": "white",
             "startlinecolor": "#2a3f5f"
            },
            "baxis": {
             "endlinecolor": "#2a3f5f",
             "gridcolor": "white",
             "linecolor": "white",
             "minorgridcolor": "white",
             "startlinecolor": "#2a3f5f"
            },
            "type": "carpet"
           }
          ],
          "choropleth": [
           {
            "colorbar": {
             "outlinewidth": 0,
             "ticks": ""
            },
            "type": "choropleth"
           }
          ],
          "contour": [
           {
            "colorbar": {
             "outlinewidth": 0,
             "ticks": ""
            },
            "colorscale": [
             [
              0,
              "#0d0887"
             ],
             [
              0.1111111111111111,
              "#46039f"
             ],
             [
              0.2222222222222222,
              "#7201a8"
             ],
             [
              0.3333333333333333,
              "#9c179e"
             ],
             [
              0.4444444444444444,
              "#bd3786"
             ],
             [
              0.5555555555555556,
              "#d8576b"
             ],
             [
              0.6666666666666666,
              "#ed7953"
             ],
             [
              0.7777777777777778,
              "#fb9f3a"
             ],
             [
              0.8888888888888888,
              "#fdca26"
             ],
             [
              1,
              "#f0f921"
             ]
            ],
            "type": "contour"
           }
          ],
          "contourcarpet": [
           {
            "colorbar": {
             "outlinewidth": 0,
             "ticks": ""
            },
            "type": "contourcarpet"
           }
          ],
          "heatmap": [
           {
            "colorbar": {
             "outlinewidth": 0,
             "ticks": ""
            },
            "colorscale": [
             [
              0,
              "#0d0887"
             ],
             [
              0.1111111111111111,
              "#46039f"
             ],
             [
              0.2222222222222222,
              "#7201a8"
             ],
             [
              0.3333333333333333,
              "#9c179e"
             ],
             [
              0.4444444444444444,
              "#bd3786"
             ],
             [
              0.5555555555555556,
              "#d8576b"
             ],
             [
              0.6666666666666666,
              "#ed7953"
             ],
             [
              0.7777777777777778,
              "#fb9f3a"
             ],
             [
              0.8888888888888888,
              "#fdca26"
             ],
             [
              1,
              "#f0f921"
             ]
            ],
            "type": "heatmap"
           }
          ],
          "heatmapgl": [
           {
            "colorbar": {
             "outlinewidth": 0,
             "ticks": ""
            },
            "colorscale": [
             [
              0,
              "#0d0887"
             ],
             [
              0.1111111111111111,
              "#46039f"
             ],
             [
              0.2222222222222222,
              "#7201a8"
             ],
             [
              0.3333333333333333,
              "#9c179e"
             ],
             [
              0.4444444444444444,
              "#bd3786"
             ],
             [
              0.5555555555555556,
              "#d8576b"
             ],
             [
              0.6666666666666666,
              "#ed7953"
             ],
             [
              0.7777777777777778,
              "#fb9f3a"
             ],
             [
              0.8888888888888888,
              "#fdca26"
             ],
             [
              1,
              "#f0f921"
             ]
            ],
            "type": "heatmapgl"
           }
          ],
          "histogram": [
           {
            "marker": {
             "pattern": {
              "fillmode": "overlay",
              "size": 10,
              "solidity": 0.2
             }
            },
            "type": "histogram"
           }
          ],
          "histogram2d": [
           {
            "colorbar": {
             "outlinewidth": 0,
             "ticks": ""
            },
            "colorscale": [
             [
              0,
              "#0d0887"
             ],
             [
              0.1111111111111111,
              "#46039f"
             ],
             [
              0.2222222222222222,
              "#7201a8"
             ],
             [
              0.3333333333333333,
              "#9c179e"
             ],
             [
              0.4444444444444444,
              "#bd3786"
             ],
             [
              0.5555555555555556,
              "#d8576b"
             ],
             [
              0.6666666666666666,
              "#ed7953"
             ],
             [
              0.7777777777777778,
              "#fb9f3a"
             ],
             [
              0.8888888888888888,
              "#fdca26"
             ],
             [
              1,
              "#f0f921"
             ]
            ],
            "type": "histogram2d"
           }
          ],
          "histogram2dcontour": [
           {
            "colorbar": {
             "outlinewidth": 0,
             "ticks": ""
            },
            "colorscale": [
             [
              0,
              "#0d0887"
             ],
             [
              0.1111111111111111,
              "#46039f"
             ],
             [
              0.2222222222222222,
              "#7201a8"
             ],
             [
              0.3333333333333333,
              "#9c179e"
             ],
             [
              0.4444444444444444,
              "#bd3786"
             ],
             [
              0.5555555555555556,
              "#d8576b"
             ],
             [
              0.6666666666666666,
              "#ed7953"
             ],
             [
              0.7777777777777778,
              "#fb9f3a"
             ],
             [
              0.8888888888888888,
              "#fdca26"
             ],
             [
              1,
              "#f0f921"
             ]
            ],
            "type": "histogram2dcontour"
           }
          ],
          "mesh3d": [
           {
            "colorbar": {
             "outlinewidth": 0,
             "ticks": ""
            },
            "type": "mesh3d"
           }
          ],
          "parcoords": [
           {
            "line": {
             "colorbar": {
              "outlinewidth": 0,
              "ticks": ""
             }
            },
            "type": "parcoords"
           }
          ],
          "pie": [
           {
            "automargin": true,
            "type": "pie"
           }
          ],
          "scatter": [
           {
            "fillpattern": {
             "fillmode": "overlay",
             "size": 10,
             "solidity": 0.2
            },
            "type": "scatter"
           }
          ],
          "scatter3d": [
           {
            "line": {
             "colorbar": {
              "outlinewidth": 0,
              "ticks": ""
             }
            },
            "marker": {
             "colorbar": {
              "outlinewidth": 0,
              "ticks": ""
             }
            },
            "type": "scatter3d"
           }
          ],
          "scattercarpet": [
           {
            "marker": {
             "colorbar": {
              "outlinewidth": 0,
              "ticks": ""
             }
            },
            "type": "scattercarpet"
           }
          ],
          "scattergeo": [
           {
            "marker": {
             "colorbar": {
              "outlinewidth": 0,
              "ticks": ""
             }
            },
            "type": "scattergeo"
           }
          ],
          "scattergl": [
           {
            "marker": {
             "colorbar": {
              "outlinewidth": 0,
              "ticks": ""
             }
            },
            "type": "scattergl"
           }
          ],
          "scattermapbox": [
           {
            "marker": {
             "colorbar": {
              "outlinewidth": 0,
              "ticks": ""
             }
            },
            "type": "scattermapbox"
           }
          ],
          "scatterpolar": [
           {
            "marker": {
             "colorbar": {
              "outlinewidth": 0,
              "ticks": ""
             }
            },
            "type": "scatterpolar"
           }
          ],
          "scatterpolargl": [
           {
            "marker": {
             "colorbar": {
              "outlinewidth": 0,
              "ticks": ""
             }
            },
            "type": "scatterpolargl"
           }
          ],
          "scatterternary": [
           {
            "marker": {
             "colorbar": {
              "outlinewidth": 0,
              "ticks": ""
             }
            },
            "type": "scatterternary"
           }
          ],
          "surface": [
           {
            "colorbar": {
             "outlinewidth": 0,
             "ticks": ""
            },
            "colorscale": [
             [
              0,
              "#0d0887"
             ],
             [
              0.1111111111111111,
              "#46039f"
             ],
             [
              0.2222222222222222,
              "#7201a8"
             ],
             [
              0.3333333333333333,
              "#9c179e"
             ],
             [
              0.4444444444444444,
              "#bd3786"
             ],
             [
              0.5555555555555556,
              "#d8576b"
             ],
             [
              0.6666666666666666,
              "#ed7953"
             ],
             [
              0.7777777777777778,
              "#fb9f3a"
             ],
             [
              0.8888888888888888,
              "#fdca26"
             ],
             [
              1,
              "#f0f921"
             ]
            ],
            "type": "surface"
           }
          ],
          "table": [
           {
            "cells": {
             "fill": {
              "color": "#EBF0F8"
             },
             "line": {
              "color": "white"
             }
            },
            "header": {
             "fill": {
              "color": "#C8D4E3"
             },
             "line": {
              "color": "white"
             }
            },
            "type": "table"
           }
          ]
         },
         "layout": {
          "annotationdefaults": {
           "arrowcolor": "#2a3f5f",
           "arrowhead": 0,
           "arrowwidth": 1
          },
          "autotypenumbers": "strict",
          "coloraxis": {
           "colorbar": {
            "outlinewidth": 0,
            "ticks": ""
           }
          },
          "colorscale": {
           "diverging": [
            [
             0,
             "#8e0152"
            ],
            [
             0.1,
             "#c51b7d"
            ],
            [
             0.2,
             "#de77ae"
            ],
            [
             0.3,
             "#f1b6da"
            ],
            [
             0.4,
             "#fde0ef"
            ],
            [
             0.5,
             "#f7f7f7"
            ],
            [
             0.6,
             "#e6f5d0"
            ],
            [
             0.7,
             "#b8e186"
            ],
            [
             0.8,
             "#7fbc41"
            ],
            [
             0.9,
             "#4d9221"
            ],
            [
             1,
             "#276419"
            ]
           ],
           "sequential": [
            [
             0,
             "#0d0887"
            ],
            [
             0.1111111111111111,
             "#46039f"
            ],
            [
             0.2222222222222222,
             "#7201a8"
            ],
            [
             0.3333333333333333,
             "#9c179e"
            ],
            [
             0.4444444444444444,
             "#bd3786"
            ],
            [
             0.5555555555555556,
             "#d8576b"
            ],
            [
             0.6666666666666666,
             "#ed7953"
            ],
            [
             0.7777777777777778,
             "#fb9f3a"
            ],
            [
             0.8888888888888888,
             "#fdca26"
            ],
            [
             1,
             "#f0f921"
            ]
           ],
           "sequentialminus": [
            [
             0,
             "#0d0887"
            ],
            [
             0.1111111111111111,
             "#46039f"
            ],
            [
             0.2222222222222222,
             "#7201a8"
            ],
            [
             0.3333333333333333,
             "#9c179e"
            ],
            [
             0.4444444444444444,
             "#bd3786"
            ],
            [
             0.5555555555555556,
             "#d8576b"
            ],
            [
             0.6666666666666666,
             "#ed7953"
            ],
            [
             0.7777777777777778,
             "#fb9f3a"
            ],
            [
             0.8888888888888888,
             "#fdca26"
            ],
            [
             1,
             "#f0f921"
            ]
           ]
          },
          "colorway": [
           "#636efa",
           "#EF553B",
           "#00cc96",
           "#ab63fa",
           "#FFA15A",
           "#19d3f3",
           "#FF6692",
           "#B6E880",
           "#FF97FF",
           "#FECB52"
          ],
          "font": {
           "color": "#2a3f5f"
          },
          "geo": {
           "bgcolor": "white",
           "lakecolor": "white",
           "landcolor": "#E5ECF6",
           "showlakes": true,
           "showland": true,
           "subunitcolor": "white"
          },
          "hoverlabel": {
           "align": "left"
          },
          "hovermode": "closest",
          "mapbox": {
           "style": "light"
          },
          "paper_bgcolor": "white",
          "plot_bgcolor": "#E5ECF6",
          "polar": {
           "angularaxis": {
            "gridcolor": "white",
            "linecolor": "white",
            "ticks": ""
           },
           "bgcolor": "#E5ECF6",
           "radialaxis": {
            "gridcolor": "white",
            "linecolor": "white",
            "ticks": ""
           }
          },
          "scene": {
           "xaxis": {
            "backgroundcolor": "#E5ECF6",
            "gridcolor": "white",
            "gridwidth": 2,
            "linecolor": "white",
            "showbackground": true,
            "ticks": "",
            "zerolinecolor": "white"
           },
           "yaxis": {
            "backgroundcolor": "#E5ECF6",
            "gridcolor": "white",
            "gridwidth": 2,
            "linecolor": "white",
            "showbackground": true,
            "ticks": "",
            "zerolinecolor": "white"
           },
           "zaxis": {
            "backgroundcolor": "#E5ECF6",
            "gridcolor": "white",
            "gridwidth": 2,
            "linecolor": "white",
            "showbackground": true,
            "ticks": "",
            "zerolinecolor": "white"
           }
          },
          "shapedefaults": {
           "line": {
            "color": "#2a3f5f"
           }
          },
          "ternary": {
           "aaxis": {
            "gridcolor": "white",
            "linecolor": "white",
            "ticks": ""
           },
           "baxis": {
            "gridcolor": "white",
            "linecolor": "white",
            "ticks": ""
           },
           "bgcolor": "#E5ECF6",
           "caxis": {
            "gridcolor": "white",
            "linecolor": "white",
            "ticks": ""
           }
          },
          "title": {
           "x": 0.05
          },
          "xaxis": {
           "automargin": true,
           "gridcolor": "white",
           "linecolor": "white",
           "ticks": "",
           "title": {
            "standoff": 15
           },
           "zerolinecolor": "white",
           "zerolinewidth": 2
          },
          "yaxis": {
           "automargin": true,
           "gridcolor": "white",
           "linecolor": "white",
           "ticks": "",
           "title": {
            "standoff": 15
           },
           "zerolinecolor": "white",
           "zerolinewidth": 2
          }
         }
        },
        "title": {
         "text": "World GDP Analysis"
        },
        "xaxis": {
         "anchor": "y",
         "domain": [
          0,
          1
         ],
         "title": {
          "text": "Year"
         }
        },
        "yaxis": {
         "anchor": "x",
         "domain": [
          0,
          1
         ],
         "title": {
          "text": "Value"
         }
        }
       }
      },
      "text/html": [
       "<div>                            <div id=\"b349b9c9-dc07-4f72-ac61-0cebe82ba039\" class=\"plotly-graph-div\" style=\"height:525px; width:100%;\"></div>            <script type=\"text/javascript\">                require([\"plotly\"], function(Plotly) {                    window.PLOTLYENV=window.PLOTLYENV || {};                                    if (document.getElementById(\"b349b9c9-dc07-4f72-ac61-0cebe82ba039\")) {                    Plotly.newPlot(                        \"b349b9c9-dc07-4f72-ac61-0cebe82ba039\",                        [{\"hovertemplate\":\"Year=%{x}<br>Value=%{y}<extra></extra>\",\"legendgroup\":\"\",\"line\":{\"color\":\"#636efa\",\"dash\":\"solid\"},\"marker\":{\"symbol\":\"circle\"},\"mode\":\"lines\",\"name\":\"\",\"orientation\":\"v\",\"showlegend\":false,\"x\":[1960,1961,1962,1963,1964,1965,1966,1967,1968,1969,1970,1971,1972,1973,1974,1975,1976,1977,1978,1979,1980,1981,1982,1983,1984,1985,1986,1987,1988,1989,1990,1991,1992,1993,1994,1995,1996,1997,1998,1999,2000,2001,2002,2003,2004,2005,2006,2007,2008,2009,2010,2011,2012,2013,2014,2015,2016],\"xaxis\":\"x\",\"y\":[36535925029.925,38709096075.0961,41599070245.0702,47776000903.0009,55726873075.8731,58760424674.5065,45253641300.0,49466168893.3333,52377324280.0,57668330026.6667,61589800520.0,66452561868.4154,70509913046.8528,84374541625.3338,98198276856.9136,97159222028.3357,101346972433.237,119866746569.343,135468782810.558,150950826964.984,183839864648.794,190909548793.872,198037712680.328,215350771423.861,209328156804.186,229410293755.209,245664654064.834,275311425330.609,292632656261.441,292093308316.929,316697337894.532,266502281092.721,284363884079.92,275570363432.31,322909902308.131,355475984176.175,387656017799.599,410320300471.227,415730874172.06,452699998386.955,462146799336.77,478965491061.694,508068952065.959,599592902016.212,699688852930.441,808901077222.092,920316529729.61,1201111768409.39,1186952757635.85,1323940295874.9,1656617073124.21,1823049927771.46,1827637859135.7,1856722121394.53,2035393459979.46,2089865410867.82,2263792499341.01],\"yaxis\":\"y\",\"type\":\"scatter\"}],                        {\"template\":{\"data\":{\"histogram2dcontour\":[{\"type\":\"histogram2dcontour\",\"colorbar\":{\"outlinewidth\":0,\"ticks\":\"\"},\"colorscale\":[[0.0,\"#0d0887\"],[0.1111111111111111,\"#46039f\"],[0.2222222222222222,\"#7201a8\"],[0.3333333333333333,\"#9c179e\"],[0.4444444444444444,\"#bd3786\"],[0.5555555555555556,\"#d8576b\"],[0.6666666666666666,\"#ed7953\"],[0.7777777777777778,\"#fb9f3a\"],[0.8888888888888888,\"#fdca26\"],[1.0,\"#f0f921\"]]}],\"choropleth\":[{\"type\":\"choropleth\",\"colorbar\":{\"outlinewidth\":0,\"ticks\":\"\"}}],\"histogram2d\":[{\"type\":\"histogram2d\",\"colorbar\":{\"outlinewidth\":0,\"ticks\":\"\"},\"colorscale\":[[0.0,\"#0d0887\"],[0.1111111111111111,\"#46039f\"],[0.2222222222222222,\"#7201a8\"],[0.3333333333333333,\"#9c179e\"],[0.4444444444444444,\"#bd3786\"],[0.5555555555555556,\"#d8576b\"],[0.6666666666666666,\"#ed7953\"],[0.7777777777777778,\"#fb9f3a\"],[0.8888888888888888,\"#fdca26\"],[1.0,\"#f0f921\"]]}],\"heatmap\":[{\"type\":\"heatmap\",\"colorbar\":{\"outlinewidth\":0,\"ticks\":\"\"},\"colorscale\":[[0.0,\"#0d0887\"],[0.1111111111111111,\"#46039f\"],[0.2222222222222222,\"#7201a8\"],[0.3333333333333333,\"#9c179e\"],[0.4444444444444444,\"#bd3786\"],[0.5555555555555556,\"#d8576b\"],[0.6666666666666666,\"#ed7953\"],[0.7777777777777778,\"#fb9f3a\"],[0.8888888888888888,\"#fdca26\"],[1.0,\"#f0f921\"]]}],\"heatmapgl\":[{\"type\":\"heatmapgl\",\"colorbar\":{\"outlinewidth\":0,\"ticks\":\"\"},\"colorscale\":[[0.0,\"#0d0887\"],[0.1111111111111111,\"#46039f\"],[0.2222222222222222,\"#7201a8\"],[0.3333333333333333,\"#9c179e\"],[0.4444444444444444,\"#bd3786\"],[0.5555555555555556,\"#d8576b\"],[0.6666666666666666,\"#ed7953\"],[0.7777777777777778,\"#fb9f3a\"],[0.8888888888888888,\"#fdca26\"],[1.0,\"#f0f921\"]]}],\"contourcarpet\":[{\"type\":\"contourcarpet\",\"colorbar\":{\"outlinewidth\":0,\"ticks\":\"\"}}],\"contour\":[{\"type\":\"contour\",\"colorbar\":{\"outlinewidth\":0,\"ticks\":\"\"},\"colorscale\":[[0.0,\"#0d0887\"],[0.1111111111111111,\"#46039f\"],[0.2222222222222222,\"#7201a8\"],[0.3333333333333333,\"#9c179e\"],[0.4444444444444444,\"#bd3786\"],[0.5555555555555556,\"#d8576b\"],[0.6666666666666666,\"#ed7953\"],[0.7777777777777778,\"#fb9f3a\"],[0.8888888888888888,\"#fdca26\"],[1.0,\"#f0f921\"]]}],\"surface\":[{\"type\":\"surface\",\"colorbar\":{\"outlinewidth\":0,\"ticks\":\"\"},\"colorscale\":[[0.0,\"#0d0887\"],[0.1111111111111111,\"#46039f\"],[0.2222222222222222,\"#7201a8\"],[0.3333333333333333,\"#9c179e\"],[0.4444444444444444,\"#bd3786\"],[0.5555555555555556,\"#d8576b\"],[0.6666666666666666,\"#ed7953\"],[0.7777777777777778,\"#fb9f3a\"],[0.8888888888888888,\"#fdca26\"],[1.0,\"#f0f921\"]]}],\"mesh3d\":[{\"type\":\"mesh3d\",\"colorbar\":{\"outlinewidth\":0,\"ticks\":\"\"}}],\"scatter\":[{\"fillpattern\":{\"fillmode\":\"overlay\",\"size\":10,\"solidity\":0.2},\"type\":\"scatter\"}],\"parcoords\":[{\"type\":\"parcoords\",\"line\":{\"colorbar\":{\"outlinewidth\":0,\"ticks\":\"\"}}}],\"scatterpolargl\":[{\"type\":\"scatterpolargl\",\"marker\":{\"colorbar\":{\"outlinewidth\":0,\"ticks\":\"\"}}}],\"bar\":[{\"error_x\":{\"color\":\"#2a3f5f\"},\"error_y\":{\"color\":\"#2a3f5f\"},\"marker\":{\"line\":{\"color\":\"#E5ECF6\",\"width\":0.5},\"pattern\":{\"fillmode\":\"overlay\",\"size\":10,\"solidity\":0.2}},\"type\":\"bar\"}],\"scattergeo\":[{\"type\":\"scattergeo\",\"marker\":{\"colorbar\":{\"outlinewidth\":0,\"ticks\":\"\"}}}],\"scatterpolar\":[{\"type\":\"scatterpolar\",\"marker\":{\"colorbar\":{\"outlinewidth\":0,\"ticks\":\"\"}}}],\"histogram\":[{\"marker\":{\"pattern\":{\"fillmode\":\"overlay\",\"size\":10,\"solidity\":0.2}},\"type\":\"histogram\"}],\"scattergl\":[{\"type\":\"scattergl\",\"marker\":{\"colorbar\":{\"outlinewidth\":0,\"ticks\":\"\"}}}],\"scatter3d\":[{\"type\":\"scatter3d\",\"line\":{\"colorbar\":{\"outlinewidth\":0,\"ticks\":\"\"}},\"marker\":{\"colorbar\":{\"outlinewidth\":0,\"ticks\":\"\"}}}],\"scattermapbox\":[{\"type\":\"scattermapbox\",\"marker\":{\"colorbar\":{\"outlinewidth\":0,\"ticks\":\"\"}}}],\"scatterternary\":[{\"type\":\"scatterternary\",\"marker\":{\"colorbar\":{\"outlinewidth\":0,\"ticks\":\"\"}}}],\"scattercarpet\":[{\"type\":\"scattercarpet\",\"marker\":{\"colorbar\":{\"outlinewidth\":0,\"ticks\":\"\"}}}],\"carpet\":[{\"aaxis\":{\"endlinecolor\":\"#2a3f5f\",\"gridcolor\":\"white\",\"linecolor\":\"white\",\"minorgridcolor\":\"white\",\"startlinecolor\":\"#2a3f5f\"},\"baxis\":{\"endlinecolor\":\"#2a3f5f\",\"gridcolor\":\"white\",\"linecolor\":\"white\",\"minorgridcolor\":\"white\",\"startlinecolor\":\"#2a3f5f\"},\"type\":\"carpet\"}],\"table\":[{\"cells\":{\"fill\":{\"color\":\"#EBF0F8\"},\"line\":{\"color\":\"white\"}},\"header\":{\"fill\":{\"color\":\"#C8D4E3\"},\"line\":{\"color\":\"white\"}},\"type\":\"table\"}],\"barpolar\":[{\"marker\":{\"line\":{\"color\":\"#E5ECF6\",\"width\":0.5},\"pattern\":{\"fillmode\":\"overlay\",\"size\":10,\"solidity\":0.2}},\"type\":\"barpolar\"}],\"pie\":[{\"automargin\":true,\"type\":\"pie\"}]},\"layout\":{\"autotypenumbers\":\"strict\",\"colorway\":[\"#636efa\",\"#EF553B\",\"#00cc96\",\"#ab63fa\",\"#FFA15A\",\"#19d3f3\",\"#FF6692\",\"#B6E880\",\"#FF97FF\",\"#FECB52\"],\"font\":{\"color\":\"#2a3f5f\"},\"hovermode\":\"closest\",\"hoverlabel\":{\"align\":\"left\"},\"paper_bgcolor\":\"white\",\"plot_bgcolor\":\"#E5ECF6\",\"polar\":{\"bgcolor\":\"#E5ECF6\",\"angularaxis\":{\"gridcolor\":\"white\",\"linecolor\":\"white\",\"ticks\":\"\"},\"radialaxis\":{\"gridcolor\":\"white\",\"linecolor\":\"white\",\"ticks\":\"\"}},\"ternary\":{\"bgcolor\":\"#E5ECF6\",\"aaxis\":{\"gridcolor\":\"white\",\"linecolor\":\"white\",\"ticks\":\"\"},\"baxis\":{\"gridcolor\":\"white\",\"linecolor\":\"white\",\"ticks\":\"\"},\"caxis\":{\"gridcolor\":\"white\",\"linecolor\":\"white\",\"ticks\":\"\"}},\"coloraxis\":{\"colorbar\":{\"outlinewidth\":0,\"ticks\":\"\"}},\"colorscale\":{\"sequential\":[[0.0,\"#0d0887\"],[0.1111111111111111,\"#46039f\"],[0.2222222222222222,\"#7201a8\"],[0.3333333333333333,\"#9c179e\"],[0.4444444444444444,\"#bd3786\"],[0.5555555555555556,\"#d8576b\"],[0.6666666666666666,\"#ed7953\"],[0.7777777777777778,\"#fb9f3a\"],[0.8888888888888888,\"#fdca26\"],[1.0,\"#f0f921\"]],\"sequentialminus\":[[0.0,\"#0d0887\"],[0.1111111111111111,\"#46039f\"],[0.2222222222222222,\"#7201a8\"],[0.3333333333333333,\"#9c179e\"],[0.4444444444444444,\"#bd3786\"],[0.5555555555555556,\"#d8576b\"],[0.6666666666666666,\"#ed7953\"],[0.7777777777777778,\"#fb9f3a\"],[0.8888888888888888,\"#fdca26\"],[1.0,\"#f0f921\"]],\"diverging\":[[0,\"#8e0152\"],[0.1,\"#c51b7d\"],[0.2,\"#de77ae\"],[0.3,\"#f1b6da\"],[0.4,\"#fde0ef\"],[0.5,\"#f7f7f7\"],[0.6,\"#e6f5d0\"],[0.7,\"#b8e186\"],[0.8,\"#7fbc41\"],[0.9,\"#4d9221\"],[1,\"#276419\"]]},\"xaxis\":{\"gridcolor\":\"white\",\"linecolor\":\"white\",\"ticks\":\"\",\"title\":{\"standoff\":15},\"zerolinecolor\":\"white\",\"automargin\":true,\"zerolinewidth\":2},\"yaxis\":{\"gridcolor\":\"white\",\"linecolor\":\"white\",\"ticks\":\"\",\"title\":{\"standoff\":15},\"zerolinecolor\":\"white\",\"automargin\":true,\"zerolinewidth\":2},\"scene\":{\"xaxis\":{\"backgroundcolor\":\"#E5ECF6\",\"gridcolor\":\"white\",\"linecolor\":\"white\",\"showbackground\":true,\"ticks\":\"\",\"zerolinecolor\":\"white\",\"gridwidth\":2},\"yaxis\":{\"backgroundcolor\":\"#E5ECF6\",\"gridcolor\":\"white\",\"linecolor\":\"white\",\"showbackground\":true,\"ticks\":\"\",\"zerolinecolor\":\"white\",\"gridwidth\":2},\"zaxis\":{\"backgroundcolor\":\"#E5ECF6\",\"gridcolor\":\"white\",\"linecolor\":\"white\",\"showbackground\":true,\"ticks\":\"\",\"zerolinecolor\":\"white\",\"gridwidth\":2}},\"shapedefaults\":{\"line\":{\"color\":\"#2a3f5f\"}},\"annotationdefaults\":{\"arrowcolor\":\"#2a3f5f\",\"arrowhead\":0,\"arrowwidth\":1},\"geo\":{\"bgcolor\":\"white\",\"landcolor\":\"#E5ECF6\",\"subunitcolor\":\"white\",\"showland\":true,\"showlakes\":true,\"lakecolor\":\"white\"},\"title\":{\"x\":0.05},\"mapbox\":{\"style\":\"light\"}}},\"xaxis\":{\"anchor\":\"y\",\"domain\":[0.0,1.0],\"title\":{\"text\":\"Year\"}},\"yaxis\":{\"anchor\":\"x\",\"domain\":[0.0,1.0],\"title\":{\"text\":\"Value\"}},\"legend\":{\"tracegroupgap\":0},\"title\":{\"text\":\"World GDP Analysis\"}},                        {\"responsive\": true}                    ).then(function(){\n",
       "                            \n",
       "var gd = document.getElementById('b349b9c9-dc07-4f72-ac61-0cebe82ba039');\n",
       "var x = new MutationObserver(function (mutations, observer) {{\n",
       "        var display = window.getComputedStyle(gd).display;\n",
       "        if (!display || display === 'none') {{\n",
       "            console.log([gd, 'removed!']);\n",
       "            Plotly.purge(gd);\n",
       "            observer.disconnect();\n",
       "        }}\n",
       "}});\n",
       "\n",
       "// Listen for the removal of the full notebook cells\n",
       "var notebookContainer = gd.closest('#notebook-container');\n",
       "if (notebookContainer) {{\n",
       "    x.observe(notebookContainer, {childList: true});\n",
       "}}\n",
       "\n",
       "// Listen for the clearing of the current output cell\n",
       "var outputEl = gd.closest('.output');\n",
       "if (outputEl) {{\n",
       "    x.observe(outputEl, {childList: true});\n",
       "}}\n",
       "\n",
       "                        })                };                });            </script>        </div>"
      ]
     },
     "metadata": {},
     "output_type": "display_data"
    }
   ],
   "source": [
    "df_pr = df[df['Country Name'] == 'India']\n",
    "\n",
    "fig = px.line(df_pr, x = 'Year', y = 'Value', title = 'World GDP Analysis')\n",
    "\n",
    "fig"
   ]
  },
  {
   "cell_type": "code",
   "execution_count": 65,
   "id": "0fba24cc",
   "metadata": {},
   "outputs": [
    {
     "data": {
      "text/plain": [
       "'India.html'"
      ]
     },
     "execution_count": 65,
     "metadata": {},
     "output_type": "execute_result"
    }
   ],
   "source": [
    "pyo.plot(fig, filename = 'India.html')"
   ]
  },
  {
   "cell_type": "markdown",
   "id": "a5f51d9b",
   "metadata": {},
   "source": [
    "**compairing india GDP with world GDP"
   ]
  },
  {
   "cell_type": "code",
   "execution_count": 34,
   "id": "2228b959",
   "metadata": {},
   "outputs": [
    {
     "data": {
      "application/vnd.plotly.v1+json": {
       "config": {
        "plotlyServerURL": "https://plot.ly"
       },
       "data": [
        {
         "hovertemplate": "Year=%{x}<br>Value=%{y}<extra></extra>",
         "legendgroup": "",
         "line": {
          "color": "#636efa",
          "dash": "solid"
         },
         "marker": {
          "symbol": "circle"
         },
         "mode": "lines",
         "name": "",
         "orientation": "v",
         "showlegend": false,
         "type": "scatter",
         "x": [
          1960,
          1961,
          1962,
          1963,
          1964,
          1965,
          1966,
          1967,
          1968,
          1969,
          1970,
          1971,
          1972,
          1973,
          1974,
          1975,
          1976,
          1977,
          1978,
          1979,
          1980,
          1981,
          1982,
          1983,
          1984,
          1985,
          1986,
          1987,
          1988,
          1989,
          1990,
          1991,
          1992,
          1993,
          1994,
          1995,
          1996,
          1997,
          1998,
          1999,
          2000,
          2001,
          2002,
          2003,
          2004,
          2005,
          2006,
          2007,
          2008,
          2009,
          2010,
          2011,
          2012,
          2013,
          2014,
          2015,
          2016
         ],
         "xaxis": "x",
         "y": [
          36535925029.925,
          38709096075.0961,
          41599070245.0702,
          47776000903.0009,
          55726873075.8731,
          58760424674.5065,
          45253641300,
          49466168893.3333,
          52377324280,
          57668330026.6667,
          61589800520,
          66452561868.4154,
          70509913046.8528,
          84374541625.3338,
          98198276856.9136,
          97159222028.3357,
          101346972433.237,
          119866746569.343,
          135468782810.558,
          150950826964.984,
          183839864648.794,
          190909548793.872,
          198037712680.328,
          215350771423.861,
          209328156804.186,
          229410293755.209,
          245664654064.834,
          275311425330.609,
          292632656261.441,
          292093308316.929,
          316697337894.532,
          266502281092.721,
          284363884079.92,
          275570363432.31,
          322909902308.131,
          355475984176.175,
          387656017799.599,
          410320300471.227,
          415730874172.06,
          452699998386.955,
          462146799336.77,
          478965491061.694,
          508068952065.959,
          599592902016.212,
          699688852930.441,
          808901077222.092,
          920316529729.61,
          1201111768409.39,
          1186952757635.85,
          1323940295874.9,
          1656617073124.21,
          1823049927771.46,
          1827637859135.7,
          1856722121394.53,
          2035393459979.46,
          2089865410867.82,
          2263792499341.01
         ],
         "yaxis": "y"
        }
       ],
       "layout": {
        "legend": {
         "tracegroupgap": 0
        },
        "template": {
         "data": {
          "bar": [
           {
            "error_x": {
             "color": "#2a3f5f"
            },
            "error_y": {
             "color": "#2a3f5f"
            },
            "marker": {
             "line": {
              "color": "#E5ECF6",
              "width": 0.5
             },
             "pattern": {
              "fillmode": "overlay",
              "size": 10,
              "solidity": 0.2
             }
            },
            "type": "bar"
           }
          ],
          "barpolar": [
           {
            "marker": {
             "line": {
              "color": "#E5ECF6",
              "width": 0.5
             },
             "pattern": {
              "fillmode": "overlay",
              "size": 10,
              "solidity": 0.2
             }
            },
            "type": "barpolar"
           }
          ],
          "carpet": [
           {
            "aaxis": {
             "endlinecolor": "#2a3f5f",
             "gridcolor": "white",
             "linecolor": "white",
             "minorgridcolor": "white",
             "startlinecolor": "#2a3f5f"
            },
            "baxis": {
             "endlinecolor": "#2a3f5f",
             "gridcolor": "white",
             "linecolor": "white",
             "minorgridcolor": "white",
             "startlinecolor": "#2a3f5f"
            },
            "type": "carpet"
           }
          ],
          "choropleth": [
           {
            "colorbar": {
             "outlinewidth": 0,
             "ticks": ""
            },
            "type": "choropleth"
           }
          ],
          "contour": [
           {
            "colorbar": {
             "outlinewidth": 0,
             "ticks": ""
            },
            "colorscale": [
             [
              0,
              "#0d0887"
             ],
             [
              0.1111111111111111,
              "#46039f"
             ],
             [
              0.2222222222222222,
              "#7201a8"
             ],
             [
              0.3333333333333333,
              "#9c179e"
             ],
             [
              0.4444444444444444,
              "#bd3786"
             ],
             [
              0.5555555555555556,
              "#d8576b"
             ],
             [
              0.6666666666666666,
              "#ed7953"
             ],
             [
              0.7777777777777778,
              "#fb9f3a"
             ],
             [
              0.8888888888888888,
              "#fdca26"
             ],
             [
              1,
              "#f0f921"
             ]
            ],
            "type": "contour"
           }
          ],
          "contourcarpet": [
           {
            "colorbar": {
             "outlinewidth": 0,
             "ticks": ""
            },
            "type": "contourcarpet"
           }
          ],
          "heatmap": [
           {
            "colorbar": {
             "outlinewidth": 0,
             "ticks": ""
            },
            "colorscale": [
             [
              0,
              "#0d0887"
             ],
             [
              0.1111111111111111,
              "#46039f"
             ],
             [
              0.2222222222222222,
              "#7201a8"
             ],
             [
              0.3333333333333333,
              "#9c179e"
             ],
             [
              0.4444444444444444,
              "#bd3786"
             ],
             [
              0.5555555555555556,
              "#d8576b"
             ],
             [
              0.6666666666666666,
              "#ed7953"
             ],
             [
              0.7777777777777778,
              "#fb9f3a"
             ],
             [
              0.8888888888888888,
              "#fdca26"
             ],
             [
              1,
              "#f0f921"
             ]
            ],
            "type": "heatmap"
           }
          ],
          "heatmapgl": [
           {
            "colorbar": {
             "outlinewidth": 0,
             "ticks": ""
            },
            "colorscale": [
             [
              0,
              "#0d0887"
             ],
             [
              0.1111111111111111,
              "#46039f"
             ],
             [
              0.2222222222222222,
              "#7201a8"
             ],
             [
              0.3333333333333333,
              "#9c179e"
             ],
             [
              0.4444444444444444,
              "#bd3786"
             ],
             [
              0.5555555555555556,
              "#d8576b"
             ],
             [
              0.6666666666666666,
              "#ed7953"
             ],
             [
              0.7777777777777778,
              "#fb9f3a"
             ],
             [
              0.8888888888888888,
              "#fdca26"
             ],
             [
              1,
              "#f0f921"
             ]
            ],
            "type": "heatmapgl"
           }
          ],
          "histogram": [
           {
            "marker": {
             "pattern": {
              "fillmode": "overlay",
              "size": 10,
              "solidity": 0.2
             }
            },
            "type": "histogram"
           }
          ],
          "histogram2d": [
           {
            "colorbar": {
             "outlinewidth": 0,
             "ticks": ""
            },
            "colorscale": [
             [
              0,
              "#0d0887"
             ],
             [
              0.1111111111111111,
              "#46039f"
             ],
             [
              0.2222222222222222,
              "#7201a8"
             ],
             [
              0.3333333333333333,
              "#9c179e"
             ],
             [
              0.4444444444444444,
              "#bd3786"
             ],
             [
              0.5555555555555556,
              "#d8576b"
             ],
             [
              0.6666666666666666,
              "#ed7953"
             ],
             [
              0.7777777777777778,
              "#fb9f3a"
             ],
             [
              0.8888888888888888,
              "#fdca26"
             ],
             [
              1,
              "#f0f921"
             ]
            ],
            "type": "histogram2d"
           }
          ],
          "histogram2dcontour": [
           {
            "colorbar": {
             "outlinewidth": 0,
             "ticks": ""
            },
            "colorscale": [
             [
              0,
              "#0d0887"
             ],
             [
              0.1111111111111111,
              "#46039f"
             ],
             [
              0.2222222222222222,
              "#7201a8"
             ],
             [
              0.3333333333333333,
              "#9c179e"
             ],
             [
              0.4444444444444444,
              "#bd3786"
             ],
             [
              0.5555555555555556,
              "#d8576b"
             ],
             [
              0.6666666666666666,
              "#ed7953"
             ],
             [
              0.7777777777777778,
              "#fb9f3a"
             ],
             [
              0.8888888888888888,
              "#fdca26"
             ],
             [
              1,
              "#f0f921"
             ]
            ],
            "type": "histogram2dcontour"
           }
          ],
          "mesh3d": [
           {
            "colorbar": {
             "outlinewidth": 0,
             "ticks": ""
            },
            "type": "mesh3d"
           }
          ],
          "parcoords": [
           {
            "line": {
             "colorbar": {
              "outlinewidth": 0,
              "ticks": ""
             }
            },
            "type": "parcoords"
           }
          ],
          "pie": [
           {
            "automargin": true,
            "type": "pie"
           }
          ],
          "scatter": [
           {
            "fillpattern": {
             "fillmode": "overlay",
             "size": 10,
             "solidity": 0.2
            },
            "type": "scatter"
           }
          ],
          "scatter3d": [
           {
            "line": {
             "colorbar": {
              "outlinewidth": 0,
              "ticks": ""
             }
            },
            "marker": {
             "colorbar": {
              "outlinewidth": 0,
              "ticks": ""
             }
            },
            "type": "scatter3d"
           }
          ],
          "scattercarpet": [
           {
            "marker": {
             "colorbar": {
              "outlinewidth": 0,
              "ticks": ""
             }
            },
            "type": "scattercarpet"
           }
          ],
          "scattergeo": [
           {
            "marker": {
             "colorbar": {
              "outlinewidth": 0,
              "ticks": ""
             }
            },
            "type": "scattergeo"
           }
          ],
          "scattergl": [
           {
            "marker": {
             "colorbar": {
              "outlinewidth": 0,
              "ticks": ""
             }
            },
            "type": "scattergl"
           }
          ],
          "scattermapbox": [
           {
            "marker": {
             "colorbar": {
              "outlinewidth": 0,
              "ticks": ""
             }
            },
            "type": "scattermapbox"
           }
          ],
          "scatterpolar": [
           {
            "marker": {
             "colorbar": {
              "outlinewidth": 0,
              "ticks": ""
             }
            },
            "type": "scatterpolar"
           }
          ],
          "scatterpolargl": [
           {
            "marker": {
             "colorbar": {
              "outlinewidth": 0,
              "ticks": ""
             }
            },
            "type": "scatterpolargl"
           }
          ],
          "scatterternary": [
           {
            "marker": {
             "colorbar": {
              "outlinewidth": 0,
              "ticks": ""
             }
            },
            "type": "scatterternary"
           }
          ],
          "surface": [
           {
            "colorbar": {
             "outlinewidth": 0,
             "ticks": ""
            },
            "colorscale": [
             [
              0,
              "#0d0887"
             ],
             [
              0.1111111111111111,
              "#46039f"
             ],
             [
              0.2222222222222222,
              "#7201a8"
             ],
             [
              0.3333333333333333,
              "#9c179e"
             ],
             [
              0.4444444444444444,
              "#bd3786"
             ],
             [
              0.5555555555555556,
              "#d8576b"
             ],
             [
              0.6666666666666666,
              "#ed7953"
             ],
             [
              0.7777777777777778,
              "#fb9f3a"
             ],
             [
              0.8888888888888888,
              "#fdca26"
             ],
             [
              1,
              "#f0f921"
             ]
            ],
            "type": "surface"
           }
          ],
          "table": [
           {
            "cells": {
             "fill": {
              "color": "#EBF0F8"
             },
             "line": {
              "color": "white"
             }
            },
            "header": {
             "fill": {
              "color": "#C8D4E3"
             },
             "line": {
              "color": "white"
             }
            },
            "type": "table"
           }
          ]
         },
         "layout": {
          "annotationdefaults": {
           "arrowcolor": "#2a3f5f",
           "arrowhead": 0,
           "arrowwidth": 1
          },
          "autotypenumbers": "strict",
          "coloraxis": {
           "colorbar": {
            "outlinewidth": 0,
            "ticks": ""
           }
          },
          "colorscale": {
           "diverging": [
            [
             0,
             "#8e0152"
            ],
            [
             0.1,
             "#c51b7d"
            ],
            [
             0.2,
             "#de77ae"
            ],
            [
             0.3,
             "#f1b6da"
            ],
            [
             0.4,
             "#fde0ef"
            ],
            [
             0.5,
             "#f7f7f7"
            ],
            [
             0.6,
             "#e6f5d0"
            ],
            [
             0.7,
             "#b8e186"
            ],
            [
             0.8,
             "#7fbc41"
            ],
            [
             0.9,
             "#4d9221"
            ],
            [
             1,
             "#276419"
            ]
           ],
           "sequential": [
            [
             0,
             "#0d0887"
            ],
            [
             0.1111111111111111,
             "#46039f"
            ],
            [
             0.2222222222222222,
             "#7201a8"
            ],
            [
             0.3333333333333333,
             "#9c179e"
            ],
            [
             0.4444444444444444,
             "#bd3786"
            ],
            [
             0.5555555555555556,
             "#d8576b"
            ],
            [
             0.6666666666666666,
             "#ed7953"
            ],
            [
             0.7777777777777778,
             "#fb9f3a"
            ],
            [
             0.8888888888888888,
             "#fdca26"
            ],
            [
             1,
             "#f0f921"
            ]
           ],
           "sequentialminus": [
            [
             0,
             "#0d0887"
            ],
            [
             0.1111111111111111,
             "#46039f"
            ],
            [
             0.2222222222222222,
             "#7201a8"
            ],
            [
             0.3333333333333333,
             "#9c179e"
            ],
            [
             0.4444444444444444,
             "#bd3786"
            ],
            [
             0.5555555555555556,
             "#d8576b"
            ],
            [
             0.6666666666666666,
             "#ed7953"
            ],
            [
             0.7777777777777778,
             "#fb9f3a"
            ],
            [
             0.8888888888888888,
             "#fdca26"
            ],
            [
             1,
             "#f0f921"
            ]
           ]
          },
          "colorway": [
           "#636efa",
           "#EF553B",
           "#00cc96",
           "#ab63fa",
           "#FFA15A",
           "#19d3f3",
           "#FF6692",
           "#B6E880",
           "#FF97FF",
           "#FECB52"
          ],
          "font": {
           "color": "#2a3f5f"
          },
          "geo": {
           "bgcolor": "white",
           "lakecolor": "white",
           "landcolor": "#E5ECF6",
           "showlakes": true,
           "showland": true,
           "subunitcolor": "white"
          },
          "hoverlabel": {
           "align": "left"
          },
          "hovermode": "closest",
          "mapbox": {
           "style": "light"
          },
          "paper_bgcolor": "white",
          "plot_bgcolor": "#E5ECF6",
          "polar": {
           "angularaxis": {
            "gridcolor": "white",
            "linecolor": "white",
            "ticks": ""
           },
           "bgcolor": "#E5ECF6",
           "radialaxis": {
            "gridcolor": "white",
            "linecolor": "white",
            "ticks": ""
           }
          },
          "scene": {
           "xaxis": {
            "backgroundcolor": "#E5ECF6",
            "gridcolor": "white",
            "gridwidth": 2,
            "linecolor": "white",
            "showbackground": true,
            "ticks": "",
            "zerolinecolor": "white"
           },
           "yaxis": {
            "backgroundcolor": "#E5ECF6",
            "gridcolor": "white",
            "gridwidth": 2,
            "linecolor": "white",
            "showbackground": true,
            "ticks": "",
            "zerolinecolor": "white"
           },
           "zaxis": {
            "backgroundcolor": "#E5ECF6",
            "gridcolor": "white",
            "gridwidth": 2,
            "linecolor": "white",
            "showbackground": true,
            "ticks": "",
            "zerolinecolor": "white"
           }
          },
          "shapedefaults": {
           "line": {
            "color": "#2a3f5f"
           }
          },
          "ternary": {
           "aaxis": {
            "gridcolor": "white",
            "linecolor": "white",
            "ticks": ""
           },
           "baxis": {
            "gridcolor": "white",
            "linecolor": "white",
            "ticks": ""
           },
           "bgcolor": "#E5ECF6",
           "caxis": {
            "gridcolor": "white",
            "linecolor": "white",
            "ticks": ""
           }
          },
          "title": {
           "x": 0.05
          },
          "xaxis": {
           "automargin": true,
           "gridcolor": "white",
           "linecolor": "white",
           "ticks": "",
           "title": {
            "standoff": 15
           },
           "zerolinecolor": "white",
           "zerolinewidth": 2
          },
          "yaxis": {
           "automargin": true,
           "gridcolor": "white",
           "linecolor": "white",
           "ticks": "",
           "title": {
            "standoff": 15
           },
           "zerolinecolor": "white",
           "zerolinewidth": 2
          }
         }
        },
        "title": {
         "text": "Indian GDP Analysis"
        },
        "xaxis": {
         "anchor": "y",
         "domain": [
          0,
          1
         ],
         "title": {
          "text": "Year"
         }
        },
        "yaxis": {
         "anchor": "x",
         "domain": [
          0,
          1
         ],
         "range": [
          0,
          4000000000000
         ],
         "title": {
          "text": "Value"
         }
        }
       }
      },
      "text/html": [
       "<div>                            <div id=\"9b6794da-c413-4969-bfec-72bc4a4cf57a\" class=\"plotly-graph-div\" style=\"height:525px; width:100%;\"></div>            <script type=\"text/javascript\">                require([\"plotly\"], function(Plotly) {                    window.PLOTLYENV=window.PLOTLYENV || {};                                    if (document.getElementById(\"9b6794da-c413-4969-bfec-72bc4a4cf57a\")) {                    Plotly.newPlot(                        \"9b6794da-c413-4969-bfec-72bc4a4cf57a\",                        [{\"hovertemplate\":\"Year=%{x}<br>Value=%{y}<extra></extra>\",\"legendgroup\":\"\",\"line\":{\"color\":\"#636efa\",\"dash\":\"solid\"},\"marker\":{\"symbol\":\"circle\"},\"mode\":\"lines\",\"name\":\"\",\"orientation\":\"v\",\"showlegend\":false,\"x\":[1960,1961,1962,1963,1964,1965,1966,1967,1968,1969,1970,1971,1972,1973,1974,1975,1976,1977,1978,1979,1980,1981,1982,1983,1984,1985,1986,1987,1988,1989,1990,1991,1992,1993,1994,1995,1996,1997,1998,1999,2000,2001,2002,2003,2004,2005,2006,2007,2008,2009,2010,2011,2012,2013,2014,2015,2016],\"xaxis\":\"x\",\"y\":[36535925029.925,38709096075.0961,41599070245.0702,47776000903.0009,55726873075.8731,58760424674.5065,45253641300.0,49466168893.3333,52377324280.0,57668330026.6667,61589800520.0,66452561868.4154,70509913046.8528,84374541625.3338,98198276856.9136,97159222028.3357,101346972433.237,119866746569.343,135468782810.558,150950826964.984,183839864648.794,190909548793.872,198037712680.328,215350771423.861,209328156804.186,229410293755.209,245664654064.834,275311425330.609,292632656261.441,292093308316.929,316697337894.532,266502281092.721,284363884079.92,275570363432.31,322909902308.131,355475984176.175,387656017799.599,410320300471.227,415730874172.06,452699998386.955,462146799336.77,478965491061.694,508068952065.959,599592902016.212,699688852930.441,808901077222.092,920316529729.61,1201111768409.39,1186952757635.85,1323940295874.9,1656617073124.21,1823049927771.46,1827637859135.7,1856722121394.53,2035393459979.46,2089865410867.82,2263792499341.01],\"yaxis\":\"y\",\"type\":\"scatter\"}],                        {\"template\":{\"data\":{\"histogram2dcontour\":[{\"type\":\"histogram2dcontour\",\"colorbar\":{\"outlinewidth\":0,\"ticks\":\"\"},\"colorscale\":[[0.0,\"#0d0887\"],[0.1111111111111111,\"#46039f\"],[0.2222222222222222,\"#7201a8\"],[0.3333333333333333,\"#9c179e\"],[0.4444444444444444,\"#bd3786\"],[0.5555555555555556,\"#d8576b\"],[0.6666666666666666,\"#ed7953\"],[0.7777777777777778,\"#fb9f3a\"],[0.8888888888888888,\"#fdca26\"],[1.0,\"#f0f921\"]]}],\"choropleth\":[{\"type\":\"choropleth\",\"colorbar\":{\"outlinewidth\":0,\"ticks\":\"\"}}],\"histogram2d\":[{\"type\":\"histogram2d\",\"colorbar\":{\"outlinewidth\":0,\"ticks\":\"\"},\"colorscale\":[[0.0,\"#0d0887\"],[0.1111111111111111,\"#46039f\"],[0.2222222222222222,\"#7201a8\"],[0.3333333333333333,\"#9c179e\"],[0.4444444444444444,\"#bd3786\"],[0.5555555555555556,\"#d8576b\"],[0.6666666666666666,\"#ed7953\"],[0.7777777777777778,\"#fb9f3a\"],[0.8888888888888888,\"#fdca26\"],[1.0,\"#f0f921\"]]}],\"heatmap\":[{\"type\":\"heatmap\",\"colorbar\":{\"outlinewidth\":0,\"ticks\":\"\"},\"colorscale\":[[0.0,\"#0d0887\"],[0.1111111111111111,\"#46039f\"],[0.2222222222222222,\"#7201a8\"],[0.3333333333333333,\"#9c179e\"],[0.4444444444444444,\"#bd3786\"],[0.5555555555555556,\"#d8576b\"],[0.6666666666666666,\"#ed7953\"],[0.7777777777777778,\"#fb9f3a\"],[0.8888888888888888,\"#fdca26\"],[1.0,\"#f0f921\"]]}],\"heatmapgl\":[{\"type\":\"heatmapgl\",\"colorbar\":{\"outlinewidth\":0,\"ticks\":\"\"},\"colorscale\":[[0.0,\"#0d0887\"],[0.1111111111111111,\"#46039f\"],[0.2222222222222222,\"#7201a8\"],[0.3333333333333333,\"#9c179e\"],[0.4444444444444444,\"#bd3786\"],[0.5555555555555556,\"#d8576b\"],[0.6666666666666666,\"#ed7953\"],[0.7777777777777778,\"#fb9f3a\"],[0.8888888888888888,\"#fdca26\"],[1.0,\"#f0f921\"]]}],\"contourcarpet\":[{\"type\":\"contourcarpet\",\"colorbar\":{\"outlinewidth\":0,\"ticks\":\"\"}}],\"contour\":[{\"type\":\"contour\",\"colorbar\":{\"outlinewidth\":0,\"ticks\":\"\"},\"colorscale\":[[0.0,\"#0d0887\"],[0.1111111111111111,\"#46039f\"],[0.2222222222222222,\"#7201a8\"],[0.3333333333333333,\"#9c179e\"],[0.4444444444444444,\"#bd3786\"],[0.5555555555555556,\"#d8576b\"],[0.6666666666666666,\"#ed7953\"],[0.7777777777777778,\"#fb9f3a\"],[0.8888888888888888,\"#fdca26\"],[1.0,\"#f0f921\"]]}],\"surface\":[{\"type\":\"surface\",\"colorbar\":{\"outlinewidth\":0,\"ticks\":\"\"},\"colorscale\":[[0.0,\"#0d0887\"],[0.1111111111111111,\"#46039f\"],[0.2222222222222222,\"#7201a8\"],[0.3333333333333333,\"#9c179e\"],[0.4444444444444444,\"#bd3786\"],[0.5555555555555556,\"#d8576b\"],[0.6666666666666666,\"#ed7953\"],[0.7777777777777778,\"#fb9f3a\"],[0.8888888888888888,\"#fdca26\"],[1.0,\"#f0f921\"]]}],\"mesh3d\":[{\"type\":\"mesh3d\",\"colorbar\":{\"outlinewidth\":0,\"ticks\":\"\"}}],\"scatter\":[{\"fillpattern\":{\"fillmode\":\"overlay\",\"size\":10,\"solidity\":0.2},\"type\":\"scatter\"}],\"parcoords\":[{\"type\":\"parcoords\",\"line\":{\"colorbar\":{\"outlinewidth\":0,\"ticks\":\"\"}}}],\"scatterpolargl\":[{\"type\":\"scatterpolargl\",\"marker\":{\"colorbar\":{\"outlinewidth\":0,\"ticks\":\"\"}}}],\"bar\":[{\"error_x\":{\"color\":\"#2a3f5f\"},\"error_y\":{\"color\":\"#2a3f5f\"},\"marker\":{\"line\":{\"color\":\"#E5ECF6\",\"width\":0.5},\"pattern\":{\"fillmode\":\"overlay\",\"size\":10,\"solidity\":0.2}},\"type\":\"bar\"}],\"scattergeo\":[{\"type\":\"scattergeo\",\"marker\":{\"colorbar\":{\"outlinewidth\":0,\"ticks\":\"\"}}}],\"scatterpolar\":[{\"type\":\"scatterpolar\",\"marker\":{\"colorbar\":{\"outlinewidth\":0,\"ticks\":\"\"}}}],\"histogram\":[{\"marker\":{\"pattern\":{\"fillmode\":\"overlay\",\"size\":10,\"solidity\":0.2}},\"type\":\"histogram\"}],\"scattergl\":[{\"type\":\"scattergl\",\"marker\":{\"colorbar\":{\"outlinewidth\":0,\"ticks\":\"\"}}}],\"scatter3d\":[{\"type\":\"scatter3d\",\"line\":{\"colorbar\":{\"outlinewidth\":0,\"ticks\":\"\"}},\"marker\":{\"colorbar\":{\"outlinewidth\":0,\"ticks\":\"\"}}}],\"scattermapbox\":[{\"type\":\"scattermapbox\",\"marker\":{\"colorbar\":{\"outlinewidth\":0,\"ticks\":\"\"}}}],\"scatterternary\":[{\"type\":\"scatterternary\",\"marker\":{\"colorbar\":{\"outlinewidth\":0,\"ticks\":\"\"}}}],\"scattercarpet\":[{\"type\":\"scattercarpet\",\"marker\":{\"colorbar\":{\"outlinewidth\":0,\"ticks\":\"\"}}}],\"carpet\":[{\"aaxis\":{\"endlinecolor\":\"#2a3f5f\",\"gridcolor\":\"white\",\"linecolor\":\"white\",\"minorgridcolor\":\"white\",\"startlinecolor\":\"#2a3f5f\"},\"baxis\":{\"endlinecolor\":\"#2a3f5f\",\"gridcolor\":\"white\",\"linecolor\":\"white\",\"minorgridcolor\":\"white\",\"startlinecolor\":\"#2a3f5f\"},\"type\":\"carpet\"}],\"table\":[{\"cells\":{\"fill\":{\"color\":\"#EBF0F8\"},\"line\":{\"color\":\"white\"}},\"header\":{\"fill\":{\"color\":\"#C8D4E3\"},\"line\":{\"color\":\"white\"}},\"type\":\"table\"}],\"barpolar\":[{\"marker\":{\"line\":{\"color\":\"#E5ECF6\",\"width\":0.5},\"pattern\":{\"fillmode\":\"overlay\",\"size\":10,\"solidity\":0.2}},\"type\":\"barpolar\"}],\"pie\":[{\"automargin\":true,\"type\":\"pie\"}]},\"layout\":{\"autotypenumbers\":\"strict\",\"colorway\":[\"#636efa\",\"#EF553B\",\"#00cc96\",\"#ab63fa\",\"#FFA15A\",\"#19d3f3\",\"#FF6692\",\"#B6E880\",\"#FF97FF\",\"#FECB52\"],\"font\":{\"color\":\"#2a3f5f\"},\"hovermode\":\"closest\",\"hoverlabel\":{\"align\":\"left\"},\"paper_bgcolor\":\"white\",\"plot_bgcolor\":\"#E5ECF6\",\"polar\":{\"bgcolor\":\"#E5ECF6\",\"angularaxis\":{\"gridcolor\":\"white\",\"linecolor\":\"white\",\"ticks\":\"\"},\"radialaxis\":{\"gridcolor\":\"white\",\"linecolor\":\"white\",\"ticks\":\"\"}},\"ternary\":{\"bgcolor\":\"#E5ECF6\",\"aaxis\":{\"gridcolor\":\"white\",\"linecolor\":\"white\",\"ticks\":\"\"},\"baxis\":{\"gridcolor\":\"white\",\"linecolor\":\"white\",\"ticks\":\"\"},\"caxis\":{\"gridcolor\":\"white\",\"linecolor\":\"white\",\"ticks\":\"\"}},\"coloraxis\":{\"colorbar\":{\"outlinewidth\":0,\"ticks\":\"\"}},\"colorscale\":{\"sequential\":[[0.0,\"#0d0887\"],[0.1111111111111111,\"#46039f\"],[0.2222222222222222,\"#7201a8\"],[0.3333333333333333,\"#9c179e\"],[0.4444444444444444,\"#bd3786\"],[0.5555555555555556,\"#d8576b\"],[0.6666666666666666,\"#ed7953\"],[0.7777777777777778,\"#fb9f3a\"],[0.8888888888888888,\"#fdca26\"],[1.0,\"#f0f921\"]],\"sequentialminus\":[[0.0,\"#0d0887\"],[0.1111111111111111,\"#46039f\"],[0.2222222222222222,\"#7201a8\"],[0.3333333333333333,\"#9c179e\"],[0.4444444444444444,\"#bd3786\"],[0.5555555555555556,\"#d8576b\"],[0.6666666666666666,\"#ed7953\"],[0.7777777777777778,\"#fb9f3a\"],[0.8888888888888888,\"#fdca26\"],[1.0,\"#f0f921\"]],\"diverging\":[[0,\"#8e0152\"],[0.1,\"#c51b7d\"],[0.2,\"#de77ae\"],[0.3,\"#f1b6da\"],[0.4,\"#fde0ef\"],[0.5,\"#f7f7f7\"],[0.6,\"#e6f5d0\"],[0.7,\"#b8e186\"],[0.8,\"#7fbc41\"],[0.9,\"#4d9221\"],[1,\"#276419\"]]},\"xaxis\":{\"gridcolor\":\"white\",\"linecolor\":\"white\",\"ticks\":\"\",\"title\":{\"standoff\":15},\"zerolinecolor\":\"white\",\"automargin\":true,\"zerolinewidth\":2},\"yaxis\":{\"gridcolor\":\"white\",\"linecolor\":\"white\",\"ticks\":\"\",\"title\":{\"standoff\":15},\"zerolinecolor\":\"white\",\"automargin\":true,\"zerolinewidth\":2},\"scene\":{\"xaxis\":{\"backgroundcolor\":\"#E5ECF6\",\"gridcolor\":\"white\",\"linecolor\":\"white\",\"showbackground\":true,\"ticks\":\"\",\"zerolinecolor\":\"white\",\"gridwidth\":2},\"yaxis\":{\"backgroundcolor\":\"#E5ECF6\",\"gridcolor\":\"white\",\"linecolor\":\"white\",\"showbackground\":true,\"ticks\":\"\",\"zerolinecolor\":\"white\",\"gridwidth\":2},\"zaxis\":{\"backgroundcolor\":\"#E5ECF6\",\"gridcolor\":\"white\",\"linecolor\":\"white\",\"showbackground\":true,\"ticks\":\"\",\"zerolinecolor\":\"white\",\"gridwidth\":2}},\"shapedefaults\":{\"line\":{\"color\":\"#2a3f5f\"}},\"annotationdefaults\":{\"arrowcolor\":\"#2a3f5f\",\"arrowhead\":0,\"arrowwidth\":1},\"geo\":{\"bgcolor\":\"white\",\"landcolor\":\"#E5ECF6\",\"subunitcolor\":\"white\",\"showland\":true,\"showlakes\":true,\"lakecolor\":\"white\"},\"title\":{\"x\":0.05},\"mapbox\":{\"style\":\"light\"}}},\"xaxis\":{\"anchor\":\"y\",\"domain\":[0.0,1.0],\"title\":{\"text\":\"Year\"}},\"yaxis\":{\"anchor\":\"x\",\"domain\":[0.0,1.0],\"title\":{\"text\":\"Value\"},\"range\":[0,4000000000000]},\"legend\":{\"tracegroupgap\":0},\"title\":{\"text\":\"Indian GDP Analysis\"}},                        {\"responsive\": true}                    ).then(function(){\n",
       "                            \n",
       "var gd = document.getElementById('9b6794da-c413-4969-bfec-72bc4a4cf57a');\n",
       "var x = new MutationObserver(function (mutations, observer) {{\n",
       "        var display = window.getComputedStyle(gd).display;\n",
       "        if (!display || display === 'none') {{\n",
       "            console.log([gd, 'removed!']);\n",
       "            Plotly.purge(gd);\n",
       "            observer.disconnect();\n",
       "        }}\n",
       "}});\n",
       "\n",
       "// Listen for the removal of the full notebook cells\n",
       "var notebookContainer = gd.closest('#notebook-container');\n",
       "if (notebookContainer) {{\n",
       "    x.observe(notebookContainer, {childList: true});\n",
       "}}\n",
       "\n",
       "// Listen for the clearing of the current output cell\n",
       "var outputEl = gd.closest('.output');\n",
       "if (outputEl) {{\n",
       "    x.observe(outputEl, {childList: true});\n",
       "}}\n",
       "\n",
       "                        })                };                });            </script>        </div>"
      ]
     },
     "metadata": {},
     "output_type": "display_data"
    }
   ],
   "source": [
    "df_pr = df[df['Country Name'] == 'India']\n",
    "\n",
    "fig = px.line(df_pr, x = 'Year', y = 'Value', title = 'Indian GDP Analysis', range_y = [0, 4000000000000])\n",
    "\n",
    "fig"
   ]
  },
  {
   "cell_type": "code",
   "execution_count": null,
   "id": "0c103ae7",
   "metadata": {},
   "outputs": [],
   "source": [
    "os.mkdir('GDP Individual')\n",
    "#these files save in download section\n",
    "for country_name in df['Country Name'].unique():\n",
    "    \n",
    "    df_pr = df[df['Country Name'] == country_name]\n",
    "    fig = px.line(df_pr, x = 'Year', y = 'Value', title = country_name + ' GDP Analysis')\n",
    "    pyo.plot(fig, filename = 'GDP Individual/' + country_name + '.html', auto_open = False)"
   ]
  },
  {
   "cell_type": "code",
   "execution_count": 72,
   "id": "2f7e9fcb",
   "metadata": {},
   "outputs": [],
   "source": [
    "os.mkdir('GDP Individual WRT World')\n",
    "\n",
    "for country_name in df['Country Name'].unique():\n",
    "    \n",
    "    df_pr = df[df['Country Name'] == country_name]\n",
    "    fig = px.line(df_pr, x = 'Year', y = 'Value', title = country_name + ' GDP Analysis', range_y = [0,80000000000000])\n",
    "    pyo.plot(fig, filename = 'GDP Individual WRT World/' + country_name + '.html', auto_open = False)"
   ]
  },
  {
   "cell_type": "markdown",
   "id": "55efde1f",
   "metadata": {},
   "source": [
    "## GDP of all countries"
   ]
  },
  {
   "cell_type": "code",
   "execution_count": 73,
   "id": "56c4224e",
   "metadata": {},
   "outputs": [
    {
     "data": {
      "text/plain": [
       "'Countries GDP.html'"
      ]
     },
     "execution_count": 73,
     "metadata": {},
     "output_type": "execute_result"
    }
   ],
   "source": [
    "fig = px.line(df, x = 'Year', y = 'Value', title = 'GDP Analysis of All Countries', color = 'Country Name')\n",
    "\n",
    "pyo.plot(fig, filename = 'Countries GDP.html')"
   ]
  },
  {
   "cell_type": "markdown",
   "id": "4c221445",
   "metadata": {},
   "source": [
    "## GDP Comparison between India & China"
   ]
  },
  {
   "cell_type": "code",
   "execution_count": 74,
   "id": "220a312e",
   "metadata": {},
   "outputs": [],
   "source": [
    "c1 = df[df['Country Name'] == 'China']\n",
    "c2 = df[df['Country Name'] == 'India']"
   ]
  },
  {
   "cell_type": "code",
   "execution_count": 76,
   "id": "4a17aa5a",
   "metadata": {},
   "outputs": [
    {
     "data": {
      "text/html": [
       "<div>\n",
       "<style scoped>\n",
       "    .dataframe tbody tr th:only-of-type {\n",
       "        vertical-align: middle;\n",
       "    }\n",
       "\n",
       "    .dataframe tbody tr th {\n",
       "        vertical-align: top;\n",
       "    }\n",
       "\n",
       "    .dataframe thead th {\n",
       "        text-align: right;\n",
       "    }\n",
       "</style>\n",
       "<table border=\"1\" class=\"dataframe\">\n",
       "  <thead>\n",
       "    <tr style=\"text-align: right;\">\n",
       "      <th></th>\n",
       "      <th>Country Name</th>\n",
       "      <th>Country Code</th>\n",
       "      <th>Year</th>\n",
       "      <th>Value</th>\n",
       "      <th>GDP</th>\n",
       "    </tr>\n",
       "  </thead>\n",
       "  <tbody>\n",
       "    <tr>\n",
       "      <th>4046</th>\n",
       "      <td>China</td>\n",
       "      <td>CHN</td>\n",
       "      <td>1960</td>\n",
       "      <td>5.971647e+10</td>\n",
       "      <td>0.00</td>\n",
       "    </tr>\n",
       "    <tr>\n",
       "      <th>4047</th>\n",
       "      <td>China</td>\n",
       "      <td>CHN</td>\n",
       "      <td>1961</td>\n",
       "      <td>5.005687e+10</td>\n",
       "      <td>-16.18</td>\n",
       "    </tr>\n",
       "    <tr>\n",
       "      <th>4048</th>\n",
       "      <td>China</td>\n",
       "      <td>CHN</td>\n",
       "      <td>1962</td>\n",
       "      <td>4.720936e+10</td>\n",
       "      <td>-5.69</td>\n",
       "    </tr>\n",
       "    <tr>\n",
       "      <th>4049</th>\n",
       "      <td>China</td>\n",
       "      <td>CHN</td>\n",
       "      <td>1963</td>\n",
       "      <td>5.070680e+10</td>\n",
       "      <td>7.41</td>\n",
       "    </tr>\n",
       "    <tr>\n",
       "      <th>4050</th>\n",
       "      <td>China</td>\n",
       "      <td>CHN</td>\n",
       "      <td>1964</td>\n",
       "      <td>5.970834e+10</td>\n",
       "      <td>17.75</td>\n",
       "    </tr>\n",
       "  </tbody>\n",
       "</table>\n",
       "</div>"
      ],
      "text/plain": [
       "     Country Name Country Code  Year         Value    GDP\n",
       "4046        China          CHN  1960  5.971647e+10   0.00\n",
       "4047        China          CHN  1961  5.005687e+10 -16.18\n",
       "4048        China          CHN  1962  4.720936e+10  -5.69\n",
       "4049        China          CHN  1963  5.070680e+10   7.41\n",
       "4050        China          CHN  1964  5.970834e+10  17.75"
      ]
     },
     "execution_count": 76,
     "metadata": {},
     "output_type": "execute_result"
    }
   ],
   "source": [
    "c1.head()"
   ]
  },
  {
   "cell_type": "code",
   "execution_count": 77,
   "id": "38a2c7e5",
   "metadata": {},
   "outputs": [
    {
     "data": {
      "text/html": [
       "<div>\n",
       "<style scoped>\n",
       "    .dataframe tbody tr th:only-of-type {\n",
       "        vertical-align: middle;\n",
       "    }\n",
       "\n",
       "    .dataframe tbody tr th {\n",
       "        vertical-align: top;\n",
       "    }\n",
       "\n",
       "    .dataframe thead th {\n",
       "        text-align: right;\n",
       "    }\n",
       "</style>\n",
       "<table border=\"1\" class=\"dataframe\">\n",
       "  <thead>\n",
       "    <tr style=\"text-align: right;\">\n",
       "      <th></th>\n",
       "      <th>Country Name</th>\n",
       "      <th>Country Code</th>\n",
       "      <th>Year</th>\n",
       "      <th>Value</th>\n",
       "      <th>GDP</th>\n",
       "    </tr>\n",
       "  </thead>\n",
       "  <tbody>\n",
       "    <tr>\n",
       "      <th>6074</th>\n",
       "      <td>India</td>\n",
       "      <td>IND</td>\n",
       "      <td>1960</td>\n",
       "      <td>3.653593e+10</td>\n",
       "      <td>0.00</td>\n",
       "    </tr>\n",
       "    <tr>\n",
       "      <th>6075</th>\n",
       "      <td>India</td>\n",
       "      <td>IND</td>\n",
       "      <td>1961</td>\n",
       "      <td>3.870910e+10</td>\n",
       "      <td>5.95</td>\n",
       "    </tr>\n",
       "    <tr>\n",
       "      <th>6076</th>\n",
       "      <td>India</td>\n",
       "      <td>IND</td>\n",
       "      <td>1962</td>\n",
       "      <td>4.159907e+10</td>\n",
       "      <td>7.47</td>\n",
       "    </tr>\n",
       "    <tr>\n",
       "      <th>6077</th>\n",
       "      <td>India</td>\n",
       "      <td>IND</td>\n",
       "      <td>1963</td>\n",
       "      <td>4.777600e+10</td>\n",
       "      <td>14.85</td>\n",
       "    </tr>\n",
       "    <tr>\n",
       "      <th>6078</th>\n",
       "      <td>India</td>\n",
       "      <td>IND</td>\n",
       "      <td>1964</td>\n",
       "      <td>5.572687e+10</td>\n",
       "      <td>16.64</td>\n",
       "    </tr>\n",
       "  </tbody>\n",
       "</table>\n",
       "</div>"
      ],
      "text/plain": [
       "     Country Name Country Code  Year         Value    GDP\n",
       "6074        India          IND  1960  3.653593e+10   0.00\n",
       "6075        India          IND  1961  3.870910e+10   5.95\n",
       "6076        India          IND  1962  4.159907e+10   7.47\n",
       "6077        India          IND  1963  4.777600e+10  14.85\n",
       "6078        India          IND  1964  5.572687e+10  16.64"
      ]
     },
     "execution_count": 77,
     "metadata": {},
     "output_type": "execute_result"
    }
   ],
   "source": [
    "c2.head()"
   ]
  },
  {
   "cell_type": "code",
   "execution_count": 81,
   "id": "8eac65ec",
   "metadata": {},
   "outputs": [
    {
     "data": {
      "text/html": [
       "<div>\n",
       "<style scoped>\n",
       "    .dataframe tbody tr th:only-of-type {\n",
       "        vertical-align: middle;\n",
       "    }\n",
       "\n",
       "    .dataframe tbody tr th {\n",
       "        vertical-align: top;\n",
       "    }\n",
       "\n",
       "    .dataframe thead th {\n",
       "        text-align: right;\n",
       "    }\n",
       "</style>\n",
       "<table border=\"1\" class=\"dataframe\">\n",
       "  <thead>\n",
       "    <tr style=\"text-align: right;\">\n",
       "      <th></th>\n",
       "      <th>Country Name</th>\n",
       "      <th>Country Code</th>\n",
       "      <th>Year</th>\n",
       "      <th>Value</th>\n",
       "      <th>GDP</th>\n",
       "    </tr>\n",
       "  </thead>\n",
       "  <tbody>\n",
       "    <tr>\n",
       "      <th>4046</th>\n",
       "      <td>China</td>\n",
       "      <td>CHN</td>\n",
       "      <td>1960</td>\n",
       "      <td>5.971647e+10</td>\n",
       "      <td>0.00</td>\n",
       "    </tr>\n",
       "    <tr>\n",
       "      <th>4047</th>\n",
       "      <td>China</td>\n",
       "      <td>CHN</td>\n",
       "      <td>1961</td>\n",
       "      <td>5.005687e+10</td>\n",
       "      <td>-16.18</td>\n",
       "    </tr>\n",
       "    <tr>\n",
       "      <th>4048</th>\n",
       "      <td>China</td>\n",
       "      <td>CHN</td>\n",
       "      <td>1962</td>\n",
       "      <td>4.720936e+10</td>\n",
       "      <td>-5.69</td>\n",
       "    </tr>\n",
       "    <tr>\n",
       "      <th>4049</th>\n",
       "      <td>China</td>\n",
       "      <td>CHN</td>\n",
       "      <td>1963</td>\n",
       "      <td>5.070680e+10</td>\n",
       "      <td>7.41</td>\n",
       "    </tr>\n",
       "    <tr>\n",
       "      <th>4050</th>\n",
       "      <td>China</td>\n",
       "      <td>CHN</td>\n",
       "      <td>1964</td>\n",
       "      <td>5.970834e+10</td>\n",
       "      <td>17.75</td>\n",
       "    </tr>\n",
       "    <tr>\n",
       "      <th>...</th>\n",
       "      <td>...</td>\n",
       "      <td>...</td>\n",
       "      <td>...</td>\n",
       "      <td>...</td>\n",
       "      <td>...</td>\n",
       "    </tr>\n",
       "    <tr>\n",
       "      <th>6126</th>\n",
       "      <td>India</td>\n",
       "      <td>IND</td>\n",
       "      <td>2012</td>\n",
       "      <td>1.827638e+12</td>\n",
       "      <td>0.25</td>\n",
       "    </tr>\n",
       "    <tr>\n",
       "      <th>6127</th>\n",
       "      <td>India</td>\n",
       "      <td>IND</td>\n",
       "      <td>2013</td>\n",
       "      <td>1.856722e+12</td>\n",
       "      <td>1.59</td>\n",
       "    </tr>\n",
       "    <tr>\n",
       "      <th>6128</th>\n",
       "      <td>India</td>\n",
       "      <td>IND</td>\n",
       "      <td>2014</td>\n",
       "      <td>2.035393e+12</td>\n",
       "      <td>9.62</td>\n",
       "    </tr>\n",
       "    <tr>\n",
       "      <th>6129</th>\n",
       "      <td>India</td>\n",
       "      <td>IND</td>\n",
       "      <td>2015</td>\n",
       "      <td>2.089865e+12</td>\n",
       "      <td>2.68</td>\n",
       "    </tr>\n",
       "    <tr>\n",
       "      <th>6130</th>\n",
       "      <td>India</td>\n",
       "      <td>IND</td>\n",
       "      <td>2016</td>\n",
       "      <td>2.263792e+12</td>\n",
       "      <td>8.32</td>\n",
       "    </tr>\n",
       "  </tbody>\n",
       "</table>\n",
       "<p>114 rows × 5 columns</p>\n",
       "</div>"
      ],
      "text/plain": [
       "     Country Name Country Code  Year         Value    GDP\n",
       "4046        China          CHN  1960  5.971647e+10   0.00\n",
       "4047        China          CHN  1961  5.005687e+10 -16.18\n",
       "4048        China          CHN  1962  4.720936e+10  -5.69\n",
       "4049        China          CHN  1963  5.070680e+10   7.41\n",
       "4050        China          CHN  1964  5.970834e+10  17.75\n",
       "...           ...          ...   ...           ...    ...\n",
       "6126        India          IND  2012  1.827638e+12   0.25\n",
       "6127        India          IND  2013  1.856722e+12   1.59\n",
       "6128        India          IND  2014  2.035393e+12   9.62\n",
       "6129        India          IND  2015  2.089865e+12   2.68\n",
       "6130        India          IND  2016  2.263792e+12   8.32\n",
       "\n",
       "[114 rows x 5 columns]"
      ]
     },
     "execution_count": 81,
     "metadata": {},
     "output_type": "execute_result"
    }
   ],
   "source": [
    "df_pr = pd.concat([c1,c2],axis = 0)\n",
    "df_pr"
   ]
  },
  {
   "cell_type": "code",
   "execution_count": 83,
   "id": "66151a69",
   "metadata": {},
   "outputs": [
    {
     "data": {
      "text/plain": [
       "'INDCHN.html'"
      ]
     },
     "execution_count": 83,
     "metadata": {},
     "output_type": "execute_result"
    }
   ],
   "source": [
    "fig = px.line(df_pr, x = 'Year', y = 'Value', title = 'GDP Comparison | India & China', color = 'Country Name')\n",
    "\n",
    "pyo.plot(fig, filename = 'INDCHN.html')"
   ]
  },
  {
   "cell_type": "code",
   "execution_count": 85,
   "id": "900a7294",
   "metadata": {},
   "outputs": [
    {
     "data": {
      "text/plain": [
       "'WLD&CHN.html'"
      ]
     },
     "execution_count": 85,
     "metadata": {},
     "output_type": "execute_result"
    }
   ],
   "source": [
    "c1 = df[df['Country Name'] == 'China']\n",
    "c2 = df[df['Country Name'] == 'World']\n",
    "\n",
    "df_pr = pd.concat([c1,c2],axis = 0)\n",
    "\n",
    "fig = px.line(df_pr, x = 'Year', y = 'Value', title = 'GDP Comparison | World & China', color = 'Country Name')\n",
    "\n",
    "pyo.plot(fig, filename = 'WLD&CHN.html')"
   ]
  },
  {
   "cell_type": "markdown",
   "id": "4034d92c",
   "metadata": {},
   "source": [
    "## GDP Comparison between Specific Countries"
   ]
  },
  {
   "cell_type": "code",
   "execution_count": 90,
   "id": "53768d5e",
   "metadata": {},
   "outputs": [],
   "source": [
    "lst = ['IND','ITA', 'USA', 'CHN']"
   ]
  },
  {
   "cell_type": "code",
   "execution_count": 94,
   "id": "1e9924ba",
   "metadata": {
    "collapsed": true
   },
   "outputs": [
    {
     "name": "stdout",
     "output_type": "stream",
     "text": [
      "     Country Name Country Code  Year         Value    GDP\n",
      "6074        India          IND  1960  3.653593e+10   0.00\n",
      "6075        India          IND  1961  3.870910e+10   5.95\n",
      "6076        India          IND  1962  4.159907e+10   7.47\n",
      "6077        India          IND  1963  4.777600e+10  14.85\n",
      "6078        India          IND  1964  5.572687e+10  16.64\n",
      "6079        India          IND  1965  5.876042e+10   5.44\n",
      "6080        India          IND  1966  4.525364e+10 -22.99\n",
      "6081        India          IND  1967  4.946617e+10   9.31\n",
      "6082        India          IND  1968  5.237732e+10   5.89\n",
      "6083        India          IND  1969  5.766833e+10  10.10\n",
      "6084        India          IND  1970  6.158980e+10   6.80\n",
      "6085        India          IND  1971  6.645256e+10   7.90\n",
      "6086        India          IND  1972  7.050991e+10   6.11\n",
      "6087        India          IND  1973  8.437454e+10  19.66\n",
      "6088        India          IND  1974  9.819828e+10  16.38\n",
      "6089        India          IND  1975  9.715922e+10  -1.06\n",
      "6090        India          IND  1976  1.013470e+11   4.31\n",
      "6091        India          IND  1977  1.198667e+11  18.27\n",
      "6092        India          IND  1978  1.354688e+11  13.02\n",
      "6093        India          IND  1979  1.509508e+11  11.43\n",
      "6094        India          IND  1980  1.838399e+11  21.79\n",
      "6095        India          IND  1981  1.909095e+11   3.85\n",
      "6096        India          IND  1982  1.980377e+11   3.73\n",
      "6097        India          IND  1983  2.153508e+11   8.74\n",
      "6098        India          IND  1984  2.093282e+11  -2.80\n",
      "6099        India          IND  1985  2.294103e+11   9.59\n",
      "6100        India          IND  1986  2.456647e+11   7.09\n",
      "6101        India          IND  1987  2.753114e+11  12.07\n",
      "6102        India          IND  1988  2.926327e+11   6.29\n",
      "6103        India          IND  1989  2.920933e+11  -0.18\n",
      "6104        India          IND  1990  3.166973e+11   8.42\n",
      "6105        India          IND  1991  2.665023e+11 -15.85\n",
      "6106        India          IND  1992  2.843639e+11   6.70\n",
      "6107        India          IND  1993  2.755704e+11  -3.09\n",
      "6108        India          IND  1994  3.229099e+11  17.18\n",
      "6109        India          IND  1995  3.554760e+11  10.09\n",
      "6110        India          IND  1996  3.876560e+11   9.05\n",
      "6111        India          IND  1997  4.103203e+11   5.85\n",
      "6112        India          IND  1998  4.157309e+11   1.32\n",
      "6113        India          IND  1999  4.527000e+11   8.89\n",
      "6114        India          IND  2000  4.621468e+11   2.09\n",
      "6115        India          IND  2001  4.789655e+11   3.64\n",
      "6116        India          IND  2002  5.080690e+11   6.08\n",
      "6117        India          IND  2003  5.995929e+11  18.01\n",
      "6118        India          IND  2004  6.996889e+11  16.69\n",
      "6119        India          IND  2005  8.089011e+11  15.61\n",
      "6120        India          IND  2006  9.203165e+11  13.77\n",
      "6121        India          IND  2007  1.201112e+12  30.51\n",
      "6122        India          IND  2008  1.186953e+12  -1.18\n",
      "6123        India          IND  2009  1.323940e+12  11.54\n",
      "6124        India          IND  2010  1.656617e+12  25.13\n",
      "6125        India          IND  2011  1.823050e+12  10.05\n",
      "6126        India          IND  2012  1.827638e+12   0.25\n",
      "6127        India          IND  2013  1.856722e+12   1.59\n",
      "6128        India          IND  2014  2.035393e+12   9.62\n",
      "6129        India          IND  2015  2.089865e+12   2.68\n",
      "6130        India          IND  2016  2.263792e+12   8.32\n",
      "     Country Name Country Code  Year         Value    GDP\n",
      "6412        Italy          ITA  1960  4.038529e+10   0.00\n",
      "6413        Italy          ITA  1961  4.484276e+10  11.04\n",
      "6414        Italy          ITA  1962  5.038389e+10  12.36\n",
      "6415        Italy          ITA  1963  5.771074e+10  14.54\n",
      "6416        Italy          ITA  1964  6.317542e+10   9.47\n",
      "6417        Italy          ITA  1965  6.797815e+10   7.60\n",
      "6418        Italy          ITA  1966  7.365487e+10   8.35\n",
      "6419        Italy          ITA  1967  8.113312e+10  10.15\n",
      "6420        Italy          ITA  1968  8.794223e+10   8.39\n",
      "6421        Italy          ITA  1969  9.708508e+10  10.40\n",
      "6422        Italy          ITA  1970  1.130213e+11  16.41\n",
      "6423        Italy          ITA  1971  1.242611e+11   9.94\n",
      "6424        Italy          ITA  1972  1.447809e+11  16.51\n",
      "6425        Italy          ITA  1973  1.749132e+11  20.81\n",
      "6426        Italy          ITA  1974  1.989062e+11  13.72\n",
      "6427        Italy          ITA  1975  2.269448e+11  14.10\n",
      "6428        Italy          ITA  1976  2.239760e+11  -1.31\n",
      "6429        Italy          ITA  1977  2.567466e+11  14.63\n",
      "6430        Italy          ITA  1978  3.140191e+11  22.31\n",
      "6431        Italy          ITA  1979  3.923786e+11  24.95\n",
      "6432        Italy          ITA  1980  4.756825e+11  21.23\n",
      "6433        Italy          ITA  1981  4.292821e+11  -9.75\n",
      "6434        Italy          ITA  1982  4.258633e+11  -0.80\n",
      "6435        Italy          ITA  1983  4.415810e+11   3.69\n",
      "6436        Italy          ITA  1984  4.364433e+11  -1.16\n",
      "6437        Italy          ITA  1985  4.507258e+11   3.27\n",
      "6438        Italy          ITA  1986  6.382740e+11  41.61\n",
      "6439        Italy          ITA  1987  8.030554e+11  25.82\n",
      "6440        Italy          ITA  1988  8.886679e+11  10.66\n",
      "6441        Italy          ITA  1989  9.255981e+11   4.16\n",
      "6442        Italy          ITA  1990  1.177326e+12  27.20\n",
      "6443        Italy          ITA  1991  1.242109e+12   5.50\n",
      "6444        Italy          ITA  1992  1.315807e+12   5.93\n",
      "6445        Italy          ITA  1993  1.061445e+12 -19.33\n",
      "6446        Italy          ITA  1994  1.095591e+12   3.22\n",
      "6447        Italy          ITA  1995  1.170787e+12   6.86\n",
      "6448        Italy          ITA  1996  1.308929e+12  11.80\n",
      "6449        Italy          ITA  1997  1.239051e+12  -5.34\n",
      "6450        Italy          ITA  1998  1.266309e+12   2.20\n",
      "6451        Italy          ITA  1999  1.248563e+12  -1.40\n",
      "6452        Italy          ITA  2000  1.141760e+12  -8.55\n",
      "6453        Italy          ITA  2001  1.162318e+12   1.80\n",
      "6454        Italy          ITA  2002  1.266511e+12   8.96\n",
      "6455        Italy          ITA  2003  1.569650e+12  23.93\n",
      "6456        Italy          ITA  2004  1.798315e+12  14.57\n",
      "6457        Italy          ITA  2005  1.852662e+12   3.02\n",
      "6458        Italy          ITA  2006  1.942634e+12   4.86\n",
      "6459        Italy          ITA  2007  2.203053e+12  13.41\n",
      "6460        Italy          ITA  2008  2.390729e+12   8.52\n",
      "6461        Italy          ITA  2009  2.185160e+12  -8.60\n",
      "6462        Italy          ITA  2010  2.125058e+12  -2.75\n",
      "6463        Italy          ITA  2011  2.276292e+12   7.12\n",
      "6464        Italy          ITA  2012  2.072823e+12  -8.94\n",
      "6465        Italy          ITA  2013  2.130491e+12   2.78\n",
      "6466        Italy          ITA  2014  2.151733e+12   1.00\n",
      "6467        Italy          ITA  2015  1.832347e+12 -14.84\n",
      "6468        Italy          ITA  2016  1.858913e+12   1.45\n",
      "        Country Name Country Code  Year         Value    GDP\n",
      "11029  United States          USA  1960  5.433000e+11   0.00\n",
      "11030  United States          USA  1961  5.633000e+11   3.68\n",
      "11031  United States          USA  1962  6.051000e+11   7.42\n",
      "11032  United States          USA  1963  6.386000e+11   5.54\n",
      "11033  United States          USA  1964  6.858000e+11   7.39\n",
      "11034  United States          USA  1965  7.437000e+11   8.44\n",
      "11035  United States          USA  1966  8.150000e+11   9.59\n",
      "11036  United States          USA  1967  8.617000e+11   5.73\n",
      "11037  United States          USA  1968  9.425000e+11   9.38\n",
      "11038  United States          USA  1969  1.019900e+12   8.21\n",
      "11039  United States          USA  1970  1.075884e+12   5.49\n",
      "11040  United States          USA  1971  1.167770e+12   8.54\n",
      "11041  United States          USA  1972  1.282449e+12   9.82\n",
      "11042  United States          USA  1973  1.428549e+12  11.39\n",
      "11043  United States          USA  1974  1.548825e+12   8.42\n",
      "11044  United States          USA  1975  1.688923e+12   9.05\n",
      "11045  United States          USA  1976  1.877587e+12  11.17\n",
      "11046  United States          USA  1977  2.085951e+12  11.10\n",
      "11047  United States          USA  1978  2.356571e+12  12.97\n",
      "11048  United States          USA  1979  2.632143e+12  11.69\n",
      "11049  United States          USA  1980  2.862505e+12   8.75\n",
      "11050  United States          USA  1981  3.210956e+12  12.17\n",
      "11051  United States          USA  1982  3.344991e+12   4.17\n",
      "11052  United States          USA  1983  3.638137e+12   8.76\n",
      "11053  United States          USA  1984  4.040693e+12  11.06\n",
      "11054  United States          USA  1985  4.346734e+12   7.57\n",
      "11055  United States          USA  1986  4.590155e+12   5.60\n",
      "11056  United States          USA  1987  4.870217e+12   6.10\n",
      "11057  United States          USA  1988  5.252629e+12   7.85\n",
      "11058  United States          USA  1989  5.657693e+12   7.71\n",
      "11059  United States          USA  1990  5.979589e+12   5.69\n",
      "11060  United States          USA  1991  6.174043e+12   3.25\n",
      "11061  United States          USA  1992  6.539299e+12   5.92\n",
      "11062  United States          USA  1993  6.878718e+12   5.19\n",
      "11063  United States          USA  1994  7.308755e+12   6.25\n",
      "11064  United States          USA  1995  7.664060e+12   4.86\n",
      "11065  United States          USA  1996  8.100201e+12   5.69\n",
      "11066  United States          USA  1997  8.608515e+12   6.28\n",
      "11067  United States          USA  1998  9.089168e+12   5.58\n",
      "11068  United States          USA  1999  9.660624e+12   6.29\n",
      "11069  United States          USA  2000  1.028478e+13   6.46\n",
      "11070  United States          USA  2001  1.062182e+13   3.28\n",
      "11071  United States          USA  2002  1.097751e+13   3.35\n",
      "11072  United States          USA  2003  1.151067e+13   4.86\n",
      "11073  United States          USA  2004  1.227493e+13   6.64\n",
      "11074  United States          USA  2005  1.309373e+13   6.67\n",
      "11075  United States          USA  2006  1.385589e+13   5.82\n",
      "11076  United States          USA  2007  1.447764e+13   4.49\n",
      "11077  United States          USA  2008  1.471858e+13   1.66\n",
      "11078  United States          USA  2009  1.441874e+13  -2.04\n",
      "11079  United States          USA  2010  1.496437e+13   3.78\n",
      "11080  United States          USA  2011  1.551793e+13   3.70\n",
      "11081  United States          USA  2012  1.615526e+13   4.11\n",
      "11082  United States          USA  2013  1.669152e+13   3.32\n",
      "11083  United States          USA  2014  1.739310e+13   4.20\n",
      "11084  United States          USA  2015  1.812071e+13   4.18\n",
      "11085  United States          USA  2016  1.862448e+13   2.78\n",
      "     Country Name Country Code  Year         Value    GDP\n",
      "4046        China          CHN  1960  5.971647e+10   0.00\n",
      "4047        China          CHN  1961  5.005687e+10 -16.18\n",
      "4048        China          CHN  1962  4.720936e+10  -5.69\n",
      "4049        China          CHN  1963  5.070680e+10   7.41\n",
      "4050        China          CHN  1964  5.970834e+10  17.75\n",
      "4051        China          CHN  1965  7.043627e+10  17.97\n",
      "4052        China          CHN  1966  7.672029e+10   8.92\n",
      "4053        China          CHN  1967  7.288163e+10  -5.00\n",
      "4054        China          CHN  1968  7.084654e+10  -2.79\n",
      "4055        China          CHN  1969  7.970591e+10  12.51\n",
      "4056        China          CHN  1970  9.260297e+10  16.18\n",
      "4057        China          CHN  1971  9.980096e+10   7.77\n",
      "4058        China          CHN  1972  1.136876e+11  13.91\n",
      "4059        China          CHN  1973  1.385443e+11  21.86\n",
      "4060        China          CHN  1974  1.441821e+11   4.07\n",
      "4061        China          CHN  1975  1.634316e+11  13.35\n",
      "4062        China          CHN  1976  1.539405e+11  -5.81\n",
      "4063        China          CHN  1977  1.749381e+11  13.64\n",
      "4064        China          CHN  1978  1.495408e+11 -14.52\n",
      "4065        China          CHN  1979  1.782806e+11  19.22\n",
      "4066        China          CHN  1980  1.911492e+11   7.22\n",
      "4067        China          CHN  1981  1.958664e+11   2.47\n",
      "4068        China          CHN  1982  2.050897e+11   4.71\n",
      "4069        China          CHN  1983  2.306867e+11  12.48\n",
      "4070        China          CHN  1984  2.599465e+11  12.68\n",
      "4071        China          CHN  1985  3.094880e+11  19.06\n",
      "4072        China          CHN  1986  3.007581e+11  -2.82\n",
      "4073        China          CHN  1987  2.729730e+11  -9.24\n",
      "4074        China          CHN  1988  3.123536e+11  14.43\n",
      "4075        China          CHN  1989  3.477681e+11  11.34\n",
      "4076        China          CHN  1990  3.608579e+11   3.76\n",
      "4077        China          CHN  1991  3.833733e+11   6.24\n",
      "4078        China          CHN  1992  4.269157e+11  11.36\n",
      "4079        China          CHN  1993  4.447313e+11   4.17\n",
      "4080        China          CHN  1994  5.643247e+11  26.89\n",
      "4081        China          CHN  1995  7.345479e+11  30.16\n",
      "4082        China          CHN  1996  8.637467e+11  17.59\n",
      "4083        China          CHN  1997  9.616040e+11  11.33\n",
      "4084        China          CHN  1998  1.029043e+12   7.01\n",
      "4085        China          CHN  1999  1.093997e+12   6.31\n",
      "4086        China          CHN  2000  1.211347e+12  10.73\n",
      "4087        China          CHN  2001  1.339396e+12  10.57\n",
      "4088        China          CHN  2002  1.470550e+12   9.79\n",
      "4089        China          CHN  2003  1.660288e+12  12.90\n",
      "4090        China          CHN  2004  1.955347e+12  17.77\n",
      "4091        China          CHN  2005  2.285966e+12  16.91\n",
      "4092        China          CHN  2006  2.752132e+12  20.39\n",
      "4093        China          CHN  2007  3.552182e+12  29.07\n",
      "4094        China          CHN  2008  4.598206e+12  29.45\n",
      "4095        China          CHN  2009  5.109954e+12  11.13\n",
      "4096        China          CHN  2010  6.100620e+12  19.39\n",
      "4097        China          CHN  2011  7.572554e+12  24.13\n",
      "4098        China          CHN  2012  8.560547e+12  13.05\n",
      "4099        China          CHN  2013  9.607224e+12  12.23\n",
      "4100        China          CHN  2014  1.048237e+13   9.11\n",
      "4101        China          CHN  2015  1.106467e+13   5.55\n",
      "4102        China          CHN  2016  1.119915e+13   1.22\n"
     ]
    }
   ],
   "source": [
    "for i in lst:\n",
    "    print(df[df['Country Code'] == i])"
   ]
  },
  {
   "cell_type": "code",
   "execution_count": 86,
   "id": "5d346e6b",
   "metadata": {},
   "outputs": [],
   "source": [
    "lst = ['IND','ITA', 'USA', 'CHN']\n",
    "\n",
    "dfs = []\n",
    "for i in lst:\n",
    "    dfs.append(df[df['Country Code'] == i])\n",
    "    \n",
    "    df_pr = pd.concat(dfs, axis = 0)"
   ]
  },
  {
   "cell_type": "code",
   "execution_count": 100,
   "id": "a52da4b7",
   "metadata": {},
   "outputs": [
    {
     "data": {
      "text/plain": [
       "'IND&ITA&USA&CHN.html'"
      ]
     },
     "execution_count": 100,
     "metadata": {},
     "output_type": "execute_result"
    }
   ],
   "source": [
    "fig = px.line(df_pr, x = 'Year', y = 'Value', title = 'GDP Comparison - ' + '|'.join(lst), color = 'Country Name')\n",
    "\n",
    "pyo.plot(fig, filename = '&'.join(lst) + '.html')"
   ]
  },
  {
   "cell_type": "code",
   "execution_count": 101,
   "id": "438277ff",
   "metadata": {},
   "outputs": [],
   "source": [
    "def comare_gdp(lst, isOpen):\n",
    "    \n",
    "    dfs = []\n",
    "    for i in lst:\n",
    "        dfs.append(df[df['Country Code'] == i])\n",
    "\n",
    "        df_pr = pd.concat(dfs, axis = 0)\n",
    "        \n",
    "    fig = px.line(df_pr, x = 'Year', y = 'Value', title = 'GDP Comparison - ' + '&'.join(lst), \n",
    "                  color = 'Country Name')\n",
    "    pyo.plot(fig, filename = '&'.join(lst) + '.html', auto_open = isOpen)\n",
    "    "
   ]
  },
  {
   "cell_type": "code",
   "execution_count": 99,
   "id": "3e963981",
   "metadata": {},
   "outputs": [],
   "source": [
    "comare_gdp(['IND','USA'], False) #file name as ind&usa"
   ]
  },
  {
   "cell_type": "markdown",
   "id": "76a97cc5",
   "metadata": {},
   "source": [
    "## GDP Growth Comparison between Specific Countries"
   ]
  },
  {
   "cell_type": "code",
   "execution_count": 38,
   "id": "8ead8d90",
   "metadata": {},
   "outputs": [],
   "source": [
    "def compare_gdp(lst, isOpen):\n",
    "    \n",
    "    dfs = []\n",
    "    for i in lst:\n",
    "        dfs.append(df[df['Country Code'] == i])\n",
    "\n",
    "        df_pr = pd.concat(dfs, axis = 0)\n",
    "        \n",
    "    fig = px.line(df_pr, x = 'Year', y = 'GDP', title = 'GDP Comparison - ' + '&'.join(lst), \n",
    "                  color = 'Country Name')\n",
    "    pyo.plot(fig, filename = '&'.join(lst) + '.html', auto_open = isOpen)\n",
    "    "
   ]
  },
  {
   "cell_type": "code",
   "execution_count": 39,
   "id": "828ec0d4",
   "metadata": {},
   "outputs": [],
   "source": [
    "compare_gdp(['IND','USA','ITA','CHN'], True)"
   ]
  },
  {
   "cell_type": "markdown",
   "id": "3a27c96e",
   "metadata": {},
   "source": [
    "## GDP Growth Comparies of All the Countries"
   ]
  },
  {
   "cell_type": "code",
   "execution_count": 40,
   "id": "86fad017",
   "metadata": {},
   "outputs": [
    {
     "data": {
      "text/plain": [
       "'GDP Growth.html'"
      ]
     },
     "execution_count": 40,
     "metadata": {},
     "output_type": "execute_result"
    }
   ],
   "source": [
    "fig = px.line(df, x = 'Year', y = 'GDP', title = 'GDP Comparison', color = 'Country Name')\n",
    "pyo.plot(fig, filename = 'GDP Growth.html', auto_open = True)"
   ]
  },
  {
   "cell_type": "markdown",
   "id": "0c6e1f3e",
   "metadata": {},
   "source": [
    "## GDP Growth of All Countries Graph Individual"
   ]
  },
  {
   "cell_type": "code",
   "execution_count": 41,
   "id": "6fe3b1c3",
   "metadata": {},
   "outputs": [],
   "source": [
    "os.mkdir('GDP Growth Individual')\n",
    "\n",
    "for country_name in df['Country Code'].unique():\n",
    "\n",
    "    df_pr = df[df['Country Code'] == country_name]\n",
    "\n",
    "    fig = px.line(df_pr, x = 'Year', y = 'GDP', title = country_name)\n",
    "    pyo.plot(fig, filename = 'GDP Growth Individual/' + country_name + '.html', auto_open = False)"
   ]
  },
  {
   "cell_type": "markdown",
   "id": "97b8fe7f",
   "metadata": {},
   "source": [
    "## GDP Growth between 1960 - 2016"
   ]
  },
  {
   "cell_type": "code",
   "execution_count": 42,
   "id": "d1ea26e7",
   "metadata": {},
   "outputs": [],
   "source": [
    "dfs = []\n",
    "\n",
    "for country_name in df['Country Name'].unique():\n",
    "    df_pr = df[df['Country Name'] == country_name]\n",
    "    \n",
    "    if (len(df_pr) == 57):\n",
    "        dfs.append(df_pr)\n",
    "        \n",
    "df_pr = pd.concat(dfs, axis = 0)"
   ]
  },
  {
   "cell_type": "code",
   "execution_count": 43,
   "id": "63e6c614",
   "metadata": {},
   "outputs": [
    {
     "data": {
      "text/html": [
       "<div>\n",
       "<style scoped>\n",
       "    .dataframe tbody tr th:only-of-type {\n",
       "        vertical-align: middle;\n",
       "    }\n",
       "\n",
       "    .dataframe tbody tr th {\n",
       "        vertical-align: top;\n",
       "    }\n",
       "\n",
       "    .dataframe thead th {\n",
       "        text-align: right;\n",
       "    }\n",
       "</style>\n",
       "<table border=\"1\" class=\"dataframe\">\n",
       "  <thead>\n",
       "    <tr style=\"text-align: right;\">\n",
       "      <th></th>\n",
       "      <th>Country Name</th>\n",
       "      <th>Country Code</th>\n",
       "      <th>Year</th>\n",
       "      <th>Value</th>\n",
       "      <th>GDP</th>\n",
       "    </tr>\n",
       "  </thead>\n",
       "  <tbody>\n",
       "    <tr>\n",
       "      <th>49</th>\n",
       "      <td>Caribbean small states</td>\n",
       "      <td>CSS</td>\n",
       "      <td>1960</td>\n",
       "      <td>2.004785e+09</td>\n",
       "      <td>0.00</td>\n",
       "    </tr>\n",
       "    <tr>\n",
       "      <th>50</th>\n",
       "      <td>Caribbean small states</td>\n",
       "      <td>CSS</td>\n",
       "      <td>1961</td>\n",
       "      <td>2.169733e+09</td>\n",
       "      <td>8.23</td>\n",
       "    </tr>\n",
       "    <tr>\n",
       "      <th>51</th>\n",
       "      <td>Caribbean small states</td>\n",
       "      <td>CSS</td>\n",
       "      <td>1962</td>\n",
       "      <td>2.289495e+09</td>\n",
       "      <td>5.52</td>\n",
       "    </tr>\n",
       "    <tr>\n",
       "      <th>52</th>\n",
       "      <td>Caribbean small states</td>\n",
       "      <td>CSS</td>\n",
       "      <td>1963</td>\n",
       "      <td>2.431592e+09</td>\n",
       "      <td>6.21</td>\n",
       "    </tr>\n",
       "    <tr>\n",
       "      <th>53</th>\n",
       "      <td>Caribbean small states</td>\n",
       "      <td>CSS</td>\n",
       "      <td>1964</td>\n",
       "      <td>2.626896e+09</td>\n",
       "      <td>8.03</td>\n",
       "    </tr>\n",
       "    <tr>\n",
       "      <th>...</th>\n",
       "      <td>...</td>\n",
       "      <td>...</td>\n",
       "      <td>...</td>\n",
       "      <td>...</td>\n",
       "      <td>...</td>\n",
       "    </tr>\n",
       "    <tr>\n",
       "      <th>11502</th>\n",
       "      <td>Zimbabwe</td>\n",
       "      <td>ZWE</td>\n",
       "      <td>2012</td>\n",
       "      <td>1.424249e+10</td>\n",
       "      <td>17.72</td>\n",
       "    </tr>\n",
       "    <tr>\n",
       "      <th>11503</th>\n",
       "      <td>Zimbabwe</td>\n",
       "      <td>ZWE</td>\n",
       "      <td>2013</td>\n",
       "      <td>1.545177e+10</td>\n",
       "      <td>8.49</td>\n",
       "    </tr>\n",
       "    <tr>\n",
       "      <th>11504</th>\n",
       "      <td>Zimbabwe</td>\n",
       "      <td>ZWE</td>\n",
       "      <td>2014</td>\n",
       "      <td>1.589105e+10</td>\n",
       "      <td>2.84</td>\n",
       "    </tr>\n",
       "    <tr>\n",
       "      <th>11505</th>\n",
       "      <td>Zimbabwe</td>\n",
       "      <td>ZWE</td>\n",
       "      <td>2015</td>\n",
       "      <td>1.630467e+10</td>\n",
       "      <td>2.60</td>\n",
       "    </tr>\n",
       "    <tr>\n",
       "      <th>11506</th>\n",
       "      <td>Zimbabwe</td>\n",
       "      <td>ZWE</td>\n",
       "      <td>2016</td>\n",
       "      <td>1.661996e+10</td>\n",
       "      <td>1.93</td>\n",
       "    </tr>\n",
       "  </tbody>\n",
       "</table>\n",
       "<p>6840 rows × 5 columns</p>\n",
       "</div>"
      ],
      "text/plain": [
       "                 Country Name Country Code  Year         Value    GDP\n",
       "49     Caribbean small states          CSS  1960  2.004785e+09   0.00\n",
       "50     Caribbean small states          CSS  1961  2.169733e+09   8.23\n",
       "51     Caribbean small states          CSS  1962  2.289495e+09   5.52\n",
       "52     Caribbean small states          CSS  1963  2.431592e+09   6.21\n",
       "53     Caribbean small states          CSS  1964  2.626896e+09   8.03\n",
       "...                       ...          ...   ...           ...    ...\n",
       "11502                Zimbabwe          ZWE  2012  1.424249e+10  17.72\n",
       "11503                Zimbabwe          ZWE  2013  1.545177e+10   8.49\n",
       "11504                Zimbabwe          ZWE  2014  1.589105e+10   2.84\n",
       "11505                Zimbabwe          ZWE  2015  1.630467e+10   2.60\n",
       "11506                Zimbabwe          ZWE  2016  1.661996e+10   1.93\n",
       "\n",
       "[6840 rows x 5 columns]"
      ]
     },
     "execution_count": 43,
     "metadata": {},
     "output_type": "execute_result"
    }
   ],
   "source": [
    "df_pr"
   ]
  },
  {
   "cell_type": "code",
   "execution_count": 44,
   "id": "6f590406",
   "metadata": {},
   "outputs": [
    {
     "data": {
      "text/plain": [
       "'GDP Growth.html'"
      ]
     },
     "execution_count": 44,
     "metadata": {},
     "output_type": "execute_result"
    }
   ],
   "source": [
    "fig = px.line(df_pr, x = 'Year', y = 'GDP', title = 'GDP Growth', color = 'Country Name')\n",
    "\n",
    "pyo.plot(fig, filename = 'GDP Growth.html', auto_open = True)"
   ]
  },
  {
   "cell_type": "code",
   "execution_count": null,
   "id": "b3d6e635",
   "metadata": {},
   "outputs": [],
   "source": []
  }
 ],
 "metadata": {
  "kernelspec": {
   "display_name": "Python 3 (ipykernel)",
   "language": "python",
   "name": "python3"
  },
  "language_info": {
   "codemirror_mode": {
    "name": "ipython",
    "version": 3
   },
   "file_extension": ".py",
   "mimetype": "text/x-python",
   "name": "python",
   "nbconvert_exporter": "python",
   "pygments_lexer": "ipython3",
   "version": "3.9.13"
  }
 },
 "nbformat": 4,
 "nbformat_minor": 5
}
